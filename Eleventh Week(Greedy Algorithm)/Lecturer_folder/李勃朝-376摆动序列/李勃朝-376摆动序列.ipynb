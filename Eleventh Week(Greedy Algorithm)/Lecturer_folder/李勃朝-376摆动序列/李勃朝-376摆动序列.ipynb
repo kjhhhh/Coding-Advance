{
 "cells": [
  {
   "cell_type": "code",
   "execution_count": 9,
   "metadata": {},
   "outputs": [],
   "source": [
    "### 贪心算法\n",
    "\n",
    "# 输入：nums = [1,7,4,9,2,5]\n",
    "# 输出：6\n",
    "# 解释：整个序列均为摆动序列，各元素之间的差值为 (6, -3, 5, -7, 3) 。\n",
    "# 差值正负交替出现\n",
    "def wiggleMaxLength(nums):\n",
    "    \"\"\"\n",
    "    :type nums: List[int]\n",
    "    :rtype: int\n",
    "    \"\"\"\n",
    "    Difference=[]\n",
    "    if len(nums)==1:\n",
    "        return 1\n",
    "    else:\n",
    "        for i in range(len(nums)-1):\n",
    "            di=nums[i+1]-nums[i]\n",
    "            if len(Difference)==0:\n",
    "                if di!=0:\n",
    "                    Difference.append(di)\n",
    "            else:\n",
    "                if di *Difference[-1]<0:\n",
    "                    Difference.append(di)\n",
    "        return len(Difference)+1"
   ]
  },
  {
   "cell_type": "code",
   "execution_count": 10,
   "metadata": {},
   "outputs": [
    {
     "name": "stdout",
     "output_type": "stream",
     "text": [
      "6\n"
     ]
    }
   ],
   "source": [
    "nums1 = [1, 7, 4, 9, 2, 5]\n",
    "nums2 = [1, 2]\n",
    "nums3 = [1]\n",
    "nums4 = [0, 0]\n",
    "nums5 = [0, 0, 0]\n",
    "nums6 = [1, 10]\n",
    "print(wiggleMaxLength(nums1))"
   ]
  },
  {
   "cell_type": "code",
   "execution_count": null,
   "metadata": {},
   "outputs": [],
   "source": []
  },
  {
   "cell_type": "code",
   "execution_count": null,
   "metadata": {},
   "outputs": [],
   "source": [
    "# 计次优化空间\n",
    "def wiggleMaxLength(nums):\n",
    "    n = len(nums)\n",
    "    if n < 2:\n",
    "        return n\n",
    "\n",
    "    prevdiff = nums[1] - nums[0]\n",
    "    ret = (2 if prevdiff != 0 else 1)\n",
    "    \n",
    "    for i in range(2, n):\n",
    "        diff = nums[i] - nums[i - 1]\n",
    "        if (diff > 0 and prevdiff <= 0) or (diff < 0 and prevdiff >= 0):\n",
    "            ret += 1\n",
    "            prevdiff = diff\n",
    "\n",
    "    return ret\n",
    "\n",
    "\n",
    "nums0 = [1, 17, 5, 10, 13, 15, 10, 5, 16, 8]\n",
    "nums1 = [1, 7, 4, 9, 2, 5]\n",
    "nums2 = [1, 2]\n",
    "nums3 = [1]\n",
    "nums4 = [0, 0]\n",
    "nums5 = [0, 0, 0]\n",
    "nums6 = [1, 10]\n",
    "print(wiggleMaxLength(nums0))"
   ]
  },
  {
   "cell_type": "code",
   "execution_count": null,
   "metadata": {},
   "outputs": [],
   "source": []
  },
  {
   "cell_type": "code",
   "execution_count": null,
   "metadata": {},
   "outputs": [],
   "source": []
  }
 ],
 "metadata": {
  "kernelspec": {
   "display_name": "Python 3",
   "language": "python",
   "name": "python3"
  },
  "language_info": {
   "codemirror_mode": {
    "name": "ipython",
    "version": 3
   },
   "file_extension": ".py",
   "mimetype": "text/x-python",
   "name": "python",
   "nbconvert_exporter": "python",
   "pygments_lexer": "ipython3",
   "version": "3.8.5"
  }
 },
 "nbformat": 4,
 "nbformat_minor": 4
}
