{
 "cells": [
  {
   "cell_type": "code",
   "execution_count": 1,
   "id": "ef309601-4583-47d4-a0ad-9ecf7938c30a",
   "metadata": {},
   "outputs": [],
   "source": [
    "points = [[10,16],[2,8],[1,6],[7,12]]"
   ]
  },
  {
   "cell_type": "code",
   "execution_count": 2,
   "id": "efbdcffc-4640-4084-a722-134624ca472e",
   "metadata": {},
   "outputs": [],
   "source": [
    "class Solution(object):\n",
    "    def findMinArrowShots(self, points):\n",
    "        \"\"\"\n",
    "        :type points: List[List[int]]\n",
    "        :rtype: int\n",
    "        \"\"\"\n",
    "        points.sort(key=lambda x:x[0])\n",
    "        res = 1 \n",
    "        for i in range(len(points)-1):\n",
    "            if points[i][1] < points[i+1][0]:\n",
    "                res += 1\n",
    "            else :\n",
    "                points[i+1][1] = min(points[i][1],points[i+1][1])\n",
    "        return res\n"
   ]
  },
  {
   "cell_type": "code",
   "execution_count": 3,
   "id": "504a6f54-08bf-4157-9657-8f3b0b55ca08",
   "metadata": {},
   "outputs": [
    {
     "data": {
      "text/plain": [
       "2"
      ]
     },
     "execution_count": 3,
     "metadata": {},
     "output_type": "execute_result"
    }
   ],
   "source": [
    "Solution().findMinArrowShots(points)"
   ]
  }
 ],
 "metadata": {
  "kernelspec": {
   "display_name": "Python 3 (ipykernel)",
   "language": "python",
   "name": "python3"
  },
  "language_info": {
   "codemirror_mode": {
    "name": "ipython",
    "version": 3
   },
   "file_extension": ".py",
   "mimetype": "text/x-python",
   "name": "python",
   "nbconvert_exporter": "python",
   "pygments_lexer": "ipython3",
   "version": "3.11.0"
  }
 },
 "nbformat": 4,
 "nbformat_minor": 5
}
