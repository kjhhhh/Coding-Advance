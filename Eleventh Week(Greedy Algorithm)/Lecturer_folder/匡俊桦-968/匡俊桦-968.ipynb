{
 "cells": [
  {
   "cell_type": "code",
   "execution_count": 1,
   "id": "f30d0d9a-b49f-4ade-ba47-835a0f7a865b",
   "metadata": {},
   "outputs": [],
   "source": [
    "# Definition for a binary tree node.\n",
    "class TreeNode:\n",
    "    def __init__(self, val=0, left=None, right=None):\n",
    "        self.val = val\n",
    "        self.left = left\n",
    "        self.right = right"
   ]
  },
  {
   "cell_type": "code",
   "execution_count": 2,
   "id": "13637201-72fb-47fb-84a8-01db7c83b550",
   "metadata": {},
   "outputs": [],
   "source": [
    "root = TreeNode(0)\n",
    "root.left = TreeNode(0)\n",
    "root.left.left = TreeNode(0)\n",
    "root.left.left.left = TreeNode(0)\n",
    "root.left.left.left.right = TreeNode(0)"
   ]
  },
  {
   "cell_type": "code",
   "execution_count": 6,
   "id": "76ba2bbf-d01c-4f18-a70f-9c9db7b0a21a",
   "metadata": {},
   "outputs": [],
   "source": [
    "import sys\n",
    "class Solution:\n",
    "    def minCameraCover(self, root) :\n",
    "        def minCam(root, placeCam, parentWatched):\n",
    "            if root == None:\n",
    "                if placeCam:\n",
    "                    return sys.maxsize\n",
    "                else:\n",
    "                    return 0\n",
    "            if placeCam:\n",
    "                return 1 + min(\n",
    "                    minCam(root.left, False, True) + minCam(root.right, False, True),\n",
    "                    minCam(root.left, True, True) + minCam(root.right, False, True),\n",
    "                    minCam(root.left, False, True) + minCam(root.right, True, True)\n",
    "                )\n",
    "            else:\n",
    "                if parentWatched:\n",
    "                    return min(\n",
    "                        minCam(root.left, True, True) + minCam(root.right, True, True),\n",
    "                        minCam(root.left, True, True) + minCam(root.right, False, False),\n",
    "                        minCam(root.left, False, False) + minCam(root.right, True, True),\n",
    "                        minCam(root.left, False, False) + minCam(root.right, False, False)\n",
    "                    )\n",
    "                else:\n",
    "                    return min(\n",
    "                        minCam(root.left, True, True) + minCam(root.right, True, True),\n",
    "                        minCam(root.left, True, True) + minCam(root.right, False, False),\n",
    "                        minCam(root.left, False, False) + minCam(root.right, True, True)\n",
    "                    )\n",
    "        return min(minCam(root, True, True), minCam(root, False, False))"
   ]
  },
  {
   "cell_type": "code",
   "execution_count": 7,
   "id": "b5abb8b6-9eb7-4674-95b6-6e6782346102",
   "metadata": {},
   "outputs": [
    {
     "data": {
      "text/plain": [
       "2"
      ]
     },
     "execution_count": 7,
     "metadata": {},
     "output_type": "execute_result"
    }
   ],
   "source": [
    "Solution().minCameraCover(root)"
   ]
  },
  {
   "cell_type": "code",
   "execution_count": 9,
   "id": "8bfe2691-7813-48c0-852b-1e27d13cfa94",
   "metadata": {},
   "outputs": [],
   "source": [
    "# Definition for a binary tree node.\n",
    "# class TreeNode:\n",
    "#     def __init__(self, val=0, left=None, right=None):\n",
    "#         self.val = val\n",
    "#         self.left = left\n",
    "#         self.right = right\n",
    "class Solution2:\n",
    "    def minCameraCover(self, root) :\n",
    "        # Greedy Algo:\n",
    "        # 从下往上安装摄像头：跳过leaves这样安装数量最少，局部最优 -> 全局最优\n",
    "        # 先给leaves的父节点安装，然后每隔两层节点安装一个摄像头，直到Head\n",
    "        # 0: 该节点未覆盖\n",
    "        # 1: 该节点有摄像头\n",
    "        # 2: 该节点有覆盖\n",
    "\n",
    "        result = 0\n",
    "        # 从下往上遍历：后序（左右中）\n",
    "        def traversal(curr: TreeNode) -> int:\n",
    "            nonlocal result\n",
    "\n",
    "            if not curr: return 2\n",
    "            left = traversal(curr.left)\n",
    "            right = traversal(curr.right)\n",
    "\n",
    "            # Case 1:\n",
    "            # 左右节点都有覆盖\n",
    "            if left == 2 and right == 2:\n",
    "                return 0\n",
    "\n",
    "            # Case 2:\n",
    "                # left == 0 && right == 0 左右节点无覆盖\n",
    "                # left == 1 && right == 0 左节点有摄像头，右节点无覆盖\n",
    "                # left == 0 && right == 1 左节点有无覆盖，右节点摄像头\n",
    "                # left == 0 && right == 2 左节点无覆盖，右节点覆盖\n",
    "                # left == 2 && right == 0 左节点覆盖，右节点无覆盖\n",
    "            elif left == 0 or right == 0:\n",
    "                result += 1\n",
    "                return 1\n",
    "\n",
    "            # Case 3:\n",
    "                # left == 1 && right == 2 左节点有摄像头，右节点有覆盖\n",
    "                # left == 2 && right == 1 左节点有覆盖，右节点有摄像头\n",
    "                # left == 1 && right == 1 左右节点都有摄像头\n",
    "            elif left == 1 or right == 1:\n",
    "                return 2\n",
    "\n",
    "            # 其他情况前段代码均已覆盖\n",
    "\n",
    "        if traversal(root) == 0:\n",
    "            result += 1\n",
    "\n",
    "        return result"
   ]
  },
  {
   "cell_type": "code",
   "execution_count": 10,
   "id": "ebee792d-3a05-4ea6-87cc-25b87a31e931",
   "metadata": {},
   "outputs": [
    {
     "data": {
      "text/plain": [
       "2"
      ]
     },
     "execution_count": 10,
     "metadata": {},
     "output_type": "execute_result"
    }
   ],
   "source": [
    "Solution2().minCameraCover(root)"
   ]
  }
 ],
 "metadata": {
  "kernelspec": {
   "display_name": "Python 3 (ipykernel)",
   "language": "python",
   "name": "python3"
  },
  "language_info": {
   "codemirror_mode": {
    "name": "ipython",
    "version": 3
   },
   "file_extension": ".py",
   "mimetype": "text/x-python",
   "name": "python",
   "nbconvert_exporter": "python",
   "pygments_lexer": "ipython3",
   "version": "3.11.0"
  }
 },
 "nbformat": 4,
 "nbformat_minor": 5
}
