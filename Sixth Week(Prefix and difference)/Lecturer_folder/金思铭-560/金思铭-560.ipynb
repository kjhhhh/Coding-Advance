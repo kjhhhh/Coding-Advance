{
 "cells": [
  {
   "cell_type": "code",
   "execution_count": 24,
   "id": "40cef956",
   "metadata": {},
   "outputs": [],
   "source": [
    "from collections import defaultdict\n",
    "nums = [1,2,3]\n",
    "k = 3"
   ]
  },
  {
   "cell_type": "code",
   "execution_count": 25,
   "id": "11f8164f",
   "metadata": {},
   "outputs": [],
   "source": [
    "sum = 0\n",
    "count = 0\n",
    "length = len(nums)"
   ]
  },
  {
   "cell_type": "code",
   "execution_count": 26,
   "id": "2ef30786",
   "metadata": {},
   "outputs": [],
   "source": [
    "# for i in range(length):\n",
    "#     count = 0\n",
    "#     for j in range(i,length):\n",
    "#         count += nums[j]\n",
    "#         if count == k:\n",
    "#             sum += 1\n",
    "\n",
    "# print(sum)"
   ]
  },
  {
   "cell_type": "code",
   "execution_count": null,
   "id": "3a83b2b6",
   "metadata": {},
   "outputs": [],
   "source": []
  },
  {
   "cell_type": "code",
   "execution_count": 27,
   "id": "e8d639ee",
   "metadata": {},
   "outputs": [],
   "source": [
    "# sumList = [0]\n",
    "# for i in range(length):\n",
    "#     count += nums[i]\n",
    "#     sumList.append(count)\n",
    "# print(sumList)"
   ]
  },
  {
   "cell_type": "code",
   "execution_count": 28,
   "id": "950d9ca3",
   "metadata": {},
   "outputs": [],
   "source": [
    "# for i in range(length):\n",
    "#     for j in range(i+1,length+1):\n",
    "#         if sumList[j] - sumList[i] == k:\n",
    "#             sum += 1\n",
    "\n",
    "# print(sum)"
   ]
  },
  {
   "cell_type": "code",
   "execution_count": 29,
   "id": "16569cc8",
   "metadata": {},
   "outputs": [],
   "source": [
    "sumList = defaultdict(int)\n",
    "sumList[0] = 1"
   ]
  },
  {
   "cell_type": "code",
   "execution_count": 30,
   "id": "b0a96ac6",
   "metadata": {},
   "outputs": [
    {
     "name": "stdout",
     "output_type": "stream",
     "text": [
      "defaultdict(<class 'int'>, {0: 1, 1: 1, -2: 0, 3: 1, 6: 1})\n"
     ]
    }
   ],
   "source": [
    "for i in range(length):\n",
    "    count += nums[i]\n",
    "    sumList[count] = 1\n",
    "    sum += sumList[count-k]\n",
    "\n",
    "print(sumList)"
   ]
  },
  {
   "cell_type": "code",
   "execution_count": null,
   "id": "79272ab0",
   "metadata": {},
   "outputs": [],
   "source": []
  }
 ],
 "metadata": {
  "kernelspec": {
   "display_name": "Python 3 (ipykernel)",
   "language": "python",
   "name": "python3"
  },
  "language_info": {
   "codemirror_mode": {
    "name": "ipython",
    "version": 3
   },
   "file_extension": ".py",
   "mimetype": "text/x-python",
   "name": "python",
   "nbconvert_exporter": "python",
   "pygments_lexer": "ipython3",
   "version": "3.9.0"
  }
 },
 "nbformat": 4,
 "nbformat_minor": 5
}
