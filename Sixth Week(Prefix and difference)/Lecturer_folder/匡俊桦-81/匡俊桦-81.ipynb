{
 "cells": [
  {
   "cell_type": "code",
   "execution_count": 3,
   "id": "0757d507",
   "metadata": {},
   "outputs": [
    {
     "data": {
      "text/plain": [
       "False"
      ]
     },
     "execution_count": 3,
     "metadata": {},
     "output_type": "execute_result"
    }
   ],
   "source": [
    "\"\"\"方法一：依次遍历数组元素\"\"\"\n",
    "#class Solution:\n",
    "#     def search(self,nums,target):\n",
    "#         for i in range(len(nums)):\n",
    "#             if nums[i]==target:\n",
    "#                 return True\n",
    "#         return False\n",
    "\n",
    "# nums=[1,0,1,1,1]\n",
    "# target=3\n",
    "# Solution().search(nums,target) "
   ]
  },
  {
   "cell_type": "code",
   "execution_count": 8,
   "id": "fbc0e4a9",
   "metadata": {},
   "outputs": [
    {
     "data": {
      "text/plain": [
       "True"
      ]
     },
     "execution_count": 8,
     "metadata": {},
     "output_type": "execute_result"
    }
   ],
   "source": [
    "\"\"\"方法二：二分查找\"\"\"\n",
    "class Solution:\n",
    "    def search(self,nums,target):\n",
    "        # 数组为空时，直接返回False\n",
    "        if len(nums)==0:\n",
    "            return False\n",
    "        # 数组进一个元素时，直接判断\n",
    "        if len(nums)==1:\n",
    "            return True if nums[0]==target else False\n",
    "        left,right=0,len(nums)-1\n",
    "        while left<=right:\n",
    "            mid=(left+right)//2\n",
    "            if nums[mid]==target:\n",
    "                return True\n",
    "            # 划分数组,并判断\n",
    "            # 左边界的值=中间位置值=右边界的值时，构建新数组\n",
    "            if nums[left]==nums[mid]==nums[right]:\n",
    "                left+=1\n",
    "                right-=1\n",
    "            elif nums[left]<=nums[mid]:\n",
    "                # 左边的数组是有序数组，且target存在于区间内，则移动右指针；否则，移动左指针\n",
    "                if nums[left]<=target<=nums[mid]:\n",
    "                    right=mid-1\n",
    "                else:\n",
    "                    left=mid+1\n",
    "            else:\n",
    "                # 右边的数组是有序数组，且target存在于区间内，则移动左指针；否则，移动否指针\n",
    "                if nums[mid]<target<=nums[len(nums)-1]:\n",
    "                    left=mid+1\n",
    "                else:\n",
    "                    right=mid-1\n",
    "        return False\n",
    "\n",
    "# nums=[4,5,6,7,0,1,2]\n",
    "nums=[1,0,1,1,1]\n",
    "target=0\n",
    "Solution().search(nums,target) \n",
    "# nums=[1,0,1,1,1]\n",
    "# nums = [4,5,6,7,0,1,2]\n",
    "# nums = [1,1,1,1,1,1,1,1,1,1,1,1,1,2,1,1,1,1,1]"
   ]
  },
  {
   "cell_type": "code",
   "execution_count": 83,
   "id": "e5bd2ea6-94bb-4146-8b58-77d73dfa5041",
   "metadata": {},
   "outputs": [
    {
     "data": {
      "text/plain": [
       "False"
      ]
     },
     "execution_count": 83,
     "metadata": {},
     "output_type": "execute_result"
    }
   ],
   "source": [
    "\"\"\"方法三：递归\"\"\"\n",
    "class Solution:\n",
    "    def search(self,nums,target):\n",
    "        def binary_search(nums,target):\n",
    "            left,right = 0,len(nums)-1\n",
    "            while left<=right:\n",
    "                mid = (left+right)>>1\n",
    "                if nums[mid] == target:\n",
    "                    return True\n",
    "                elif nums[mid]>target:\n",
    "                    right = mid-1\n",
    "                elif nums[mid]<target:\n",
    "                    left = mid+1\n",
    "            return False\n",
    "        \n",
    "        if len(nums)==1:\n",
    "            return True if nums[0]==target else False\n",
    "        \n",
    "        left,right = 0,len(nums)-1\n",
    "        ans_left = False\n",
    "        ans_right = False\n",
    "        mid=(left+right)>>1\n",
    "        if nums[mid]==target:\n",
    "            return True\n",
    "        if nums[left]<nums[mid]:\n",
    "            ans_left = binary_search(nums[left:mid+1],target)\n",
    "            ans_right = self.search(nums[mid+1:right+1],target)\n",
    "        elif nums[mid]<nums[right]:\n",
    "            ans_right = binary_search(nums[mid+1:right+1],target)\n",
    "            ans_left = self.search(nums[left:mid+1],target)\n",
    "        else:\n",
    "            ans_left = self.search(nums[left:mid+1],target) \n",
    "            ans_right = self.search(nums[mid+1:right+1],target)\n",
    "        return ans_left or ans_right\n",
    "\n",
    "# nums=[4,5,6,7,0,1,2]\n",
    "nums=[1,0,1,1,1]\n",
    "target=2\n",
    "Solution().search(nums,target) \n",
    "# nums=[1,0,1,1,1]\n",
    "# nums = [4,5,6,7,0,1,2]\n",
    "# nums = [1,1,1,1,1,1,1,1,1,1,1,1,1,2,1,1,1,1,1]"
   ]
  },
  {
   "cell_type": "code",
   "execution_count": null,
   "id": "c26f8093-2d19-41fa-9b6c-a0900af09755",
   "metadata": {},
   "outputs": [],
   "source": []
  }
 ],
 "metadata": {
  "kernelspec": {
   "display_name": "Python 3 (ipykernel)",
   "language": "python",
   "name": "python3"
  },
  "language_info": {
   "codemirror_mode": {
    "name": "ipython",
    "version": 3
   },
   "file_extension": ".py",
   "mimetype": "text/x-python",
   "name": "python",
   "nbconvert_exporter": "python",
   "pygments_lexer": "ipython3",
   "version": "3.9.7"
  }
 },
 "nbformat": 4,
 "nbformat_minor": 5
}
