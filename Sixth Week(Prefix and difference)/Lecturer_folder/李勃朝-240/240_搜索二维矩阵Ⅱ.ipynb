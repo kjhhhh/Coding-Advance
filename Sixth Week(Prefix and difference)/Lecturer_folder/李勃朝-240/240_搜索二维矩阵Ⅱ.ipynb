{
 "cells": [
  {
   "cell_type": "code",
   "execution_count": 91,
   "metadata": {},
   "outputs": [
    {
     "name": "stdout",
     "output_type": "stream",
     "text": [
      "1\n"
     ]
    }
   ],
   "source": [
    "if True or False:\n",
    "    print(1)\n",
    "else:\n",
    "    print(0)\n",
    "        "
   ]
  },
  {
   "cell_type": "code",
   "execution_count": 92,
   "metadata": {},
   "outputs": [],
   "source": [
    "matrix = [[1,4,7,11,15],[2,5,8,12,19],[3,6,9,16,22],[10,13,14,17,24],[18,21,23,26,30]]\n",
    "# matrix=[[5]]\n",
    "top = 0\n",
    "bottom = len(matrix)-1  # 行值\n",
    "left = 0\n",
    "right = len(matrix[0])-1  # 列值"
   ]
  },
  {
   "cell_type": "code",
   "execution_count": 93,
   "metadata": {},
   "outputs": [],
   "source": [
    "def searchMatrix(matrix, top, bottom, left, right, target):\n",
    "    i = int((top + bottom) / 2)\n",
    "    j = int((left + right) / 2)\n",
    "    if matrix[top][left]==target:\n",
    "        return True\n",
    "    if matrix[bottom][right]==target:\n",
    "        return True\n",
    "    if 0 < i < bottom and 0 < j < right:\n",
    "        if matrix[i][j] == target:\n",
    "            return True\n",
    "        elif matrix[i][j] > target:\n",
    "            # 排除大于matrix[i][j]区域，对小于matrix[i][j]区域进行递归寻找target\n",
    "            if searchMatrix(matrix, top, bottom, left, j, target) or searchMatrix(matrix, top, i, j, right, target):\n",
    "                return True\n",
    "            else:\n",
    "                return False\n",
    "        else:\n",
    "            # 排除小于matrix[i][j]区域，对大于matrix[i][j]区域进行递归寻找target\n",
    "            if searchMatrix(matrix, top, i, j, right, target) or searchMatrix(matrix, i, bottom, left, right, target):\n",
    "                return True\n",
    "            else:\n",
    "                return False\n",
    "    else:\n",
    "        return False\n"
   ]
  },
  {
   "cell_type": "code",
   "execution_count": 94,
   "metadata": {},
   "outputs": [
    {
     "data": {
      "text/plain": [
       "True"
      ]
     },
     "execution_count": 94,
     "metadata": {},
     "output_type": "execute_result"
    }
   ],
   "source": [
    "searchMatrix(matrix, top, bottom, left, right, 12)"
   ]
  },
  {
   "cell_type": "code",
   "execution_count": null,
   "metadata": {},
   "outputs": [],
   "source": []
  },
  {
   "cell_type": "code",
   "execution_count": null,
   "metadata": {},
   "outputs": [],
   "source": []
  }
 ],
 "metadata": {
  "kernelspec": {
   "display_name": "Python 3",
   "language": "python",
   "name": "python3"
  },
  "language_info": {
   "codemirror_mode": {
    "name": "ipython",
    "version": 3
   },
   "file_extension": ".py",
   "mimetype": "text/x-python",
   "name": "python",
   "nbconvert_exporter": "python",
   "pygments_lexer": "ipython3",
   "version": "3.8.5"
  }
 },
 "nbformat": 4,
 "nbformat_minor": 4
}
