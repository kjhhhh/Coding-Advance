{
 "cells": [
  {
   "cell_type": "code",
   "execution_count": 1,
   "id": "ead2c646-efd0-469e-af09-f5fa170d64ed",
   "metadata": {},
   "outputs": [],
   "source": [
    "matrix = [[1,0,1],[0,-2,3]]\n",
    "#matrix =[[2,2,-1]]\n",
    "k = 2"
   ]
  },
  {
   "cell_type": "code",
   "execution_count": 2,
   "id": "1a56651a-95c8-43c6-b7ad-6e21e19eabd0",
   "metadata": {},
   "outputs": [
    {
     "data": {
      "text/plain": [
       "[[0, 0, 0, 0], [0, 1, 1, 2], [0, 1, -1, 3]]"
      ]
     },
     "execution_count": 2,
     "metadata": {},
     "output_type": "execute_result"
    }
   ],
   "source": [
    "rowsize = len(matrix)        \n",
    "colsize = len(matrix[0])\n",
    "\n",
    "# if rowsize==0 and colsize==0：\n",
    "#     self.matrix = matrix        \n",
    "resmatrix = [[0]*(colsize+1) for _ in range((rowsize+1))]\n",
    "\n",
    "for i in range(1,rowsize+1):\n",
    "    # print(resmatrix)\n",
    "    for j in range(1,colsize+1):        \n",
    "        resmatrix[i][j] = resmatrix[i-1][j] + resmatrix[i][j-1] - resmatrix[i-1][j-1]  + matrix[i-1][j-1]\n",
    "resmatrix"
   ]
  },
  {
   "cell_type": "code",
   "execution_count": 3,
   "id": "b3275e5c-5a40-4a05-a9f5-462c13e79373",
   "metadata": {},
   "outputs": [],
   "source": [
    "def sumRegion(mat, row1, col1, row2, col2):\n",
    "    return mat[row2+1][col2+1] - mat[row1][col2+1] - mat[row2+1][col1] + mat[row1][col1]"
   ]
  },
  {
   "cell_type": "code",
   "execution_count": 4,
   "id": "917c5692-609e-45eb-b5e5-ab6875f89439",
   "metadata": {},
   "outputs": [
    {
     "data": {
      "text/plain": [
       "-1"
      ]
     },
     "execution_count": 4,
     "metadata": {},
     "output_type": "execute_result"
    }
   ],
   "source": [
    "sumRegion(resmatrix,0,0,1,1)"
   ]
  },
  {
   "cell_type": "code",
   "execution_count": 5,
   "id": "0355f199-391e-4566-9182-7bdc95c36f0c",
   "metadata": {},
   "outputs": [
    {
     "data": {
      "text/plain": [
       "2"
      ]
     },
     "execution_count": 5,
     "metadata": {},
     "output_type": "execute_result"
    }
   ],
   "source": [
    "#naive\n",
    "maxres=None\n",
    "for row1 in range(0,rowsize): \n",
    "    for row2 in range(row1, rowsize):\n",
    "        for col1 in range(0,colsize):       \n",
    "            for col2 in range(col1,colsize):                 \n",
    "                ret = sumRegion(resmatrix, row1, col1, row2, col2)\n",
    "                if ret <= k :\n",
    "                    if maxres == None:\n",
    "                        maxres = ret\n",
    "                    else:\n",
    "                        maxres = max(maxres,ret)\n",
    "maxres"
   ]
  },
  {
   "cell_type": "code",
   "execution_count": 6,
   "id": "b9c7e51d-7600-4fe5-8498-b153b6f686a0",
   "metadata": {},
   "outputs": [
    {
     "name": "stdout",
     "output_type": "stream",
     "text": [
      "Requirement already satisfied: sortedcontainers in /home/yxp/miniconda3/lib/python3.8/site-packages (2.4.0)\n",
      "Note: you may need to restart the kernel to use updated packages.\n"
     ]
    }
   ],
   "source": [
    "pip install sortedcontainers"
   ]
  },
  {
   "cell_type": "code",
   "execution_count": 7,
   "id": "2062f1f8-d29b-4699-9066-499197885df6",
   "metadata": {},
   "outputs": [
    {
     "data": {
      "text/plain": [
       "2"
      ]
     },
     "execution_count": 7,
     "metadata": {},
     "output_type": "execute_result"
    }
   ],
   "source": [
    "from sortedcontainers import SortedList\n",
    "\n",
    "\n",
    "ans = float(\"-inf\")\n",
    "m, n = len(matrix), len(matrix[0])\n",
    "\n",
    "for i in range(m):   # 枚举上边界\n",
    "    presum = [0] * n\n",
    "    for j in range(i, m):   # 枚举下边界\n",
    "        for c in range(n):\n",
    "            presum[c] += matrix[j][c]   # 更新每列的元素和\n",
    "\n",
    "        sortset = SortedList([0])\n",
    "        r = 0\n",
    "        # k >= r - l  需要寻找最小的满足 l >= r - k\n",
    "        for p in presum:\n",
    "            r += p\n",
    "            l = sortset.bisect_left(r - k)\n",
    "            if l != len(sortset):\n",
    "                ans = max(ans, r - sortset[l])\n",
    "            sortset.add(r)\n",
    "\n",
    "ans"
   ]
  },
  {
   "cell_type": "code",
   "execution_count": 11,
   "id": "1840f40e-f19b-4a6c-9178-39f87e793999",
   "metadata": {},
   "outputs": [
    {
     "name": "stdout",
     "output_type": "stream",
     "text": [
      "3\n",
      "9\n"
     ]
    }
   ],
   "source": [
    "import bisect\n",
    "sortset = SortedList([0,1,5,9,13,17])\n",
    "index = bisect.bisect_left(sortset,8)\n",
    "print(index)\n",
    "print(sortset[index])"
   ]
  },
  {
   "cell_type": "code",
   "execution_count": null,
   "id": "b9ecbd03-c8af-42e0-a618-f57f2d9344f4",
   "metadata": {},
   "outputs": [],
   "source": []
  }
 ],
 "metadata": {
  "kernelspec": {
   "display_name": "Python 3 (ipykernel)",
   "language": "python",
   "name": "python3"
  },
  "language_info": {
   "codemirror_mode": {
    "name": "ipython",
    "version": 3
   },
   "file_extension": ".py",
   "mimetype": "text/x-python",
   "name": "python",
   "nbconvert_exporter": "python",
   "pygments_lexer": "ipython3",
   "version": "3.8.16"
  }
 },
 "nbformat": 4,
 "nbformat_minor": 5
}
