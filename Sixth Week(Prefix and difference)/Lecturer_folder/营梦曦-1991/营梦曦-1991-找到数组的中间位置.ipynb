{
 "cells": [
  {
   "cell_type": "code",
   "execution_count": 9,
   "metadata": {},
   "outputs": [
    {
     "data": {
      "text/plain": [
       "-1"
      ]
     },
     "execution_count": 9,
     "metadata": {},
     "output_type": "execute_result"
    }
   ],
   "source": [
    "from typing import List\n",
    "class Solution:\n",
    "    def pivotIndex(self, nums: List[int]) -> int:\n",
    "        #1.法一：暴力解法\n",
    "        # for i in range(len(nums)):\n",
    "        #     leftSum,rightSum = 0,0\n",
    "        #     #求中心下标的左侧和\n",
    "        #     for j in range(i):\n",
    "        #         leftSum += nums[j]\n",
    "        #     #求中心下标的右侧和\n",
    "        #     for k in range(i+1,len(nums)):\n",
    "        #         rightSum += nums[k]\n",
    "        #     if leftSum == rightSum:\n",
    "        #         return i\n",
    "        # return -1\n",
    "        \n",
    "\n",
    "        #2.法二：左侧元素和与右侧元素和一起维护\n",
    "        left_sum, right_sum = 0, sum(nums)\n",
    "        for i in range(len(nums)):\n",
    "            right_sum -= nums[i]\n",
    "            # 若左侧元素和等于右侧元素和，返回中心下标 i\n",
    "            if left_sum == right_sum:\n",
    "                return i\n",
    "            left_sum += nums[i]\n",
    "        return -1\n",
    "\n",
    "                  \n",
    "    \n",
    "if __name__ == '__main__':\n",
    "    nums1 = [2,3,-1,8,4]   #输出：3\n",
    "    nums2 = [1,-1,4]       #输出：2\n",
    "    nums3 = [2,5]          #输出：-1\n",
    "    s=Solution()\n",
    "    ls = s.pivotIndex(nums3)\n",
    "ls"
   ]
  },
  {
   "cell_type": "code",
   "execution_count": null,
   "metadata": {},
   "outputs": [],
   "source": []
  }
 ],
 "metadata": {
  "kernelspec": {
   "display_name": "Python 3",
   "language": "python",
   "name": "python3"
  },
  "language_info": {
   "codemirror_mode": {
    "name": "ipython",
    "version": 3
   },
   "file_extension": ".py",
   "mimetype": "text/x-python",
   "name": "python",
   "nbconvert_exporter": "python",
   "pygments_lexer": "ipython3",
   "version": "3.7.4"
  }
 },
 "nbformat": 4,
 "nbformat_minor": 4
}
