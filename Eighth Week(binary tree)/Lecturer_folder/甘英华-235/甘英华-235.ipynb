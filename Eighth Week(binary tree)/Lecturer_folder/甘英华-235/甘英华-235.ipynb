{
 "cells": [
  {
   "cell_type": "code",
   "execution_count": 3,
   "metadata": {},
   "outputs": [],
   "source": [
    "#leetcode456\n",
    "class TreeNode:\n",
    "    def __init__(self, data=None):\n",
    "        self.val = data    # 节点值指针\n",
    "        self.right = None    # 右节点指针\n",
    "        self.left = None     # 左节点指针\n",
    "\n",
    "    def insert(self, data):\n",
    "        if self.val:                       # 判断是否存在根节点\n",
    "            if data < self.val:            # 若小于当前根节点，则放左边\n",
    "                if self.left is None:        # 若左边子树是空的，则添加到后面\n",
    "                    self.left = Node(data)   # 新建节点后添加入末尾\n",
    "                else:                        # 否则递归调用，直到到达末尾\n",
    "                    self.left.insert(data)\n",
    "            elif data > self.val:          # 若大于当前根节点，则放右边\n",
    "                if self.right is None:       # 若右边子树是空的，则添加到后面\n",
    "                    self.right = Node(data)  # 新建节点后添加入末尾\n",
    "                else:                        # 否则递归调用，直到到达末尾\n",
    "                    self.right.insert(data)\n",
    "        else:\n",
    "            self.val = data                # 不存在根节点，就将值设置为根节点"
   ]
  },
  {
   "cell_type": "code",
   "execution_count": 7,
   "metadata": {},
   "outputs": [],
   "source": [
    "root = TreeNode()\n",
    "li = [6,2,8,0,4,7,9,3,5]\n",
    "for data in li:\n",
    "    root.insert(data)"
   ]
  },
  {
   "cell_type": "code",
   "execution_count": 18,
   "metadata": {},
   "outputs": [],
   "source": [
    "p = TreeNode()\n",
    "p.insert(3)\n",
    "q = TreeNode()\n",
    "q.insert(5)"
   ]
  },
  {
   "cell_type": "code",
   "execution_count": 20,
   "metadata": {},
   "outputs": [],
   "source": [
    "#遍历法\n",
    "while(root != None):\n",
    "    if(p.val < root.val and q.val < root.val):\n",
    "        root =  root.left\n",
    "    elif(q.val > root.val and p.val > root.val):\n",
    "        root = root.right\n",
    "    else:\n",
    "        break\n"
   ]
  },
  {
   "cell_type": "code",
   "execution_count": 28,
   "metadata": {},
   "outputs": [
    {
     "data": {
      "text/plain": [
       "4"
      ]
     },
     "execution_count": 28,
     "metadata": {},
     "output_type": "execute_result"
    }
   ],
   "source": [
    "root.val"
   ]
  },
  {
   "cell_type": "code",
   "execution_count": 29,
   "metadata": {},
   "outputs": [],
   "source": [
    "root = TreeNode()\n",
    "li = [6,2,8,0,4,7,9,3,5]\n",
    "for data in li:\n",
    "    root.insert(data)"
   ]
  },
  {
   "cell_type": "code",
   "execution_count": 33,
   "metadata": {},
   "outputs": [],
   "source": [
    "#递归法\n",
    "def lowestCommonAncestor(root: 'TreeNode', p: 'TreeNode', q: 'TreeNode') -> 'TreeNode':\n",
    "        # 如果当前节点的值 node.val 大于 p 和 q 的值，那证明 p 和 q 在 node 的左子树中\n",
    "        if root.val > p.val and root.val > q.val:\n",
    "            # 遍历左子树\n",
    "            return lowestCommonAncestor(root.left, p, q)\n",
    "        # 如果当前节点的值 node.val 小于 p 和 q 的值，那证明 p 和 q 在 node 的右子树中\n",
    "        if root.val < p.val and root.val < q.val:\n",
    "            # 遍历右子树\n",
    "            return lowestCommonAncestor(root.right, p, q)\n",
    "        # 如果当前节点的值 node.val 在 [p, q] 之间，那 node 就是最近公共祖先。\n",
    "        return root"
   ]
  },
  {
   "cell_type": "code",
   "execution_count": 34,
   "metadata": {},
   "outputs": [
    {
     "data": {
      "text/plain": [
       "4"
      ]
     },
     "execution_count": 34,
     "metadata": {},
     "output_type": "execute_result"
    }
   ],
   "source": [
    "lowestCommonAncestor(root,p,q).val"
   ]
  },
  {
   "cell_type": "code",
   "execution_count": null,
   "metadata": {},
   "outputs": [],
   "source": []
  }
 ],
 "metadata": {
  "kernelspec": {
   "display_name": "Python 3",
   "language": "python",
   "name": "python3"
  },
  "language_info": {
   "codemirror_mode": {
    "name": "ipython",
    "version": 3
   },
   "file_extension": ".py",
   "mimetype": "text/x-python",
   "name": "python",
   "nbconvert_exporter": "python",
   "pygments_lexer": "ipython3",
   "version": "3.7.4"
  }
 },
 "nbformat": 4,
 "nbformat_minor": 2
}
