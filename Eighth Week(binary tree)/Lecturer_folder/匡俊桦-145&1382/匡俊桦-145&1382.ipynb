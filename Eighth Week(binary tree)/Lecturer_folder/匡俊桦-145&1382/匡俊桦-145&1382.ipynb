{
 "cells": [
  {
   "cell_type": "code",
   "execution_count": 14,
   "id": "f930a1ff-a7a8-47d1-be1a-53916ab66e79",
   "metadata": {},
   "outputs": [],
   "source": [
    "# Definition for a binary tree node.\n",
    "class TreeNode:\n",
    "    def __init__(self, val=0, left=None, right=None):\n",
    "        self.val = val\n",
    "        self.left = left\n",
    "        self.right = right"
   ]
  },
  {
   "cell_type": "code",
   "execution_count": 15,
   "id": "06cdb843-e9dc-45ed-bd2b-38c654474bda",
   "metadata": {},
   "outputs": [],
   "source": [
    "root = TreeNode(3)\n",
    "root.left = TreeNode(9)\n",
    "root.right = TreeNode(20)\n",
    "root.right.left = TreeNode(15)\n",
    "root.right.right = TreeNode(7)\n",
    "root.right.right.left = TreeNode(8)"
   ]
  },
  {
   "cell_type": "code",
   "execution_count": 16,
   "id": "2c876dcc-4fbe-4e9e-aaf8-725dad6a1f27",
   "metadata": {},
   "outputs": [],
   "source": [
    "class Solution3:\n",
    "    def postorderTraversal(self, root):\n",
    "        res = []\n",
    "        def postorder(root):\n",
    "            if root:\n",
    "                postorder(root.left)\n",
    "                postorder(root.right)\n",
    "                res.append(root.val)\n",
    "        postorder(root)\n",
    "        return res"
   ]
  },
  {
   "cell_type": "code",
   "execution_count": 17,
   "id": "32fff974-cc4e-46b4-9166-5c429be865f8",
   "metadata": {},
   "outputs": [
    {
     "data": {
      "text/plain": [
       "[9, 15, 8, 7, 20, 3]"
      ]
     },
     "execution_count": 17,
     "metadata": {},
     "output_type": "execute_result"
    }
   ],
   "source": [
    "Solution3().postorderTraversal(root)"
   ]
  },
  {
   "cell_type": "code",
   "execution_count": 18,
   "id": "9bb6480b-c0e2-489a-a0e7-c484c4646372",
   "metadata": {},
   "outputs": [],
   "source": [
    "# 1382题\n",
    "class Solution:\n",
    "    def balanceBST(self, root: TreeNode) -> TreeNode:\n",
    "        res = []\n",
    "        # 有序树转成有序数组 中序遍历得到升序数组\n",
    "        def traveToNums(root: TreeNode):\n",
    "            if root==None: return\n",
    "            traveToNums(root.left)\n",
    "            res.append(root.val)\n",
    "            traveToNums(root.right)\n",
    "        # 有序数组转成平衡二叉树 先序遍历得到\n",
    "        def numsToBST(nums, left, right):\n",
    "            if left > right: return \n",
    "            if left == right: return TreeNode(nums[left])\n",
    "            mid = (left+right)>>1\n",
    "            root = TreeNode(nums[mid])\n",
    "            root.left = numsToBST(nums, left, mid - 1)\n",
    "            root.right = numsToBST(nums, mid + 1, right)\n",
    "            return root\n",
    "        traveToNums(root)\n",
    "        return numsToBST(res, 0, len(res) - 1)"
   ]
  },
  {
   "cell_type": "code",
   "execution_count": 19,
   "id": "44bce6ae-19af-46bc-8bef-f43ba22f37a6",
   "metadata": {},
   "outputs": [],
   "source": [
    "root = Solution().balanceBST(root)"
   ]
  },
  {
   "cell_type": "code",
   "execution_count": 20,
   "id": "f99f929c-1b9f-4b8c-9e54-06090638c66b",
   "metadata": {},
   "outputs": [],
   "source": [
    "class Solution2:\n",
    "    def levelOrder(self,root):\n",
    "        if root == None:\n",
    "            return []\n",
    "        queue = [root]\n",
    "        temp = []\n",
    "        result = []\n",
    "        while queue:\n",
    "            length = len(queue)\n",
    "            temp = []\n",
    "            for i in range(length):\n",
    "                node = queue.pop(0)\n",
    "                if node.left != None:\n",
    "                    queue.append(node.left)\n",
    "                if node.right != None:\n",
    "                    queue.append(node.right)\n",
    "                temp.append(node.val)\n",
    "            result.append(temp)\n",
    "        return result"
   ]
  },
  {
   "cell_type": "code",
   "execution_count": 21,
   "id": "b6f8280a-d9ea-445a-b68a-5239a7c91370",
   "metadata": {},
   "outputs": [
    {
     "data": {
      "text/plain": [
       "[[15], [9, 8], [3, 20, 7]]"
      ]
     },
     "execution_count": 21,
     "metadata": {},
     "output_type": "execute_result"
    }
   ],
   "source": [
    "Solution2().levelOrder(root)"
   ]
  }
 ],
 "metadata": {
  "kernelspec": {
   "display_name": "Python 3 (ipykernel)",
   "language": "python",
   "name": "python3"
  },
  "language_info": {
   "codemirror_mode": {
    "name": "ipython",
    "version": 3
   },
   "file_extension": ".py",
   "mimetype": "text/x-python",
   "name": "python",
   "nbconvert_exporter": "python",
   "pygments_lexer": "ipython3",
   "version": "3.11.0"
  }
 },
 "nbformat": 4,
 "nbformat_minor": 5
}
