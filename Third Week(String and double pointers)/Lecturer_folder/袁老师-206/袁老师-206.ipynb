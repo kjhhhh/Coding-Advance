{
 "cells": [
  {
   "cell_type": "code",
   "execution_count": 1,
   "id": "a11e98eb-5e6c-432d-a411-056a0a5071ab",
   "metadata": {},
   "outputs": [],
   "source": [
    "class ListNode:\n",
    "    def __init__(self, val=0, next=None):\n",
    "        self.val = val\n",
    "        self.next = next\n",
    "class Solution:\n",
    "    def reverseList(self, head):\n",
    "        # head ->(1)->(2)-> (3)->(4)->(5)\n",
    "                         #cur^\n",
    "                   #pre^\n",
    "        if head == None:\n",
    "            return head\n",
    "        cur = head.next\n",
    "        pre = head        \n",
    "\n",
    "        count = 0\n",
    "        while cur:\n",
    "            #  pre , cur , cur.next= cur, cur.next, pre #wrong\n",
    "            pre, cur.next , cur = cur, pre, cur.next\n",
    "            print(cur)\n",
    "            count+=1\n",
    "            if count>=8:\n",
    "                break\n",
    "        #cur^, cur.next^, pre^\n",
    "        head.next = None\n",
    "        return pre"
   ]
  },
  {
   "cell_type": "code",
   "execution_count": 2,
   "id": "030a86fa-df26-4991-bf96-5851fbea1c70",
   "metadata": {},
   "outputs": [
    {
     "name": "stdout",
     "output_type": "stream",
     "text": [
      "1\n",
      "2\n",
      "3\n",
      "4\n",
      "5\n",
      "6\n",
      "7\n",
      "8\n",
      "9\n",
      "10\n",
      "____________\n",
      "<__main__.ListNode object at 0x000001EBC250E710>\n",
      "<__main__.ListNode object at 0x000001EBC250E610>\n",
      "<__main__.ListNode object at 0x000001EBC250E850>\n",
      "<__main__.ListNode object at 0x000001EBC250CA50>\n",
      "<__main__.ListNode object at 0x000001EBC250D350>\n",
      "<__main__.ListNode object at 0x000001EBC250CE10>\n",
      "<__main__.ListNode object at 0x000001EBC250D390>\n",
      "<__main__.ListNode object at 0x000001EBC250C9D0>\n",
      "9\n",
      "8\n",
      "7\n",
      "6\n",
      "5\n",
      "4\n",
      "3\n",
      "2\n",
      "1\n"
     ]
    }
   ],
   "source": [
    "ls = [ListNode(i) for i in range(1,11) ]\n",
    "for i in range(0,9):\n",
    "   ls[i].next = ls[i+1]\n",
    "ls[9].next = None\n",
    "head = ls[0]\n",
    "cur = head\n",
    "while cur:\n",
    "    print(cur.val)\n",
    "    cur = cur.next\n",
    "print('____________')\n",
    "newhead = Solution().reverseList(head)\n",
    "cur = newhead\n",
    "while cur:\n",
    "    print(cur.val)\n",
    "    cur = cur.next"
   ]
  },
  {
   "cell_type": "code",
   "execution_count": null,
   "id": "66bc59d4-38c2-4f76-9664-85ff12a702ef",
   "metadata": {},
   "outputs": [],
   "source": []
  }
 ],
 "metadata": {
  "kernelspec": {
   "display_name": "Python 3 (ipykernel)",
   "language": "python",
   "name": "python3"
  },
  "language_info": {
   "codemirror_mode": {
    "name": "ipython",
    "version": 3
   },
   "file_extension": ".py",
   "mimetype": "text/x-python",
   "name": "python",
   "nbconvert_exporter": "python",
   "pygments_lexer": "ipython3",
   "version": "3.11.0"
  }
 },
 "nbformat": 4,
 "nbformat_minor": 5
}
