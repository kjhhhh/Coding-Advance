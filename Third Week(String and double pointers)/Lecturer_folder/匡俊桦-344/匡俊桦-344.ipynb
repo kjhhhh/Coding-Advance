{
 "cells": [
  {
   "cell_type": "code",
   "execution_count": 3,
   "id": "38f38b5c",
   "metadata": {},
   "outputs": [
    {
     "name": "stdout",
     "output_type": "stream",
     "text": [
      "1\n",
      "['h', 'A', 'N', 'n', 'a', 'H']\n",
      "2\n",
      "['h', 'a', 'N', 'n', 'A', 'H']\n",
      "3\n",
      "['h', 'a', 'n', 'N', 'A', 'H']\n"
     ]
    }
   ],
   "source": [
    "s = [\"H\",\"A\",\"N\",\"n\",\"a\",\"h\"]\n",
    "length = len(s)\n",
    "i = 0\n",
    "while i<length//2:\n",
    "    s[i],s[length-1-i] = s[length-1-i],s[i]\n",
    "    i+=1\n",
    "    print(i)\n",
    "    print(s)\n"
   ]
  },
  {
   "cell_type": "code",
   "execution_count": 4,
   "id": "ed1f136f",
   "metadata": {},
   "outputs": [
    {
     "name": "stdout",
     "output_type": "stream",
     "text": [
      "['H', 'a', 'n', 'N', 'A', 'h']\n",
      "['H', 'A', 'n', 'N', 'a', 'h']\n",
      "['H', 'A', 'N', 'n', 'a', 'h']\n"
     ]
    }
   ],
   "source": [
    "left = 0\n",
    "right = len(s)-1\n",
    "while left<right:\n",
    "    s[left],s[right] = s[right],s[left]\n",
    "    left+=1\n",
    "    right-=1\n",
    "    print(s)"
   ]
  },
  {
   "cell_type": "code",
   "execution_count": null,
   "id": "3c59bc8c",
   "metadata": {},
   "outputs": [],
   "source": []
  }
 ],
 "metadata": {
  "kernelspec": {
   "display_name": "Python 3 (ipykernel)",
   "language": "python",
   "name": "python3"
  },
  "language_info": {
   "codemirror_mode": {
    "name": "ipython",
    "version": 3
   },
   "file_extension": ".py",
   "mimetype": "text/x-python",
   "name": "python",
   "nbconvert_exporter": "python",
   "pygments_lexer": "ipython3",
   "version": "3.9.7"
  }
 },
 "nbformat": 4,
 "nbformat_minor": 5
}
