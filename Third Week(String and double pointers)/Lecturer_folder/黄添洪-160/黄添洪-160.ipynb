{
 "cells": [
  {
   "cell_type": "code",
   "execution_count": 35,
   "metadata": {},
   "outputs": [],
   "source": [
    "class ListNode:\n",
    "    def __init__(self, x):\n",
    "        self.val = x\n",
    "        self.next = None"
   ]
  },
  {
   "cell_type": "code",
   "execution_count": 36,
   "metadata": {},
   "outputs": [],
   "source": [
    "class Solution1:\n",
    "    def getIntersectionNode(self, headA: ListNode, headB: ListNode) -> ListNode:\n",
    "        p = headA\n",
    "        while p:\n",
    "            q = headB\n",
    "            while q:\n",
    "                if p == q:\n",
    "                    return p\n",
    "                q = q.next\n",
    "            p = p.next\n",
    "        return p"
   ]
  },
  {
   "cell_type": "code",
   "execution_count": 37,
   "metadata": {},
   "outputs": [],
   "source": [
    "class Solution2:\n",
    "    def getIntersectionNode(self, headA: ListNode, headB: ListNode) -> ListNode:\n",
    "        s = set()\n",
    "        p, q = headA, headB\n",
    "        while p:\n",
    "            s.add(p)\n",
    "            p = p.next\n",
    "        while q:\n",
    "            if q in s:\n",
    "                return q\n",
    "            q = q.next\n",
    "        return None"
   ]
  },
  {
   "cell_type": "code",
   "execution_count": 38,
   "metadata": {},
   "outputs": [],
   "source": [
    "class Solution3:\n",
    "    def getIntersectionNode(self, headA: ListNode, headB: ListNode) -> ListNode:\n",
    "        s1, s2 = 0, 0\n",
    "        p, q = headA, headB\n",
    "        # 计算长度\n",
    "        while p:\n",
    "            p = p.next\n",
    "            s1 += 1\n",
    "        while q:\n",
    "            q = q.next\n",
    "            s2 += 1\n",
    "        # 长链表先走，但不确定AB谁长，所以有两个循环，但实际上有至少一个循环不会执行\n",
    "        p, q = headA, headB\n",
    "        for i in range(s1 - s2):\n",
    "            p = p.next\n",
    "        for i in range(s2 - s1):\n",
    "            q = q.next\n",
    "        while p and q and p != q:\n",
    "            p = p.next\n",
    "            q = q.next\n",
    "        return p"
   ]
  },
  {
   "cell_type": "code",
   "execution_count": 39,
   "metadata": {},
   "outputs": [],
   "source": [
    "class Solution4:\n",
    "    def getIntersectionNode(self, headA: ListNode, headB: ListNode) -> ListNode:\n",
    "        p, q = headA, headB\n",
    "        while not p == q:\n",
    "            p = p.next if p else headB\n",
    "            q = q.next if q else headA\n",
    "        return p"
   ]
  },
  {
   "cell_type": "code",
   "execution_count": 40,
   "metadata": {},
   "outputs": [],
   "source": [
    "headA = ListNode(1)\n",
    "headA.next = ListNode(2)\n",
    "headA.next.next = ListNode(3)\n",
    "headA.next.next.next = ListNode(4)"
   ]
  },
  {
   "cell_type": "code",
   "execution_count": 41,
   "metadata": {},
   "outputs": [],
   "source": [
    "headB = ListNode(5)\n",
    "headB.next = ListNode(6)\n",
    "headB.next.next = headA.next.next"
   ]
  },
  {
   "cell_type": "code",
   "execution_count": 42,
   "metadata": {},
   "outputs": [
    {
     "data": {
      "text/plain": [
       "3"
      ]
     },
     "execution_count": 42,
     "metadata": {},
     "output_type": "execute_result"
    }
   ],
   "source": [
    "Solution1().getIntersectionNode(headA, headB).val"
   ]
  },
  {
   "cell_type": "code",
   "execution_count": 43,
   "metadata": {},
   "outputs": [
    {
     "data": {
      "text/plain": [
       "3"
      ]
     },
     "execution_count": 43,
     "metadata": {},
     "output_type": "execute_result"
    }
   ],
   "source": [
    "Solution2().getIntersectionNode(headA, headB).val"
   ]
  },
  {
   "cell_type": "code",
   "execution_count": 44,
   "metadata": {},
   "outputs": [
    {
     "data": {
      "text/plain": [
       "3"
      ]
     },
     "execution_count": 44,
     "metadata": {},
     "output_type": "execute_result"
    }
   ],
   "source": [
    "Solution3().getIntersectionNode(headA, headB).val"
   ]
  },
  {
   "cell_type": "code",
   "execution_count": 45,
   "metadata": {},
   "outputs": [
    {
     "data": {
      "text/plain": [
       "3"
      ]
     },
     "execution_count": 45,
     "metadata": {},
     "output_type": "execute_result"
    }
   ],
   "source": [
    "Solution4().getIntersectionNode(headA, headB).val"
   ]
  }
 ],
 "metadata": {
  "kernelspec": {
   "display_name": "Python 3",
   "language": "python",
   "name": "python3"
  },
  "language_info": {
   "codemirror_mode": {
    "name": "ipython",
    "version": 3
   },
   "file_extension": ".py",
   "mimetype": "text/x-python",
   "name": "python",
   "nbconvert_exporter": "python",
   "pygments_lexer": "ipython3",
   "version": "3.11.0"
  },
  "orig_nbformat": 4
 },
 "nbformat": 4,
 "nbformat_minor": 2
}
