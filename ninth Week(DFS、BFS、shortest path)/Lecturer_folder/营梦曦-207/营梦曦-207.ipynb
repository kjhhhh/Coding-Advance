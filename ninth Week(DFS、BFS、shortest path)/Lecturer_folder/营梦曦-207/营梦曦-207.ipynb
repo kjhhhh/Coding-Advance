{
 "cells": [
  {
   "cell_type": "code",
   "execution_count": 1,
   "id": "c125c522-50eb-4f03-bfde-1f1688ef339e",
   "metadata": {},
   "outputs": [],
   "source": [
    "from typing import collections\n",
    "from typing import List\n",
    "class Solution:\n",
    "     def canFinish(self, numCourses: int, prerequisites: List[List[int]]) -> bool:\n",
    "        pre_adj = collections.defaultdict(list)\n",
    "         #记录每个课程节点的先修课程(defaultdict翻译为默认字典就更好理解了。key值为课号，value的类型与collections.defaultdict()括号中设置类型的相同，为对应依赖这门课的课程（数组）)\n",
    "        for key,value in prerequisites:\n",
    "            pre_adj[value].append(key)\n",
    "        flags = [0] * numCourses  #记录每个课程结点的访问状态（默认为0即未访问）\n",
    "        isCircle = True  #标识是否有环路  \n",
    "        \n",
    "        def dfs(cur_node: int):\n",
    "            nonlocal isCircle\n",
    "            flags[cur_node] = 1  #设置当前的课程节点为访问状态\n",
    "            for adj_node in pre_adj[cur_node]:  #遍历该节点的每一个相邻节点adj_node\n",
    "                if flags[adj_node] == 0:  #adj_node为未搜索，那么我们开始搜索adj_node，待搜索完成回溯到cur_node；\n",
    "                    dfs(adj_node)\n",
    "                elif flags[adj_node] == 1:  #表示出现了环路\n",
    "                    isCircle = False\n",
    "                    return None\n",
    "            flags[cur_node] = 2  #将状态标记为搜索完成\n",
    "\n",
    "        for i in range(numCourses):\n",
    "            if flags[i]==0:\n",
    "                dfs(i)\n",
    "        \n",
    "        return isCircle"
   ]
  },
  {
   "cell_type": "code",
   "execution_count": 2,
   "id": "fcc50de8-cba6-4e82-aebf-9065b090367c",
   "metadata": {},
   "outputs": [],
   "source": [
    "numCourses = 2\n",
    "prerequisites = [[1,0],[0,1]]\n",
    "s=Solution()\n",
    "ls=s.canFinish(numCourses,prerequisites)"
   ]
  },
  {
   "cell_type": "code",
   "execution_count": 3,
   "id": "ad791aa7-9b0a-41e1-b4bc-57993eb54a48",
   "metadata": {},
   "outputs": [
    {
     "data": {
      "text/plain": [
       "False"
      ]
     },
     "execution_count": 3,
     "metadata": {},
     "output_type": "execute_result"
    }
   ],
   "source": [
    "ls"
   ]
  }
 ],
 "metadata": {
  "kernelspec": {
   "display_name": "Python 3 (ipykernel)",
   "language": "python",
   "name": "python3"
  },
  "language_info": {
   "codemirror_mode": {
    "name": "ipython",
    "version": 3
   },
   "file_extension": ".py",
   "mimetype": "text/x-python",
   "name": "python",
   "nbconvert_exporter": "python",
   "pygments_lexer": "ipython3",
   "version": "3.11.0"
  }
 },
 "nbformat": 4,
 "nbformat_minor": 5
}
