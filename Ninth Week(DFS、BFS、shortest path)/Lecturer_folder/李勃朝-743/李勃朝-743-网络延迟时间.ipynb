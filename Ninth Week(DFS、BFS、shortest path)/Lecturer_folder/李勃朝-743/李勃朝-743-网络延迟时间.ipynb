{
 "cells": [
  {
   "cell_type": "code",
   "execution_count": 3,
   "metadata": {},
   "outputs": [],
   "source": [
    "def networkDelayTime(times, n, k):\n",
    "    \"\"\"\n",
    "    :type times: List[List[int]]\n",
    "    :type n: int\n",
    "    :type k: int\n",
    "    :rtype: int\n",
    "    \"\"\"\n",
    "    # 定义邻接矩阵\n",
    "    g = [[float('inf') * n] for _ in range(n)]\n",
    "    for x, y, time in times:\n",
    "        g[x - 1][y - 1] = time\n",
    "\n",
    "    # 距离数组\n",
    "    dist = [float('inf') * n]\n",
    "    dist[k - 1] = 0\n",
    "\n",
    "    # 标记数组\n",
    "    used = [False] * n\n",
    "\n",
    "    for _ in range(n):\n",
    "        x = -1\n",
    "        for y, u in enumerate(used):\n",
    "            if not u and (x == -1 or dist[y] < dist[x]):\n",
    "                x = y\n",
    "        used[x] = True\n",
    "        for y, time in enumerate(g[x]):\n",
    "            dist[y] = min(dist[y], dist[x] + time)\n",
    "\n",
    "    ans = max(dist)\n",
    "    return ans if ans < float('inf') else -1\n"
   ]
  },
  {
   "cell_type": "code",
   "execution_count": 4,
   "metadata": {},
   "outputs": [
    {
     "name": "stdout",
     "output_type": "stream",
     "text": [
      "5\n"
     ]
    }
   ],
   "source": [
    "times =[[0,1,5],[0,2,2],[0,3,6],[1,4,1],[2,1,1],[2,3,3],[2,4,5],[3,4,2]]\n",
    "n = 5\n",
    "k = 0\n",
    "time = networkDelayTime\n",
    "print(time(times, n, k))"
   ]
  },
  {
   "cell_type": "code",
   "execution_count": null,
   "metadata": {},
   "outputs": [],
   "source": [
    "import heapq\n",
    "\n",
    "\n",
    "def networkDelayTime(times, n, k):\n",
    "    # 建图 - 邻接表\n",
    "    mp = [{} for i in range(n + 1)]\n",
    "    for u, v, t in times:\n",
    "        mp[u][v] = t\n",
    "    # 记录结点最早收到信号的时间\n",
    "    INTMAX = 0x3f3f3f3f\n",
    "    r = [INTMAX for _ in range(n + 1)]\n",
    "    # 优先队列中存放 [收到信号时间，结点]\n",
    "    s = [[0, k]]\n",
    "    while s:\n",
    "        t, cur = heapq.heappop(s)\n",
    "        if r[cur] != INTMAX:\n",
    "            continue\n",
    "        r[cur] = t\n",
    "        for u, v in mp[cur].items():\n",
    "            # 仅当结点未收到才更新并入队\n",
    "            if r[u] == INTMAX:\n",
    "                heapq.heappush(s, [t + v, u])\n",
    "    minT = -1\n",
    "    for i in range(1, n + 1):\n",
    "        if r[i] == INTMAX:\n",
    "            return -1\n",
    "        minT = max(minT, r[i])\n",
    "    return minT"
   ]
  }
 ],
 "metadata": {
  "kernelspec": {
   "display_name": "Python 3",
   "language": "python",
   "name": "python3"
  },
  "language_info": {
   "codemirror_mode": {
    "name": "ipython",
    "version": 3
   },
   "file_extension": ".py",
   "mimetype": "text/x-python",
   "name": "python",
   "nbconvert_exporter": "python",
   "pygments_lexer": "ipython3",
   "version": "3.8.5"
  }
 },
 "nbformat": 4,
 "nbformat_minor": 4
}
