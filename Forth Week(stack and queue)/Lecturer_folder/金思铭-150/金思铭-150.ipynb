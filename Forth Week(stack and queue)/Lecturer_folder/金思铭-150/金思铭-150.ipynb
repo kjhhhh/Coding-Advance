{
 "cells": [
  {
   "cell_type": "code",
   "execution_count": 1,
   "id": "4dde39e8",
   "metadata": {},
   "outputs": [],
   "source": [
    "class Solution(object):\n",
    "    def evalRPN(self, tokens):\n",
    "        \"\"\"\n",
    "        :type tokens: List[str]\n",
    "        :rtype: int\n",
    "        \"\"\"\n",
    "\n",
    "        operator = [\"+\",\"-\",\"*\",\"/\"]\n",
    "        stack = []\n",
    "    # print(int(6/-132.0))\n",
    "        for ch in tokens:\n",
    "            if ch in operator:\n",
    "                second_num = int(stack.pop())\n",
    "                first_num = int(stack.pop())\n",
    "                if ch ==\"+\":\n",
    "                    result = first_num + second_num\n",
    "                elif ch == \"-\":\n",
    "                    result = first_num - second_num\n",
    "                elif ch == \"*\":\n",
    "                    result = first_num * second_num\n",
    "                elif ch == \"/\":\n",
    "                    result = math.trunc(first_num / float(second_num))\n",
    "\n",
    "                stack.append(result)\n",
    "            else:\n",
    "                stack.append(int(ch))\n",
    "            # print(stack)\n",
    "        \n",
    "        return stack.pop()\n"
   ]
  },
  {
   "cell_type": "code",
   "execution_count": 2,
   "id": "80177033",
   "metadata": {},
   "outputs": [],
   "source": [
    "tokens = [\"2\",\"1\",\"+\",\"3\",\"*\"]"
   ]
  },
  {
   "cell_type": "code",
   "execution_count": 3,
   "id": "6a2c537a",
   "metadata": {},
   "outputs": [
    {
     "data": {
      "text/plain": [
       "9"
      ]
     },
     "execution_count": 3,
     "metadata": {},
     "output_type": "execute_result"
    }
   ],
   "source": [
    "Solution().evalRPN(tokens)"
   ]
  },
  {
   "cell_type": "code",
   "execution_count": 24,
   "id": "409cd6a0",
   "metadata": {},
   "outputs": [],
   "source": [
    "class Solution2(object):\n",
    "    def evalRPN(self, tokens):\n",
    "        \"\"\"\n",
    "        :type tokens: List[str]\n",
    "        :rtype: int\n",
    "        \"\"\"\n",
    "\n",
    "        operator = {\n",
    "#             \"+\": add,\n",
    "#             \"-\": sub,\n",
    "#             \"*\": mul,\n",
    "            \"+\": lambda x, y: x+y,\n",
    "            \"-\": lambda x, y: x-y,\n",
    "            \"*\": lambda x, y: x*y,\n",
    "            \"/\": lambda x, y: int(x / float(y))\n",
    "        }\n",
    "\n",
    "        stack = list()\n",
    "        for ch in tokens:\n",
    "            if ch in operator:\n",
    "                second_num = int(stack.pop())\n",
    "                first_num = int(stack.pop())\n",
    "                result = operator[ch](first_num,second_num)\n",
    "                stack.append(result)\n",
    "            else:\n",
    "                stack.append(int(ch))\n",
    "        return stack.pop()\n"
   ]
  },
  {
   "cell_type": "code",
   "execution_count": 27,
   "id": "51ff99d5",
   "metadata": {},
   "outputs": [
    {
     "data": {
      "text/plain": [
       "9"
      ]
     },
     "execution_count": 27,
     "metadata": {},
     "output_type": "execute_result"
    }
   ],
   "source": [
    "Solution2().evalRPN(tokens)"
   ]
  },
  {
   "cell_type": "code",
   "execution_count": 30,
   "id": "986e6b53",
   "metadata": {},
   "outputs": [],
   "source": [
    "from operator import add, sub, mul\n",
    "class Solution3(object):\n",
    "    def evalRPN(self, tokens):\n",
    "        \"\"\"\n",
    "        :type tokens: List[str]\n",
    "        :rtype: int\n",
    "        \"\"\"\n",
    "\n",
    "        operator = {\n",
    "            \"+\": add,\n",
    "            \"-\": sub,\n",
    "            \"*\": mul,\n",
    "            \"/\": lambda x, y: int(x / float(y))\n",
    "        }\n",
    "\n",
    "        stack = list()\n",
    "        for ch in tokens:\n",
    "            if ch in operator:\n",
    "                second_num = int(stack.pop())\n",
    "                first_num = int(stack.pop())\n",
    "                result = operator[ch](first_num,second_num)\n",
    "                stack.append(result)\n",
    "            else:\n",
    "                stack.append(int(ch))\n",
    "        return stack.pop()"
   ]
  },
  {
   "cell_type": "code",
   "execution_count": 31,
   "id": "13b5ac37",
   "metadata": {},
   "outputs": [
    {
     "data": {
      "text/plain": [
       "9"
      ]
     },
     "execution_count": 31,
     "metadata": {},
     "output_type": "execute_result"
    }
   ],
   "source": [
    "Solution3().evalRPN(tokens)"
   ]
  }
 ],
 "metadata": {
  "kernelspec": {
   "display_name": "Python 3 (ipykernel)",
   "language": "python",
   "name": "python3"
  },
  "language_info": {
   "codemirror_mode": {
    "name": "ipython",
    "version": 3
   },
   "file_extension": ".py",
   "mimetype": "text/x-python",
   "name": "python",
   "nbconvert_exporter": "python",
   "pygments_lexer": "ipython3",
   "version": "3.11.0"
  }
 },
 "nbformat": 4,
 "nbformat_minor": 5
}
