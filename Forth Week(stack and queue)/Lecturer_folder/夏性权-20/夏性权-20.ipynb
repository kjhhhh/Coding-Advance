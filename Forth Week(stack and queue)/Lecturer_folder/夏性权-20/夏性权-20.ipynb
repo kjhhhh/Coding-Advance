{
 "cells": [
  {
   "cell_type": "code",
   "execution_count": 4,
   "id": "6bf71e28",
   "metadata": {},
   "outputs": [],
   "source": [
    "class Solution:\n",
    "    def isValid(self, s: str) -> bool:\n",
    "        # stack = []\n",
    "        # match = {'(' : ')' , '[' : ']', '{' : '}'}\n",
    "        # for elem in s:\n",
    "        #     if elem in match:  #遇左括号入栈\n",
    "        #         stack.append(elem)\n",
    "        #     elif len(stack) is 0:\n",
    "        #         return False\n",
    "        #     elif match[stack[len(stack) - 1]] is elem: #遇右括号\n",
    "        #         stack.pop()\n",
    "        #     else:\n",
    "        #         return False\n",
    "        # return len(stack) is 0\n",
    "        while '()' in s or '[]' in s or '{}' in s:\n",
    "            s = s.replace('()', '')\n",
    "            s = s.replace('[]', '')\n",
    "            s = s.replace('{}', '')\n",
    "        return len(s) == 0\n"
   ]
  },
  {
   "cell_type": "code",
   "execution_count": 7,
   "id": "1bf6fa4d",
   "metadata": {},
   "outputs": [
    {
     "name": "stdout",
     "output_type": "stream",
     "text": [
      "True\n",
      "False\n"
     ]
    }
   ],
   "source": [
    "s1 = \"()[]{}\"\n",
    "print(Solution().isValid(s1))\n",
    "s2 = \"(]{}\"\n",
    "print(Solution().isValid(s2))"
   ]
  },
  {
   "cell_type": "code",
   "execution_count": 10,
   "id": "22c33c4a",
   "metadata": {},
   "outputs": [],
   "source": [
    "class Solution2:\n",
    "    def isValid(self, s: str) -> bool:\n",
    "        stack = []\n",
    "        match = {'(' : ')' , '[' : ']', '{' : '}'}\n",
    "        for elem in s:\n",
    "            if elem in match:  #遇左括号入栈\n",
    "                stack.append(elem)\n",
    "            elif len(stack) == 0:\n",
    "                return False\n",
    "            elif match[stack[len(stack) - 1]] == elem: #遇右括号\n",
    "                stack.pop()\n",
    "            else:\n",
    "                return False\n",
    "        return len(stack) == 0\n"
   ]
  },
  {
   "cell_type": "code",
   "execution_count": 11,
   "id": "1629088a",
   "metadata": {},
   "outputs": [
    {
     "name": "stdout",
     "output_type": "stream",
     "text": [
      "True\n",
      "False\n"
     ]
    }
   ],
   "source": [
    "s1 = \"()[]{}\"\n",
    "print(Solution2().isValid(s1))\n",
    "s2 = \"(]{}\"\n",
    "print(Solution2().isValid(s2))"
   ]
  }
 ],
 "metadata": {
  "kernelspec": {
   "display_name": "Python 3 (ipykernel)",
   "language": "python",
   "name": "python3"
  },
  "language_info": {
   "codemirror_mode": {
    "name": "ipython",
    "version": 3
   },
   "file_extension": ".py",
   "mimetype": "text/x-python",
   "name": "python",
   "nbconvert_exporter": "python",
   "pygments_lexer": "ipython3",
   "version": "3.11.0"
  }
 },
 "nbformat": 4,
 "nbformat_minor": 5
}
