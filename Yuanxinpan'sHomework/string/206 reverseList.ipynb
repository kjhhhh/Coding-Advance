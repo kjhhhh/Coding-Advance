{
 "cells": [
  {
   "cell_type": "code",
   "execution_count": null,
   "id": "a11e98eb-5e6c-432d-a411-056a0a5071ab",
   "metadata": {},
   "outputs": [],
   "source": [
    "class ListNode:\n",
    "    def __init__(self, val=0, next=None):\n",
    "        self.val = val\n",
    "        self.next = next\n",
    "class Solution:\n",
    "    def reverseList(self, head):\n",
    "        # head ->(1)->(2)-> (3)->(4)->(5)\n",
    "                         #cur^\n",
    "                   #pre^\n",
    "        if head == None:\n",
    "            return head\n",
    "        cur = head.next\n",
    "        pre = head        \n",
    "\n",
    "        count = 0\n",
    "        while cur:\n",
    "            #  pre , cur , cur.next= cur, cur.next, pre #wrong\n",
    "            pre, cur.next , cur = cur, pre, cur.next\n",
    "            print(cur)\n",
    "            count+=1\n",
    "            if count>=8:\n",
    "                break\n",
    "        #cur^, cur.next^, pre^\n",
    "        head.next = None\n",
    "        return pre"
   ]
  },
  {
   "cell_type": "code",
   "execution_count": null,
   "id": "030a86fa-df26-4991-bf96-5851fbea1c70",
   "metadata": {},
   "outputs": [],
   "source": [
    "ls = [ListNode(i) for i in range(1,11) ]\n",
    "for i in range(0,9):\n",
    "   ls[i].next = ls[i+1]\n",
    "ls[9].next = None\n",
    "head = ls[0]\n",
    "cur = head\n",
    "while cur:\n",
    "    print(cur.val)\n",
    "    cur = cur.next\n",
    "print('____________')\n",
    "newhead = Solution().reverseList(head)\n",
    "cur = newhead\n",
    "while cur:\n",
    "    print(cur.val)\n",
    "    cur = cur.next"
   ]
  },
  {
   "cell_type": "code",
   "execution_count": null,
   "id": "66bc59d4-38c2-4f76-9664-85ff12a702ef",
   "metadata": {},
   "outputs": [],
   "source": []
  }
 ],
 "metadata": {
  "kernelspec": {
   "display_name": "Python 3 (ipykernel)",
   "language": "python",
   "name": "python3"
  },
  "language_info": {
   "codemirror_mode": {
    "name": "ipython",
    "version": 3
   },
   "file_extension": ".py",
   "mimetype": "text/x-python",
   "name": "python",
   "nbconvert_exporter": "python",
   "pygments_lexer": "ipython3",
   "version": "3.8.13"
  }
 },
 "nbformat": 4,
 "nbformat_minor": 5
}
