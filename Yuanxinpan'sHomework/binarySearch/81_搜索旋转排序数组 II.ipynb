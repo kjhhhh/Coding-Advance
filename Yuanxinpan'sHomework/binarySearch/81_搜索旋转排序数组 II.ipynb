{
 "cells": [
  {
   "cell_type": "code",
   "execution_count": 3,
   "id": "14c56e32-3a3e-4733-bc12-c487e00a0066",
   "metadata": {},
   "outputs": [],
   "source": [
    "def search(nums,target):\n",
    "    left = 0\n",
    "    right = len(nums)-1\n",
    "    while left <=right:\n",
    "        mid = (left+right)//2\n",
    "        if nums[mid] == target:\n",
    "            return True\n",
    "        elif nums[mid] < target:\n",
    "            left = mid+1\n",
    "        else:\n",
    "            right = mid-1\n",
    "    return False"
   ]
  },
  {
   "cell_type": "code",
   "execution_count": 4,
   "id": "e36dd646-5902-455b-ad61-b5ee9883efa5",
   "metadata": {
    "tags": []
   },
   "outputs": [
    {
     "data": {
      "text/plain": [
       "True"
      ]
     },
     "execution_count": 4,
     "metadata": {},
     "output_type": "execute_result"
    }
   ],
   "source": [
    "nums = [2,5,6,0,0,1,2]\n",
    "target = 1\n",
    "if len(nums)>1:\n",
    "    for i in range(len(nums)):\n",
    "        if i+1<=len(nums)-1 and nums[i] > nums[i+1]:\n",
    "            break\n",
    "    nums = nums[i+1:] + nums[0:i+1]\n",
    "\n",
    "search(nums,target)"
   ]
  },
  {
   "cell_type": "code",
   "execution_count": null,
   "id": "d98b079c-1d7a-49cb-823f-6b478d6a721a",
   "metadata": {},
   "outputs": [],
   "source": []
  }
 ],
 "metadata": {
  "kernelspec": {
   "display_name": "Python 3 (ipykernel)",
   "language": "python",
   "name": "python3"
  },
  "language_info": {
   "codemirror_mode": {
    "name": "ipython",
    "version": 3
   },
   "file_extension": ".py",
   "mimetype": "text/x-python",
   "name": "python",
   "nbconvert_exporter": "python",
   "pygments_lexer": "ipython3",
   "version": "3.8.16"
  }
 },
 "nbformat": 4,
 "nbformat_minor": 5
}
