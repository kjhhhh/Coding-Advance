{
 "cells": [
  {
   "cell_type": "code",
   "execution_count": null,
   "id": "f918afbf-7795-47e5-8750-d648efbaf1f4",
   "metadata": {},
   "outputs": [],
   "source": [
    "class Solution:\n",
    "    def firstBadVersion(self, n: int) -> int:\n",
    "        start = 1 #==> \n",
    "        end = n #==> T\n",
    "\n",
    "        #  1   2   3   4   5\n",
    "        #  F   F   F   T   T  \n",
    "        while start < end:\n",
    "            mid = (start + end) // 2\n",
    "            if isBadVersion(mid) == False:\n",
    "                start = mid + 1 #这里必须+1，不然会有问题\n",
    "            else:\n",
    "                end = mid # 使用end 替换，仍然不变的形状，end=>T mid赋值过来还是T\n",
    "        \n",
    "        return end"
   ]
  }
 ],
 "metadata": {
  "kernelspec": {
   "display_name": "Python 3 (ipykernel)",
   "language": "python",
   "name": "python3"
  },
  "language_info": {
   "codemirror_mode": {
    "name": "ipython",
    "version": 3
   },
   "file_extension": ".py",
   "mimetype": "text/x-python",
   "name": "python",
   "nbconvert_exporter": "python",
   "pygments_lexer": "ipython3",
   "version": "3.8.16"
  }
 },
 "nbformat": 4,
 "nbformat_minor": 5
}
