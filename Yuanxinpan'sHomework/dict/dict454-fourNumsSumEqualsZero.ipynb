{
 "cells": [
  {
   "cell_type": "code",
   "execution_count": 22,
   "id": "5679650c-1a92-4166-af2b-5da1ffc7c87e",
   "metadata": {},
   "outputs": [],
   "source": [
    "def fourSumCount(nums1, nums2, nums3, nums4):\n",
    "    #nums1[i] + nums2[j] + nums3[k] + nums4[l] == 0\n",
    "    #nums1[i] + nums2[j] =(equals) - (nums3[k] + nums4[l])\n",
    "    # dicA dicB value记录 种类 1+2 =3 2+1 =3  dic {3:2} 建立数据结构\n",
    "    # nums1[i] + nums2[j] in dicB\n",
    "    dic_A = {}\n",
    "    dic_B = {}\n",
    "    for i in nums1:\n",
    "        for j in nums2:\n",
    "            sumij = i+j\n",
    "            dic_A[sumij] = dic_A.get(sumij,0)+1\n",
    "\n",
    "    for i in nums3:\n",
    "        for j in nums4:\n",
    "            sumij = -i-j\n",
    "            dic_B[sumij] = dic_B.get(sumij,0)+1\n",
    "\n",
    "    res = 0\n",
    "    for item_A in dic_A.items():\n",
    "        if item_A[0] in dic_B:\n",
    "            res += item_A[1] + dic_B[item_A[0]]\n",
    "    return res"
   ]
  },
  {
   "cell_type": "code",
   "execution_count": 23,
   "id": "4191a29e-7824-470f-b1e6-874c765ad5c2",
   "metadata": {},
   "outputs": [
    {
     "data": {
      "text/plain": [
       "2"
      ]
     },
     "execution_count": 23,
     "metadata": {},
     "output_type": "execute_result"
    }
   ],
   "source": [
    "nums1 = [1,2]\n",
    "nums2 = [-2,-1]\n",
    "nums3 = [-1,2]\n",
    "nums4 = [0,2]\n",
    "fourSumCount(nums1,nums2,nums3,nums4)"
   ]
  },
  {
   "cell_type": "code",
   "execution_count": 26,
   "id": "1a33d1b3-83f5-4687-a237-7df3721c2a1c",
   "metadata": {},
   "outputs": [
    {
     "data": {
      "text/plain": [
       "{'a': 2, 'b': 1}"
      ]
     },
     "execution_count": 26,
     "metadata": {},
     "output_type": "execute_result"
    }
   ],
   "source": [
    "dic = {'a':2,'b':1}\n",
    "dic"
   ]
  },
  {
   "cell_type": "code",
   "execution_count": 29,
   "id": "0c504f2e-c96c-41cb-b9e2-0d6f2ae1f7e6",
   "metadata": {},
   "outputs": [
    {
     "data": {
      "text/plain": [
       "{'a': 4, 'b': 1, 'c': 1}"
      ]
     },
     "execution_count": 29,
     "metadata": {},
     "output_type": "execute_result"
    }
   ],
   "source": [
    "dic['c'] = dic.get('c',0)+1\n",
    "dic"
   ]
  },
  {
   "cell_type": "code",
   "execution_count": null,
   "id": "3a8b7321-bef0-4667-be12-2a2b67f407a1",
   "metadata": {},
   "outputs": [],
   "source": []
  }
 ],
 "metadata": {
  "kernelspec": {
   "display_name": "Python 3 (ipykernel)",
   "language": "python",
   "name": "python3"
  },
  "language_info": {
   "codemirror_mode": {
    "name": "ipython",
    "version": 3
   },
   "file_extension": ".py",
   "mimetype": "text/x-python",
   "name": "python",
   "nbconvert_exporter": "python",
   "pygments_lexer": "ipython3",
   "version": "3.8.13"
  }
 },
 "nbformat": 4,
 "nbformat_minor": 5
}
