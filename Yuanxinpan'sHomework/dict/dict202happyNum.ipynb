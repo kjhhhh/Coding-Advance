{
 "cells": [
  {
   "cell_type": "code",
   "execution_count": 64,
   "id": "26bdc498-2af1-43a3-ad83-78dbb6c0d0d2",
   "metadata": {},
   "outputs": [],
   "source": [
    "import math\n",
    "def p(n):   #定义求平方和函数   \n",
    "    str_n = str(n)\n",
    "    if len(str_n) <= 1:\n",
    "        return n**2\n",
    "    return sum(map(lambda x:int(x)**2,str_n))\n",
    "#     res_sum = 0\n",
    "#     while n >= 1:\n",
    "#         res_sum = res_sum + (n % 10) * (n % 10)\n",
    "#         n = math.floor(n / 10)\n",
    "    \n",
    "#     return res_sum\n",
    "        "
   ]
  },
  {
   "cell_type": "code",
   "execution_count": 66,
   "id": "2279f515-8cd1-4f7e-be4b-8eefa0b11ff4",
   "metadata": {},
   "outputs": [
    {
     "data": {
      "text/plain": [
       "6"
      ]
     },
     "execution_count": 66,
     "metadata": {},
     "output_type": "execute_result"
    }
   ],
   "source": [
    "p(121)"
   ]
  },
  {
   "cell_type": "code",
   "execution_count": 25,
   "id": "cbfbc889-2de3-437d-8102-2b671fcf2dc2",
   "metadata": {},
   "outputs": [
    {
     "data": {
      "text/plain": [
       "[1, 4, 9, 16, 25, 36, 49, 64, 81, 1, 2, 5, 10, 17, 26, 37, 50, 65, 82]"
      ]
     },
     "execution_count": 25,
     "metadata": {},
     "output_type": "execute_result"
    }
   ],
   "source": [
    "#检测平方和函数效果    \n",
    "ls  = (list( map( p,range(1,20))))\n",
    "ls"
   ]
  },
  {
   "cell_type": "code",
   "execution_count": 29,
   "id": "dcccb857-e053-4304-b405-7154c861aba9",
   "metadata": {},
   "outputs": [
    {
     "data": {
      "text/plain": [
       "{1: 1,\n",
       " 2: 4,\n",
       " 3: 9,\n",
       " 4: 16,\n",
       " 5: 25,\n",
       " 6: 36,\n",
       " 7: 49,\n",
       " 8: 64,\n",
       " 9: 81,\n",
       " 10: 1,\n",
       " 11: 2,\n",
       " 12: 5,\n",
       " 13: 10,\n",
       " 14: 17,\n",
       " 15: 26,\n",
       " 16: 37,\n",
       " 17: 50,\n",
       " 18: 65,\n",
       " 19: 82,\n",
       " 20: 4,\n",
       " 21: 5,\n",
       " 22: 8,\n",
       " 23: 13,\n",
       " 24: 20,\n",
       " 25: 29,\n",
       " 26: 40,\n",
       " 27: 53,\n",
       " 28: 68,\n",
       " 29: 85,\n",
       " 30: 9,\n",
       " 31: 10,\n",
       " 32: 13,\n",
       " 33: 18,\n",
       " 34: 25,\n",
       " 35: 34,\n",
       " 36: 45,\n",
       " 37: 58,\n",
       " 38: 73,\n",
       " 39: 90,\n",
       " 40: 16,\n",
       " 41: 17,\n",
       " 42: 20,\n",
       " 43: 25,\n",
       " 44: 32,\n",
       " 45: 41,\n",
       " 46: 52,\n",
       " 47: 65,\n",
       " 48: 80,\n",
       " 49: 97,\n",
       " 50: 25,\n",
       " 51: 26,\n",
       " 52: 29,\n",
       " 53: 34,\n",
       " 54: 41,\n",
       " 55: 50,\n",
       " 56: 61,\n",
       " 57: 74,\n",
       " 58: 89,\n",
       " 59: 106,\n",
       " 60: 36,\n",
       " 61: 37,\n",
       " 62: 40,\n",
       " 63: 45,\n",
       " 64: 52,\n",
       " 65: 61,\n",
       " 66: 72,\n",
       " 67: 85,\n",
       " 68: 100,\n",
       " 69: 117,\n",
       " 70: 49,\n",
       " 71: 50,\n",
       " 72: 53,\n",
       " 73: 58,\n",
       " 74: 65,\n",
       " 75: 74,\n",
       " 76: 85,\n",
       " 77: 98,\n",
       " 78: 113,\n",
       " 79: 130,\n",
       " 80: 64,\n",
       " 81: 65,\n",
       " 82: 68,\n",
       " 83: 73,\n",
       " 84: 80,\n",
       " 85: 89,\n",
       " 86: 100,\n",
       " 87: 113,\n",
       " 88: 128,\n",
       " 89: 145,\n",
       " 90: 81,\n",
       " 91: 82,\n",
       " 92: 85,\n",
       " 93: 90,\n",
       " 94: 97,\n",
       " 95: 106,\n",
       " 96: 117,\n",
       " 97: 130,\n",
       " 98: 145,\n",
       " 99: 162}"
      ]
     },
     "execution_count": 29,
     "metadata": {},
     "output_type": "execute_result"
    }
   ],
   "source": [
    "dic_redis = {}\n",
    "for i in range(1,100):\n",
    "    dic_redis[i] = p(i)\n",
    "dic_redis"
   ]
  },
  {
   "cell_type": "code",
   "execution_count": 69,
   "id": "086ea0d4-d6ff-4ba5-9058-16d38425505f",
   "metadata": {},
   "outputs": [],
   "source": [
    "#检测是否形成环路，则会无限循环\n",
    "res_dic = {}\n",
    "def isHappy(n):\n",
    "    originalNum = n\n",
    "    dic_path = {}    \n",
    "    while True:\n",
    "        # print(n)\n",
    "        # print(res_dic)\n",
    "        # print(dic_path)\n",
    "        if n in res_dic:\n",
    "            return res_dic[n]\n",
    "        \n",
    "        if n==1 :#快乐数\n",
    "            res_dic[originalNum] = True\n",
    "            return True\n",
    "\n",
    "        if n in dic_path: #一定不是快乐数\n",
    "            res_dic[originalNum] = False\n",
    "            return False\n",
    "\n",
    "        if n in dic_redis:\n",
    "            dic_path[n] = 0 #先记录路径\n",
    "            n = dic_redis[n] #后更换n     \n",
    "            \n",
    "        if n not in dic_redis:          \n",
    "            powsum = p(n)             \n",
    "            dic_redis[n] = powsum\n",
    "            dic_path[n] = 0 #先记录路径\n",
    "            n = powsum #后更换n     \n",
    "        \n",
    "        \n"
   ]
  },
  {
   "cell_type": "code",
   "execution_count": 70,
   "id": "ea49cb31-b96d-4952-85e7-6501713de576",
   "metadata": {},
   "outputs": [
    {
     "data": {
      "text/plain": [
       "{1: True,\n",
       " 2: False,\n",
       " 3: False,\n",
       " 4: False,\n",
       " 5: False,\n",
       " 6: False,\n",
       " 7: True,\n",
       " 8: False,\n",
       " 9: False,\n",
       " 10: True,\n",
       " 11: False,\n",
       " 12: False,\n",
       " 13: True,\n",
       " 14: False,\n",
       " 15: False,\n",
       " 16: False,\n",
       " 17: False,\n",
       " 18: False,\n",
       " 19: True,\n",
       " 20: False,\n",
       " 21: False,\n",
       " 22: False,\n",
       " 23: True,\n",
       " 24: False,\n",
       " 25: False,\n",
       " 26: False,\n",
       " 27: False,\n",
       " 28: True,\n",
       " 29: False,\n",
       " 30: False,\n",
       " 31: True,\n",
       " 32: True,\n",
       " 33: False,\n",
       " 34: False,\n",
       " 35: False,\n",
       " 36: False,\n",
       " 37: False,\n",
       " 38: False,\n",
       " 39: False,\n",
       " 40: False,\n",
       " 41: False,\n",
       " 42: False,\n",
       " 43: False,\n",
       " 44: True,\n",
       " 45: False,\n",
       " 46: False,\n",
       " 47: False,\n",
       " 48: False,\n",
       " 49: True,\n",
       " 50: False,\n",
       " 51: False,\n",
       " 52: False,\n",
       " 53: False,\n",
       " 54: False,\n",
       " 55: False,\n",
       " 56: False,\n",
       " 57: False,\n",
       " 58: False,\n",
       " 59: False,\n",
       " 60: False,\n",
       " 61: False,\n",
       " 62: False,\n",
       " 63: False,\n",
       " 64: False,\n",
       " 65: False,\n",
       " 66: False,\n",
       " 67: False,\n",
       " 68: True,\n",
       " 69: False,\n",
       " 70: True,\n",
       " 71: False,\n",
       " 72: False,\n",
       " 73: False,\n",
       " 74: False,\n",
       " 75: False,\n",
       " 76: False,\n",
       " 77: False,\n",
       " 78: False,\n",
       " 79: True,\n",
       " 80: False,\n",
       " 81: False,\n",
       " 82: True,\n",
       " 83: False,\n",
       " 84: False,\n",
       " 85: False,\n",
       " 86: True,\n",
       " 87: False}"
      ]
     },
     "execution_count": 70,
     "metadata": {},
     "output_type": "execute_result"
    }
   ],
   "source": [
    "dic_test = {}\n",
    "for i in range(1,88):\n",
    "    dic_test[i] = isHappy(i)\n",
    "dic_test"
   ]
  },
  {
   "cell_type": "code",
   "execution_count": 72,
   "id": "a2482563-e944-4bca-88bc-1abd96739fce",
   "metadata": {},
   "outputs": [
    {
     "data": {
      "text/plain": [
       "True"
      ]
     },
     "execution_count": 72,
     "metadata": {},
     "output_type": "execute_result"
    }
   ],
   "source": [
    "isHappy(13)"
   ]
  },
  {
   "cell_type": "code",
   "execution_count": null,
   "id": "ae5bd527-3b00-4b57-8b46-5ba099c61ccd",
   "metadata": {},
   "outputs": [],
   "source": []
  }
 ],
 "metadata": {
  "kernelspec": {
   "display_name": "Python 3 (ipykernel)",
   "language": "python",
   "name": "python3"
  },
  "language_info": {
   "codemirror_mode": {
    "name": "ipython",
    "version": 3
   },
   "file_extension": ".py",
   "mimetype": "text/x-python",
   "name": "python",
   "nbconvert_exporter": "python",
   "pygments_lexer": "ipython3",
   "version": "3.8.13"
  }
 },
 "nbformat": 4,
 "nbformat_minor": 5
}
