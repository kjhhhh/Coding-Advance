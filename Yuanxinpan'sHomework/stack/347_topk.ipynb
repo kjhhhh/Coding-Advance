{
 "cells": [
  {
   "cell_type": "code",
   "execution_count": null,
   "id": "0a945f1a-717e-4868-b3c9-b5c4cf257cae",
   "metadata": {},
   "outputs": [],
   "source": [
    "import heapq\n",
    "data1 = {3:2,5:4,6:1}\n",
    "data3 = [(-1*n, i) for i, n in data1.items()]\n",
    "data2 = [6,5,3,2,9,4]\n",
    "heapq.heapify(data2)\n",
    "print(data2)\n",
    "#输出：[2, 5, 3, 6, 9, 4]\n",
    "# 小根(顶)堆\n",
    " #      2, \n",
    " #   5,   3,\n",
    " # 6, 9,  4\n",
    "# ls[i] < ls[2i+1]  ls[i]< ls[2i+2]\n",
    "# ls[0] < ls[1] , ls[0] < ls[2]\n",
    "# ls[1] < ls[3] , ls[1]< ls[4]"
   ]
  },
  {
   "cell_type": "code",
   "execution_count": null,
   "id": "7c1a96fd-2bef-462d-9883-4308ddf4e901",
   "metadata": {},
   "outputs": [],
   "source": [
    "nums = [5,2,5,3,5,3,1,1,3]\n",
    "k=2\n",
    "dic={}\n",
    "for i in nums:\n",
    "    dic[i]=dic.get(i,0)+1\n",
    "import heapq\n",
    "res = []\n",
    "ls = [(-1*value,key) for key,value in dic.items() ]\n",
    "heap=[]\n",
    "\n",
    "heapq.heapify(ls)\n",
    "for i in range(k):\n",
    "    res.append(heapq.heappop(ls)[1])\n",
    "# for i in range(k):\n",
    "#     heapq.heapify(ls)\n",
    "#     res.append(ls[0][1])\n",
    "#     ls.pop(0)\n",
    "print(res)\n",
    "# [item[1] for item in ls[0:k]]"
   ]
  },
  {
   "cell_type": "code",
   "execution_count": null,
   "id": "d3f015ea-87ec-4179-80b4-69fb517e7151",
   "metadata": {},
   "outputs": [],
   "source": [
    "ls = [3,5,2]\n",
    "ls.sort() #时间复杂度 平均O(nlogn)\n",
    "# top k \n",
    "# 如果ls 的len 很长，而 k又很小，例如 len=50000，k=1 ,2 , 3\n",
    "# 最值 max\n",
    "# 性能的浪费\n",
    "\n",
    "# 频率 -> dictory\n",
    "\n",
    "k =2 \n",
    "ls[0:k]"
   ]
  },
  {
   "cell_type": "code",
   "execution_count": 65,
   "id": "63ac9886-dde8-470f-a22b-6c9802e8e7a7",
   "metadata": {},
   "outputs": [
    {
     "name": "stdout",
     "output_type": "stream",
     "text": [
      "[4, 1]\n"
     ]
    }
   ],
   "source": [
    "nums = [1,1,1,2,2,3,4,4,4,4,5]\n",
    "dic={}\n",
    "k=2\n",
    "for i in nums:\n",
    "    dic[i] = dic.get(i,0)+1\n",
    "# print(dic)\n",
    "# [i for i,j in sorted(dic.items(),key = lambda x: x[1],reverse=True )[0:k] ]\n",
    "import heapq\n",
    "ls = [(-1*j,i) for (i,j) in dic.items()]\n",
    "# print(ls)\n",
    "heapq.heapify(ls)\n",
    "res = []\n",
    "for i in range(k):\n",
    "    res.append(heapq.heappop(ls)[1])\n",
    "#   4\n",
    "# 1  3\n",
    "#2 5\n",
    "print(res)"
   ]
  },
  {
   "cell_type": "code",
   "execution_count": null,
   "id": "5022f281-cbf5-451c-9517-e71ae7fdc31f",
   "metadata": {},
   "outputs": [],
   "source": [
    "help(heapq.heapify)"
   ]
  }
 ],
 "metadata": {
  "kernelspec": {
   "display_name": "Python 3 (ipykernel)",
   "language": "python",
   "name": "python3"
  },
  "language_info": {
   "codemirror_mode": {
    "name": "ipython",
    "version": 3
   },
   "file_extension": ".py",
   "mimetype": "text/x-python",
   "name": "python",
   "nbconvert_exporter": "python",
   "pygments_lexer": "ipython3",
   "version": "3.8.13"
  }
 },
 "nbformat": 4,
 "nbformat_minor": 5
}
