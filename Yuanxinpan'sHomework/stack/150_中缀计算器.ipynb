{
 "cells": [
  {
   "cell_type": "code",
   "execution_count": 12,
   "id": "6a38fbc3-59a2-4450-ae72-738a9e3ec480",
   "metadata": {},
   "outputs": [
    {
     "name": "stdout",
     "output_type": "stream",
     "text": [
      "[]\n",
      "[4]\n",
      "[4, 13]\n",
      "[4, 13, 5]\n",
      "[4, 2]\n"
     ]
    },
    {
     "data": {
      "text/plain": [
       "[6]"
      ]
     },
     "execution_count": 12,
     "metadata": {},
     "output_type": "execute_result"
    }
   ],
   "source": [
    "def opt(a, b, opt):\n",
    "    if opt == \"+\":\n",
    "        return a+b\n",
    "    elif opt == \"-\":\n",
    "        return a-b\n",
    "    elif opt == \"*\":\n",
    "        return a*b\n",
    "    elif opt == \"/\":\n",
    "        return int(a/b)\n",
    "def isdigit(string):\n",
    "    if string.lstrip('-').isdigit():\n",
    "        return True\n",
    "    return False\n",
    "    \n",
    "tokens = [\"4\",\"13\",\"5\",\"/\",\"+\"]\n",
    "stack_nums = []\n",
    "#stack_opts = []\n",
    "for string in tokens:\n",
    "    print(stack_nums)\n",
    "    if isdigit(string):\n",
    "        stack_nums.append(int(string))\n",
    "    else:\n",
    "        #stack_opts.append(string)\n",
    "        b = stack_nums.pop()\n",
    "        a = stack_nums.pop()\n",
    "        \n",
    "        stack_nums.append(opt(a,b,string))\n",
    "stack_nums"
   ]
  },
  {
   "cell_type": "code",
   "execution_count": 11,
   "id": "0932604b-ffb2-4f01-8b27-67d8bbbda50b",
   "metadata": {},
   "outputs": [
    {
     "data": {
      "text/plain": [
       "2.6"
      ]
     },
     "execution_count": 11,
     "metadata": {},
     "output_type": "execute_result"
    }
   ],
   "source": [
    "13/5"
   ]
  },
  {
   "cell_type": "code",
   "execution_count": null,
   "id": "7a8329e2-098a-49a3-8332-c31d05a22673",
   "metadata": {},
   "outputs": [],
   "source": []
  }
 ],
 "metadata": {
  "kernelspec": {
   "display_name": "Python 3 (ipykernel)",
   "language": "python",
   "name": "python3"
  },
  "language_info": {
   "codemirror_mode": {
    "name": "ipython",
    "version": 3
   },
   "file_extension": ".py",
   "mimetype": "text/x-python",
   "name": "python",
   "nbconvert_exporter": "python",
   "pygments_lexer": "ipython3",
   "version": "3.8.13"
  }
 },
 "nbformat": 4,
 "nbformat_minor": 5
}
