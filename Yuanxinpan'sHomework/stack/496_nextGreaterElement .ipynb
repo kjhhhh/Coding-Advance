{
 "cells": [
  {
   "cell_type": "code",
   "execution_count": 6,
   "id": "d39c4717-4dd6-42bc-869a-dbdea5cf6bf5",
   "metadata": {},
   "outputs": [
    {
     "data": {
      "text/plain": [
       "[-1, 3, -1]"
      ]
     },
     "execution_count": 6,
     "metadata": {},
     "output_type": "execute_result"
    }
   ],
   "source": [
    "# 双循环，naive\n",
    "nums1 = [4,1,2]\n",
    "nums2 = [1,3,4,2]\n",
    "res_ls = []        \n",
    "for i in range(len(nums1)):\n",
    "    flag_1 = 0\n",
    "    flag_2 = 0\n",
    "    ret = -1\n",
    "    for j in range(len(nums2)):        \n",
    "        if nums1[i]==nums2[j]:\n",
    "            flag_1 =1\n",
    "        if flag_1 ==1 and nums1[i] < nums2[j]:\n",
    "            flag_2 =1\n",
    "            ret = nums2[j]\n",
    "            break\n",
    "    if flag_1 == 1 and flag_2==1 :\n",
    "        res_ls.append(ret)\n",
    "    else:\n",
    "        res_ls.append(-1)\n",
    "res_ls"
   ]
  },
  {
   "cell_type": "code",
   "execution_count": 32,
   "id": "001f1473-d645-4c41-9f08-e4fa4f6d8068",
   "metadata": {},
   "outputs": [
    {
     "name": "stdout",
     "output_type": "stream",
     "text": [
      "{}\n",
      "[1]\n",
      "{1: 3}\n",
      "[3]\n",
      "{1: 3, 3: 4}\n",
      "[4]\n",
      "{1: 3, 3: 4}\n",
      "[4, 2]\n",
      "{1: 3, 3: 4, 2: 6, 4: 6}\n",
      "[6]\n",
      "{1: 3, 3: 4, 2: 6, 4: 6}\n",
      "[6, 5]\n",
      "{1: 3, 3: 4, 2: 6, 4: 6}\n",
      "[6, 5, 4.5]\n",
      "{1: 3, 3: 4, 2: 6, 4: 6, 4.5: 5.5, 5: 5.5}\n",
      "[6, 5.5]\n"
     ]
    },
    {
     "data": {
      "text/plain": [
       "[6, 3, 6]"
      ]
     },
     "execution_count": 32,
     "metadata": {},
     "output_type": "execute_result"
    }
   ],
   "source": [
    "# 目标构建字典，字典里面存放可以直接查表的结果\n",
    "nums1 = [4,1,2]\n",
    "nums2 = [1,3,4,2,6,5,4.5,5.5]\n",
    "stack = []\n",
    "dic = {}\n",
    "res_ls = []\n",
    "\n",
    "for j in nums2 :\n",
    "    \n",
    "    while stack and j > stack[-1]:\n",
    "        dic[stack[-1]] = j\n",
    "        stack.pop()\n",
    "        \n",
    "    stack.append(j) #压栈\n",
    "    print(dic)\n",
    "    print(stack)\n",
    "    \n",
    "for i in nums1:\n",
    "    if i in dic:\n",
    "        res_ls.append(dic[i])\n",
    "    else:\n",
    "        res_ls.append(-1)\n",
    "res_ls"
   ]
  },
  {
   "cell_type": "code",
   "execution_count": null,
   "id": "cf121aee-083b-4b10-8c40-07a34f84a1b2",
   "metadata": {},
   "outputs": [],
   "source": []
  }
 ],
 "metadata": {
  "kernelspec": {
   "display_name": "Python 3 (ipykernel)",
   "language": "python",
   "name": "python3"
  },
  "language_info": {
   "codemirror_mode": {
    "name": "ipython",
    "version": 3
   },
   "file_extension": ".py",
   "mimetype": "text/x-python",
   "name": "python",
   "nbconvert_exporter": "python",
   "pygments_lexer": "ipython3",
   "version": "3.8.13"
  }
 },
 "nbformat": 4,
 "nbformat_minor": 5
}
