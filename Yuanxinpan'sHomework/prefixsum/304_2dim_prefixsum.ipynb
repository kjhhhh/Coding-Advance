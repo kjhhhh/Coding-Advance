{
 "cells": [
  {
   "cell_type": "code",
   "execution_count": 81,
   "id": "a7bafc19-334e-4ac7-a354-a0c652992e7c",
   "metadata": {},
   "outputs": [
    {
     "name": "stdout",
     "output_type": "stream",
     "text": [
      "[3, 0, 1, 4, 2]\n",
      "[5, 6, 3, 2, 1]\n",
      "[1, 2, 0, 1, 5]\n",
      "[4, 1, 0, 1, 7]\n",
      "[1, 0, 3, 0, 5]\n"
     ]
    },
    {
     "data": {
      "text/plain": [
       "[[0, 0, 0, 0, 0, 0],\n",
       " [0, 3, 3, 4, 8, 10],\n",
       " [0, 8, 14, 18, 24, 27],\n",
       " [0, 9, 17, 21, 28, 36],\n",
       " [0, 13, 22, 26, 34, 49],\n",
       " [0, 14, 23, 30, 38, 58]]"
      ]
     },
     "execution_count": 81,
     "metadata": {},
     "output_type": "execute_result"
    }
   ],
   "source": [
    "matrix = [[3,0,1,4,2],[5,6,3,2,1],[1,2,0,1,5],[4,1,0,1,7],[1,0,3,0,5]]\n",
    "for i in range(len(matrix)):\n",
    "    print(matrix[i])\n",
    "rowsize = len(matrix)        \n",
    "colsize = len(matrix[0])\n",
    "\n",
    "# if rowsize==0 and colsize==0：\n",
    "#     self.matrix = matrix        \n",
    "resmatrix = [[0]*(colsize+1) for _ in range((rowsize+1))]\n",
    "\n",
    "for i in range(1,rowsize+1):\n",
    "    # print(resmatrix)\n",
    "    for j in range(1,colsize+1):        \n",
    "        resmatrix[i][j] = resmatrix[i-1][j] + resmatrix[i][j-1] - resmatrix[i-1][j-1]  + matrix[i-1][j-1]\n",
    "resmatrix"
   ]
  },
  {
   "cell_type": "code",
   "execution_count": 77,
   "id": "c4973054-f409-446b-ab4c-c6581b6242c1",
   "metadata": {},
   "outputs": [],
   "source": [
    "row1,col1,row2,col2=2,1,4,3"
   ]
  },
  {
   "cell_type": "code",
   "execution_count": 76,
   "id": "827540ef-b2ef-410f-bdcf-9dd460440aea",
   "metadata": {},
   "outputs": [
    {
     "data": {
      "text/plain": [
       "8"
      ]
     },
     "execution_count": 76,
     "metadata": {},
     "output_type": "execute_result"
    }
   ],
   "source": [
    "resmatrix[row2+1][col2+1] - resmatrix[row1][col2+1] - resmatrix[row2+1][col1] + resmatrix[row1][col1]"
   ]
  },
  {
   "cell_type": "code",
   "execution_count": null,
   "id": "63e0ab11-630b-4094-a970-61a46a226db3",
   "metadata": {},
   "outputs": [],
   "source": [
    "class NumMatrix:\n",
    "    # def __init__(self, matrix: List[List[int]]):\n",
    "    #     self.matrix = matrix\n",
    "\n",
    "    # def sumRegion(self, row1: int, col1: int, row2: int, col2: int) -> int:\n",
    "    #     res = 0\n",
    "    #     for i in range(row1,row2+1):\n",
    "    #         for j in range(col1,col2+1):\n",
    "    #             res += self.matrix[i][j]\n",
    "    #     return res\n",
    "    def __init__(self, matrix: List[List[int]]):\n",
    "        rowsize = len(matrix)        \n",
    "        colsize = len(matrix[0])\n",
    "\n",
    "        # if rowsize==0 and colsize==0：\n",
    "        #     self.matrix = matrix        \n",
    "        resmatrix = [[0]*(colsize+1) for _ in range((rowsize+1))]\n",
    "\n",
    "        for i in range(1,rowsize+1):\n",
    "            # print(resmatrix)\n",
    "            for j in range(1,colsize+1):        \n",
    "                resmatrix[i][j] = resmatrix[i-1][j] + resmatrix[i][j-1] - resmatrix[i-1][j-1]  + matrix[i-1][j-1]\n",
    "        self.matrix = resmatrix\n",
    "\n",
    "    def sumRegion(self, row1: int, col1: int, row2: int, col2: int) -> int:\n",
    "        return self.matrix[row2+1][col2+1] - self.matrix[row1][col2+1] - self.matrix[row2+1][col1] + self.matrix[row1][col1]\n",
    "    \n",
    "\n",
    "\n",
    "# Your NumMatrix object will be instantiated and called as such:\n",
    "# obj = NumMatrix(matrix)\n",
    "# param_1 = obj.sumRegion(row1,col1,row2,col2)"
   ]
  }
 ],
 "metadata": {
  "kernelspec": {
   "display_name": "Python 3 (ipykernel)",
   "language": "python",
   "name": "python3"
  },
  "language_info": {
   "codemirror_mode": {
    "name": "ipython",
    "version": 3
   },
   "file_extension": ".py",
   "mimetype": "text/x-python",
   "name": "python",
   "nbconvert_exporter": "python",
   "pygments_lexer": "ipython3",
   "version": "3.8.16"
  }
 },
 "nbformat": 4,
 "nbformat_minor": 5
}
