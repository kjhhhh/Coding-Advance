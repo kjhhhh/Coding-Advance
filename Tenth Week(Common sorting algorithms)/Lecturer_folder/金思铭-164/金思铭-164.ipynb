{
 "cells": [
  {
   "cell_type": "code",
   "execution_count": 1,
   "id": "25f91fb5-2fd3-425d-8f22-4f8beebc4845",
   "metadata": {},
   "outputs": [],
   "source": [
    "class Solution(object):\n",
    "    def maximumGap(self, nums):\n",
    "        \"\"\"\n",
    "        :type nums: List[int]\n",
    "        :rtype: int\n",
    "        \"\"\"\n",
    "\n",
    "        if len(nums)<2:\n",
    "            return 0\n",
    "\n",
    "        m = len(str(max(nums)))\n",
    "        bucket = [nums]  #[[100,3,2,1]]\n",
    "        for i in range(m):\n",
    "            temp = [[]for _ in range(10)]\n",
    "            for j in bucket: #[100,3,2,1]\n",
    "                for k in j:\n",
    "                    num = (k//10**i)%10\n",
    "                    temp[num].append(k)\n",
    "            bucket = temp\n",
    "        \n",
    "        result = []\n",
    "        for i in bucket:\n",
    "            for j in i:\n",
    "                result.append(j)\n",
    "        \n",
    "        max_num = 0\n",
    "        for i in range(len(result)-1):\n",
    "            max_num = max(max_num,result[i+1]-result[i])\n",
    "        \n",
    "        return max_num\n"
   ]
  },
  {
   "cell_type": "code",
   "execution_count": 2,
   "id": "df73f9e8-f6fb-43ea-a6e7-0fa4d01cf6da",
   "metadata": {},
   "outputs": [],
   "source": [
    "nums = [100,3,2,1]"
   ]
  },
  {
   "cell_type": "code",
   "execution_count": 3,
   "id": "527c314f-882d-47ef-96c7-b5802f324d2e",
   "metadata": {},
   "outputs": [
    {
     "data": {
      "text/plain": [
       "97"
      ]
     },
     "execution_count": 3,
     "metadata": {},
     "output_type": "execute_result"
    }
   ],
   "source": [
    "Solution().maximumGap(nums)"
   ]
  }
 ],
 "metadata": {
  "kernelspec": {
   "display_name": "Python 3 (ipykernel)",
   "language": "python",
   "name": "python3"
  },
  "language_info": {
   "codemirror_mode": {
    "name": "ipython",
    "version": 3
   },
   "file_extension": ".py",
   "mimetype": "text/x-python",
   "name": "python",
   "nbconvert_exporter": "python",
   "pygments_lexer": "ipython3",
   "version": "3.11.0"
  }
 },
 "nbformat": 4,
 "nbformat_minor": 5
}
