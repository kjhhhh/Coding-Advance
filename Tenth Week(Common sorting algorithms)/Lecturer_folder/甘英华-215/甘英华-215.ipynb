{
 "cells": [
  {
   "cell_type": "code",
   "execution_count": null,
   "metadata": {},
   "outputs": [],
   "source": [
    "#215找到数组中第k个最大值\n"
   ]
  },
  {
   "cell_type": "code",
   "execution_count": 45,
   "metadata": {},
   "outputs": [],
   "source": [
    "#方法一：快排法\n",
    "from typing import List\n",
    "\n",
    "class Solution:\n",
    "    def findKthLargest(self, nums: List[int], k: int) -> int:\n",
    "        #优化前\n",
    "        def quick_sort(low, high):\n",
    "            if(low >= high):\n",
    "                return\n",
    "            pivot = nums[low]\n",
    "            left, right = low, high\n",
    "            \n",
    "            while left < right:\n",
    "                while left < right and nums[right] >= pivot: \n",
    "                    right -= 1\n",
    "                while left < right and nums[left] <= pivot: \n",
    "                    left += 1\n",
    "                nums[left], nums[right] = nums[right], nums[left]\n",
    "            nums[low], nums[left] = nums[left], nums[low]\n",
    "            quick_sort(low, left - 1)\n",
    "            quick_sort(left + 1, high)\n",
    "        quick_sort(0,len(nums)-1)\n",
    "        return nums[-k]\n",
    "\n",
    "#优化后\n",
    "        def quick_sort(low, high):\n",
    "            pivot = nums[low] #基准数\n",
    "            left, right = low, high #定义俩指针\n",
    "            \n",
    "            while left < right:\n",
    "                while left < right and nums[right] >= pivot: \n",
    "                    right -= 1\n",
    "                while left < right and nums[left] <= pivot: \n",
    "                    left += 1\n",
    "                nums[left], nums[right] = nums[right], nums[left]\n",
    "            nums[low], nums[left] = nums[left], nums[low]\n",
    "            if left > len(nums) - k: \n",
    "                return quick_sort(low, left - 1) \n",
    "            if right < len(nums) - k:\n",
    "                return quick_sort(left + 1, high)\n",
    "            # 若基准数索引为 n - k ，则直接返回该元素\n",
    "            return nums[left]   \n",
    "        return quick_sort(0, len(nums) - 1)\n"
   ]
  },
  {
   "cell_type": "code",
   "execution_count": 46,
   "metadata": {},
   "outputs": [
    {
     "data": {
      "text/plain": [
       "5"
      ]
     },
     "execution_count": 46,
     "metadata": {},
     "output_type": "execute_result"
    }
   ],
   "source": [
    "nums = [5,2,9,1,3,6]\n",
    "x = Solution()\n",
    "x.findKthLargest(nums,3)"
   ]
  },
  {
   "cell_type": "code",
   "execution_count": 47,
   "metadata": {},
   "outputs": [
    {
     "data": {
      "text/plain": [
       "[1, 2, 3, 5, 6, 9]"
      ]
     },
     "execution_count": 47,
     "metadata": {},
     "output_type": "execute_result"
    }
   ],
   "source": [
    "nums         "
   ]
  },
  {
   "cell_type": "code",
   "execution_count": null,
   "metadata": {},
   "outputs": [],
   "source": [
    "class Solution:\n",
    "    def findKthLargest(self, nums: List[int], k: int) -> int:\n",
    "        def bigheap(mylist,low,high):\n",
    "            # mylist列表，low列表的第一个下标(堆顶元素的位置),high列表的最后一个下标(堆顶的最后一个元素)\n",
    "            i,j = low,2*low+1 #i最开始指向堆顶元素,j指向i的左节点\n",
    "            root = mylist[low] # 堆顶\n",
    "            while j<=high:   \n",
    "                if j+1 <= high and mylist[j+1] > mylist[j]:\n",
    "                    j = j+1  # 首先，找到子节点中的较大结点，也就是如果右节点比左节点大，换位右节点\n",
    "        \n",
    "                if mylist[j] > root :\n",
    "                    mylist[i] = mylist[j] # 如果较大节点比父节点大，将该子节点值赋给为父节点值\n",
    "                    i = j   # 将该结点作为新的父节点位置\n",
    "                    j = i*2 + 1  # j的位置变为父节点的左子节点\n",
    "                else:\n",
    "                    break  # 证明父节点比子节点大，退出循环\n",
    "            mylist[i] = root\n",
    "\n",
    "        def heapSort(mylist):\n",
    "            n = len(mylist)\n",
    "            # 倒序遍历所有的父亲结点，步长-1\n",
    "            for i in range((n//2)-1,-1,-1):\n",
    "                bigheap(mylist,i,n-1)   # 大顶堆构建完成\n",
    "#             for i in range(n-1,0,-1):\n",
    "#                 # 将堆顶（列表中的最大值）和堆尾交换，从堆尾的前一个开始，重新排序\n",
    "#                 mylist[i],mylist[0] = mylist[0],mylist[i]\n",
    "#                 bigheap(mylist,0,i-1)\n",
    "             for i in range(n-1,n-k-1,-1):#优化版——针对于此题\n",
    "                # 将堆顶（列表中的最大值）和堆尾交换，从堆尾的前一个开始，重新排序\n",
    "                mylist[i],mylist[0] = mylist[0],mylist[i]\n",
    "                bigheap(mylist,0,i-1)\n",
    "\n",
    "            return mylist   # 正序\n",
    "        \n",
    "        ans = heapSort(nums)\n",
    "        return ans[len(nums)-k]\n",
    "\n"
   ]
  },
  {
   "cell_type": "code",
   "execution_count": null,
   "metadata": {},
   "outputs": [],
   "source": []
  }
 ],
 "metadata": {
  "kernelspec": {
   "display_name": "Python 3",
   "language": "python",
   "name": "python3"
  },
  "language_info": {
   "codemirror_mode": {
    "name": "ipython",
    "version": 3
   },
   "file_extension": ".py",
   "mimetype": "text/x-python",
   "name": "python",
   "nbconvert_exporter": "python",
   "pygments_lexer": "ipython3",
   "version": "3.7.4"
  }
 },
 "nbformat": 4,
 "nbformat_minor": 2
}
