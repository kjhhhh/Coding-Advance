{
 "cells": [
  {
   "cell_type": "code",
   "execution_count": 15,
   "id": "e695def9-91fe-4b08-924e-9a77927333ad",
   "metadata": {},
   "outputs": [],
   "source": [
    "class Solution:\n",
    "    def sortArray(self, nums):\n",
    "        import random\n",
    "        def quick_sort(nums,left,right):\n",
    "            key=nums[random.randint(left,right)]\n",
    "            i=left\n",
    "            j=right\n",
    "            while i<=j:\n",
    "                while nums[i]<key:\n",
    "                    i+=1\n",
    "                while nums[j]>key:\n",
    "                    j-=1\n",
    "                if i<=j:\n",
    "                    nums[i],nums[j]=nums[j],nums[i]\n",
    "                    i+=1\n",
    "                    j-=1\n",
    "            if i<right:\n",
    "                quick_sort(nums,i,right)\n",
    "            if j>left:\n",
    "                quick_sort(nums,left,j)\n",
    "        quick_sort(nums,0,len(nums)-1)\n",
    "        return nums"
   ]
  },
  {
   "cell_type": "code",
   "execution_count": 16,
   "id": "20e0cc85-66d0-4a27-9d45-70922e3c443f",
   "metadata": {},
   "outputs": [],
   "source": [
    "nums = [5,2,3,1]"
   ]
  },
  {
   "cell_type": "code",
   "execution_count": 18,
   "id": "a8e9b2aa-3be1-4eb8-9f35-bade92e4e08a",
   "metadata": {},
   "outputs": [
    {
     "data": {
      "text/plain": [
       "[1, 2, 3, 5]"
      ]
     },
     "execution_count": 18,
     "metadata": {},
     "output_type": "execute_result"
    }
   ],
   "source": [
    "Solution().sortArray(nums)"
   ]
  }
 ],
 "metadata": {
  "kernelspec": {
   "display_name": "Python 3 (ipykernel)",
   "language": "python",
   "name": "python3"
  },
  "language_info": {
   "codemirror_mode": {
    "name": "ipython",
    "version": 3
   },
   "file_extension": ".py",
   "mimetype": "text/x-python",
   "name": "python",
   "nbconvert_exporter": "python",
   "pygments_lexer": "ipython3",
   "version": "3.11.0"
  }
 },
 "nbformat": 4,
 "nbformat_minor": 5
}
