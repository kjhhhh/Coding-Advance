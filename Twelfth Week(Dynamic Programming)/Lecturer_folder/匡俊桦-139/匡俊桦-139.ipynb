{
 "cells": [
  {
   "cell_type": "code",
   "execution_count": 2,
   "id": "7b133371-1366-4316-8093-5a2f3e7945ca",
   "metadata": {},
   "outputs": [],
   "source": [
    "'''排列'''\n",
    "class Solution:\n",
    "    def wordBreak(self, s: str, wordDict) :\n",
    "        dp = [False]*(len(s) + 1)\n",
    "        dp[0] = True #表示空串是可以被拆分成功的：\n",
    "        # 遍历背包\n",
    "        for j in range(1, len(s) + 1):\n",
    "            # 遍历单词\n",
    "            for word in wordDict:\n",
    "                if j >= len(word):# 如果可以装单词了 则可以分为 不装单词的状态 \n",
    "                # 或者 当前步骤装单词 则需要前一步可以装 以及当前字符串符合单词 \n",
    "                    dp[j] = dp[j] or (dp[j - len(word)] and word == s[j - len(word):j])\n",
    "        return dp[-1]"
   ]
  },
  {
   "cell_type": "code",
   "execution_count": 3,
   "id": "887b7aec-c9c9-451f-81d6-34358d38bcaa",
   "metadata": {},
   "outputs": [],
   "source": [
    "s = \"leetcode\"\n",
    "wordDict = [\"leet\", \"code\"]"
   ]
  },
  {
   "cell_type": "code",
   "execution_count": 4,
   "id": "769345af-9539-4ffb-a060-90dec97c5696",
   "metadata": {},
   "outputs": [
    {
     "data": {
      "text/plain": [
       "True"
      ]
     },
     "execution_count": 4,
     "metadata": {},
     "output_type": "execute_result"
    }
   ],
   "source": [
    "Solution().wordBreak(s,wordDict)"
   ]
  },
  {
   "cell_type": "code",
   "execution_count": 5,
   "id": "76ef04a2-a79d-44d0-b2be-7fc40dc94b89",
   "metadata": {},
   "outputs": [
    {
     "data": {
      "text/plain": [
       "False"
      ]
     },
     "execution_count": 5,
     "metadata": {},
     "output_type": "execute_result"
    }
   ],
   "source": [
    "s = \"catsandog\"\n",
    "wordDict = [\"cats\", \"dog\", \"sand\", \"and\", \"cat\"]\n",
    "Solution().wordBreak(s,wordDict)"
   ]
  }
 ],
 "metadata": {
  "kernelspec": {
   "display_name": "Python 3 (ipykernel)",
   "language": "python",
   "name": "python3"
  },
  "language_info": {
   "codemirror_mode": {
    "name": "ipython",
    "version": 3
   },
   "file_extension": ".py",
   "mimetype": "text/x-python",
   "name": "python",
   "nbconvert_exporter": "python",
   "pygments_lexer": "ipython3",
   "version": "3.11.0"
  }
 },
 "nbformat": 4,
 "nbformat_minor": 5
}
