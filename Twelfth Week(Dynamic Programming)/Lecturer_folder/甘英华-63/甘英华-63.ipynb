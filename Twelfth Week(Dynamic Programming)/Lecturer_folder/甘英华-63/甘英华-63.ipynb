{
 "cells": [
  {
   "cell_type": "code",
   "execution_count": 23,
   "metadata": {},
   "outputs": [],
   "source": [
    "# leetcode62题 1.递归  \n",
    "def L(i : int, j : int) ->int:\n",
    "    if (i == 0 or j == 0) :\n",
    "        return 1\n",
    "    return L(i-1,j)+ L(i,j-1)\n",
    "def L(i : int, j : int) ->int:\n",
    "    if (i == 0 or j == 1):\n",
    "        return 1\n",
    "    return L(i-1,j)+L(i,j-1)"
   ]
  },
  {
   "cell_type": "code",
   "execution_count": 24,
   "metadata": {},
   "outputs": [
    {
     "data": {
      "text/plain": [
       "28"
      ]
     },
     "execution_count": 24,
     "metadata": {},
     "output_type": "execute_result"
    }
   ],
   "source": [
    "m = 3\n",
    "n = 7\n",
    "L(m-1,n-1)"
   ]
  },
  {
   "cell_type": "code",
   "execution_count": 38,
   "metadata": {},
   "outputs": [
    {
     "data": {
      "text/plain": [
       "[[1, 1, 1, 1, 1, 1, 1], [1, 2, 3, 4, 5, 6, 7], [1, 3, 6, 10, 15, 21, 28]]"
      ]
     },
     "execution_count": 38,
     "metadata": {},
     "output_type": "execute_result"
    }
   ],
   "source": [
    "# 动态规划\n",
    "# 1.定义dp数组\n",
    "# dp = [[0]* n ] * m\n",
    "dp = [[0 for _ in range(n)] for _ in range(m)]\n",
    "# dp\n",
    "# 2.初始化第一行及第一列的值\n",
    "for i in range(0, m):\n",
    "    dp[i][0] = 1\n",
    "for j in range(0, n):\n",
    "    dp[0][j] = 1\n",
    "# 3.根据递推公式及遍历顺序，遍历dp数组\n",
    "for i in range(1,m):\n",
    "    for j in range(1,n):\n",
    "        dp[i][j] = dp[i-1][j] + dp[i][j-1]\n",
    "dp"
   ]
  },
  {
   "cell_type": "code",
   "execution_count": 11,
   "metadata": {},
   "outputs": [],
   "source": [
    "# leetcode63题\n",
    "a = [[0,0,1,0],[0,1,0,0],[0,0,0,0]]\n",
    "m = len(a)\n",
    "n = len(a[0])\n",
    "\n",
    "# a\n",
    "# 定义dp数组\n",
    "dp = [[0 for _ in range(n)] for _ in range(m)]\n",
    "# dp"
   ]
  },
  {
   "cell_type": "code",
   "execution_count": 13,
   "metadata": {},
   "outputs": [
    {
     "data": {
      "text/plain": [
       "4"
      ]
     },
     "execution_count": 13,
     "metadata": {},
     "output_type": "execute_result"
    }
   ],
   "source": [
    "n"
   ]
  },
  {
   "cell_type": "code",
   "execution_count": 8,
   "metadata": {},
   "outputs": [
    {
     "data": {
      "text/plain": [
       "[[1, 1, 0, 0], [1, 0, 0, 0], [1, 0, 0, 0]]"
      ]
     },
     "execution_count": 8,
     "metadata": {},
     "output_type": "execute_result"
    }
   ],
   "source": [
    "#初始化dp数组\n",
    "for i in range(0,m):\n",
    "    if(a[i][0] == 1):\n",
    "        for i in range(i,m):\n",
    "            dp[i][0] = 0\n",
    "        break\n",
    "    dp[i][0] = 1\n",
    "for j in range(0,n):\n",
    "    if(a[0][j] == 1):\n",
    "        for j in range(j,n):\n",
    "            dp[0][j] = 0\n",
    "        break\n",
    "    dp[0][j] = 1\n",
    "dp"
   ]
  },
  {
   "cell_type": "code",
   "execution_count": 10,
   "metadata": {},
   "outputs": [
    {
     "data": {
      "text/plain": [
       "[[1, 1, 0, 0], [1, 0, 0, 0], [1, 1, 1, 1]]"
      ]
     },
     "execution_count": 10,
     "metadata": {},
     "output_type": "execute_result"
    }
   ],
   "source": [
    "#确定递推公式及遍历顺序\n",
    "for i in range(1,m):\n",
    "    for j in range(1,n):\n",
    "        if(a[i][j] == 1):\n",
    "            dp[i][j] = 0\n",
    "        else:\n",
    "            dp[i][j] = dp[i][j-1] + dp[i-1][j]\n",
    "# 打印dp\n",
    "dp"
   ]
  },
  {
   "cell_type": "code",
   "execution_count": null,
   "metadata": {},
   "outputs": [],
   "source": []
  }
 ],
 "metadata": {
  "kernelspec": {
   "display_name": "Python 3",
   "language": "python",
   "name": "python3"
  },
  "language_info": {
   "codemirror_mode": {
    "name": "ipython",
    "version": 3
   },
   "file_extension": ".py",
   "mimetype": "text/x-python",
   "name": "python",
   "nbconvert_exporter": "python",
   "pygments_lexer": "ipython3",
   "version": "3.7.4"
  }
 },
 "nbformat": 4,
 "nbformat_minor": 2
}
