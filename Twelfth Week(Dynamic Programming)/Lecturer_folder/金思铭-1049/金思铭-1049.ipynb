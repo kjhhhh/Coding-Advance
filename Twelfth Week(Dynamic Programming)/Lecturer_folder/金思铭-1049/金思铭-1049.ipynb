{
 "cells": [
  {
   "cell_type": "code",
   "execution_count": 1,
   "id": "d2ead422-a075-4762-a8d5-a5223a0a57b0",
   "metadata": {},
   "outputs": [],
   "source": [
    "class Solution(object):\n",
    "    def lastStoneWeightII(self, stones):\n",
    "        \"\"\"\n",
    "        :type stones: List[int]\n",
    "        :rtype: int\n",
    "        \"\"\"\n",
    "\n",
    "        sum = 0\n",
    "        for weight in stones:\n",
    "            sum += weight\n",
    "        \n",
    "        target = sum // 2\n",
    "        dp = [0]*(target+1)\n",
    "        for i in range(len(stones)):\n",
    "            for j in range(target,stones[i]-1,-1):\n",
    "                dp[j] = max(dp[j],dp[j-stones[i]]+stones[i])\n",
    "\n",
    "        return sum-dp[target] - dp[target]"
   ]
  },
  {
   "cell_type": "code",
   "execution_count": 2,
   "id": "3c4e4901-7a98-4371-b161-81948a0e9a5e",
   "metadata": {},
   "outputs": [],
   "source": [
    "stones = [2,7,4,1,8,1]"
   ]
  },
  {
   "cell_type": "code",
   "execution_count": 3,
   "id": "c9ddf012-be08-40d4-970a-15c36c08fcb6",
   "metadata": {},
   "outputs": [
    {
     "data": {
      "text/plain": [
       "1"
      ]
     },
     "execution_count": 3,
     "metadata": {},
     "output_type": "execute_result"
    }
   ],
   "source": [
    "Solution().lastStoneWeightII(stones)"
   ]
  }
 ],
 "metadata": {
  "kernelspec": {
   "display_name": "Python 3 (ipykernel)",
   "language": "python",
   "name": "python3"
  },
  "language_info": {
   "codemirror_mode": {
    "name": "ipython",
    "version": 3
   },
   "file_extension": ".py",
   "mimetype": "text/x-python",
   "name": "python",
   "nbconvert_exporter": "python",
   "pygments_lexer": "ipython3",
   "version": "3.11.0"
  }
 },
 "nbformat": 4,
 "nbformat_minor": 5
}
