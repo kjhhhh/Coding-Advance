{
 "cells": [
  {
   "cell_type": "code",
   "execution_count": 1,
   "metadata": {},
   "outputs": [],
   "source": [
    "class Solution:\n",
    "    def sumsq(self,n:int):\n",
    "        sum = 0\n",
    "        for i in str(n):\n",
    "            sum += int(i)**2\n",
    "        return sum\n",
    "    def isHappy(self, n: int) -> bool:\n",
    "        visited = {}\n",
    "        while n != 1:\n",
    "            if n in visited :\n",
    "                return False\n",
    "            visited[n]=True\n",
    "            n = self.sumsq(n)\n",
    "        return True\n"
   ]
  },
  {
   "cell_type": "code",
   "execution_count": 3,
   "metadata": {},
   "outputs": [
    {
     "data": {
      "text/plain": [
       "True"
      ]
     },
     "execution_count": 3,
     "metadata": {},
     "output_type": "execute_result"
    }
   ],
   "source": [
    "Solution().isHappy(19)"
   ]
  },
  {
   "cell_type": "code",
   "execution_count": 4,
   "metadata": {},
   "outputs": [],
   "source": [
    "class Solution:\n",
    "    def sumsq(self,n:int):\n",
    "        sum = 0\n",
    "        for i in str(n):\n",
    "            sum += int(i)**2\n",
    "        return sum\n",
    "    def isHappy(self, n: int) -> bool:\n",
    "        slow = n\n",
    "        fast = n\n",
    "        while True:\n",
    "            slow = self.sumsq(slow)\n",
    "            fast = self.sumsq(self.sumsq(fast))\n",
    "            if fast == 1:\n",
    "                return True\n",
    "            if slow == fast:\n",
    "                return False\n"
   ]
  },
  {
   "cell_type": "code",
   "execution_count": 7,
   "metadata": {},
   "outputs": [
    {
     "data": {
      "text/plain": [
       "True"
      ]
     },
     "execution_count": 7,
     "metadata": {},
     "output_type": "execute_result"
    }
   ],
   "source": [
    "Solution().isHappy(19)"
   ]
  }
 ],
 "metadata": {
  "kernelspec": {
   "display_name": "Python 3",
   "language": "python",
   "name": "python3"
  },
  "language_info": {
   "codemirror_mode": {
    "name": "ipython",
    "version": 3
   },
   "file_extension": ".py",
   "mimetype": "text/x-python",
   "name": "python",
   "nbconvert_exporter": "python",
   "pygments_lexer": "ipython3",
   "version": "3.11.0"
  },
  "orig_nbformat": 4
 },
 "nbformat": 4,
 "nbformat_minor": 2
}
