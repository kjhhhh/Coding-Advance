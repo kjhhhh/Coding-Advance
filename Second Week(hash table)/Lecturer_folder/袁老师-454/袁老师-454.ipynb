{
 "cells": [
  {
   "cell_type": "code",
   "execution_count": 22,
   "id": "5679650c-1a92-4166-af2b-5da1ffc7c87e",
   "metadata": {},
   "outputs": [],
   "source": [
    "def fourSumCount(nums1, nums2, nums3, nums4):\n",
    "    dic_A = {}\n",
    "    dic_B = {}\n",
    "    for i in nums1:\n",
    "        for j in nums2:\n",
    "            sumij = i+j\n",
    "            dic_A[sumij] = dic_A.get(sumij,0)+1\n",
    "\n",
    "    for i in nums3:\n",
    "        for j in nums4:\n",
    "            sumij = -i-j\n",
    "            dic_B[sumij] = dic_B.get(sumij,0)+1\n",
    "\n",
    "    res = 0\n",
    "    for item_A in dic_A.items():\n",
    "        if item_A[0] in dic_B:\n",
    "            res += item_A[1] * dic_B[item_A[0]]\n",
    "    return res"
   ]
  },
  {
   "cell_type": "code",
   "execution_count": 23,
   "id": "4191a29e-7824-470f-b1e6-874c765ad5c2",
   "metadata": {},
   "outputs": [
    {
     "data": {
      "text/plain": [
       "2"
      ]
     },
     "execution_count": 23,
     "metadata": {},
     "output_type": "execute_result"
    }
   ],
   "source": [
    "nums1 = [1,2]\n",
    "nums2 = [-2,-1]\n",
    "nums3 = [-1,2]\n",
    "nums4 = [0,2]\n",
    "fourSumCount(nums1,nums2,nums3,nums4)"
   ]
  },
  {
   "cell_type": "code",
   "execution_count": null,
   "id": "1a33d1b3-83f5-4687-a237-7df3721c2a1c",
   "metadata": {},
   "outputs": [],
   "source": []
  }
 ],
 "metadata": {
  "kernelspec": {
   "display_name": "Python 3 (ipykernel)",
   "language": "python",
   "name": "python3"
  },
  "language_info": {
   "codemirror_mode": {
    "name": "ipython",
    "version": 3
   },
   "file_extension": ".py",
   "mimetype": "text/x-python",
   "name": "python",
   "nbconvert_exporter": "python",
   "pygments_lexer": "ipython3",
   "version": "3.8.13"
  }
 },
 "nbformat": 4,
 "nbformat_minor": 5
}
