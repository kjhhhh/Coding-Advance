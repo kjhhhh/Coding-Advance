{
 "cells": [
  {
   "cell_type": "code",
   "execution_count": 48,
   "metadata": {},
   "outputs": [
    {
     "data": {
      "text/plain": [
       "[-1, -1]"
      ]
     },
     "execution_count": 48,
     "metadata": {},
     "output_type": "execute_result"
    }
   ],
   "source": [
    "from typing import List\n",
    "import collections\n",
    "#leeetcode1\n",
    "#最常规的方法：从左往右的去遍历列表，遍历\n",
    "nums = [2,7,7,11,7,15]\n",
    "target = 9\n",
    "li = [-1]*2\n",
    "li"
   ]
  },
  {
   "cell_type": "code",
   "execution_count": 49,
   "metadata": {},
   "outputs": [],
   "source": [
    "for i in range(len(nums)):\n",
    "        for j in range(i+1,len(nums)):\n",
    "            if nums[j]+nums[i] == target:\n",
    "                li[0] = i\n",
    "                li[1] = j\n",
    "                break"
   ]
  },
  {
   "cell_type": "code",
   "execution_count": 50,
   "metadata": {},
   "outputs": [
    {
     "data": {
      "text/plain": [
       "[0, 1]"
      ]
     },
     "execution_count": 50,
     "metadata": {},
     "output_type": "execute_result"
    }
   ],
   "source": [
    "li"
   ]
  },
  {
   "cell_type": "code",
   "execution_count": 51,
   "metadata": {},
   "outputs": [],
   "source": [
    "#用空间去换时间，利用哈希表，即字典\n",
    "Dict = {}\n",
    "for i in range(len(nums)):\n",
    "    Dict[nums[i]] = i\n"
   ]
  },
  {
   "cell_type": "code",
   "execution_count": 52,
   "metadata": {},
   "outputs": [
    {
     "data": {
      "text/plain": [
       "{2: 0, 7: 4, 11: 3, 15: 5}"
      ]
     },
     "execution_count": 52,
     "metadata": {},
     "output_type": "execute_result"
    }
   ],
   "source": [
    "Dict"
   ]
  },
  {
   "cell_type": "code",
   "execution_count": 53,
   "metadata": {},
   "outputs": [
    {
     "data": {
      "text/plain": [
       "[0, 4]"
      ]
     },
     "execution_count": 53,
     "metadata": {},
     "output_type": "execute_result"
    }
   ],
   "source": [
    "for i in range(len(nums)):\n",
    "        if target-nums[i] in Dict.keys() and i != Dict[target-nums[i]]:\n",
    "                li[0] = i\n",
    "                li[1] = Dict[target-nums[i]]\n",
    "                break\n",
    "li"
   ]
  },
  {
   "cell_type": "code",
   "execution_count": 54,
   "metadata": {},
   "outputs": [
    {
     "data": {
      "text/plain": [
       "{'a': 3, 'n': 1, 'g': 1, 'r': 1, 'm': 1}"
      ]
     },
     "execution_count": 54,
     "metadata": {},
     "output_type": "execute_result"
    }
   ],
   "source": [
    "#leetcode242\n",
    "#方法一 统计两个字符串中每个字符的数量，再比较组成的字符种类和字符数量是否一样\n",
    "s = \"anagram\"\n",
    "t = \"nagaram\"\n",
    "sdict = {}\n",
    "tdict = {}\n",
    "for i in range(len(s)):\n",
    "    if s[i] not in sdict.keys():\n",
    "        sdict[s[i]] = 1\n",
    "    else:\n",
    "        sdict[s[i]] += 1\n",
    "for i in range(len(t)):\n",
    "    if t[i] not in tdict.keys():\n",
    "        tdict[t[i]] = 1\n",
    "    else:\n",
    "        tdict[t[i]] += 1\n",
    "sdict"
   ]
  },
  {
   "cell_type": "code",
   "execution_count": 55,
   "metadata": {},
   "outputs": [
    {
     "data": {
      "text/plain": [
       "{'n': 1, 'a': 3, 'g': 1, 'r': 1, 'm': 1}"
      ]
     },
     "execution_count": 55,
     "metadata": {},
     "output_type": "execute_result"
    }
   ],
   "source": [
    "tdict"
   ]
  },
  {
   "cell_type": "code",
   "execution_count": 56,
   "metadata": {},
   "outputs": [
    {
     "data": {
      "text/plain": [
       "True"
      ]
     },
     "execution_count": 56,
     "metadata": {},
     "output_type": "execute_result"
    }
   ],
   "source": [
    "sdict == tdict"
   ]
  },
  {
   "cell_type": "code",
   "execution_count": 57,
   "metadata": {},
   "outputs": [
    {
     "data": {
      "text/plain": [
       "True"
      ]
     },
     "execution_count": 57,
     "metadata": {},
     "output_type": "execute_result"
    }
   ],
   "source": [
    "#方法二\n",
    "sorted(s) == sorted(t)"
   ]
  },
  {
   "cell_type": "code",
   "execution_count": 58,
   "metadata": {},
   "outputs": [
    {
     "data": {
      "text/plain": [
       "True"
      ]
     },
     "execution_count": 58,
     "metadata": {},
     "output_type": "execute_result"
    }
   ],
   "source": [
    "slist = list(s)\n",
    "tlist = list(t)\n",
    "slist.sort() == tlist.sort()"
   ]
  },
  {
   "cell_type": "code",
   "execution_count": 59,
   "metadata": {},
   "outputs": [],
   "source": [
    "n = 19"
   ]
  },
  {
   "cell_type": "code",
   "execution_count": 60,
   "metadata": {},
   "outputs": [],
   "source": [
    "#leetcode202\n",
    "class Solution:\n",
    "    def isHappy(self, n: int) -> bool:\n",
    "        #1. 定义一个函数计算正整数的各位数的平方和\n",
    "        def getBitSquare(n) -> int:\n",
    "            num = 0\n",
    "            while n > 0:\n",
    "                num  += (n%10)**2\n",
    "                n = n//10\n",
    "            return num\n",
    "        #2. 定义一个临时列表来存储每一步的平方和的数\n",
    "        sq = []\n",
    "        #3. 死循环，每次循环使得n等于各位数的平方和\n",
    "        while True:\n",
    "            n = getBitSquare(n)     #计算各位平方和并赋值给n\n",
    "            if n == 1:              #如果遇到各位平方和为1，则是快乐数\n",
    "                return True        \n",
    "            if n in sq:             #如果计算结果出现过，则出现了循环，说明不是快乐数\n",
    "                return False\n",
    "            sq.append(n)            #否则则添加到临时列表中\n",
    "    def fourSumCount(self, A: List[int], B: List[int], C: List[int], D: List[int]) -> int:\n",
    "        lookup = collections.defaultdict(int)\n",
    "        res = 0\n",
    "        for a in A:\n",
    "            for b in B:\n",
    "                lookup[a+b] += 1\n",
    "        for c in C:\n",
    "            for d in D:\n",
    "                res += lookup[-(c + d)]\n",
    "        return res"
   ]
  },
  {
   "cell_type": "code",
   "execution_count": 61,
   "metadata": {},
   "outputs": [
    {
     "data": {
      "text/plain": [
       "False"
      ]
     },
     "execution_count": 61,
     "metadata": {},
     "output_type": "execute_result"
    }
   ],
   "source": [
    "x=Solution()\n",
    "\n",
    "x.isHappy(2)"
   ]
  },
  {
   "cell_type": "code",
   "execution_count": 62,
   "metadata": {},
   "outputs": [
    {
     "data": {
      "text/plain": [
       "2"
      ]
     },
     "execution_count": 62,
     "metadata": {},
     "output_type": "execute_result"
    }
   ],
   "source": [
    "#leetcode 454\n",
    "\n",
    "x.fourSumCount([1,2], [-2,-1], [-1,2], [0,2])"
   ]
  },
  {
   "cell_type": "code",
   "execution_count": null,
   "metadata": {},
   "outputs": [],
   "source": []
  },
  {
   "cell_type": "code",
   "execution_count": null,
   "metadata": {},
   "outputs": [],
   "source": []
  }
 ],
 "metadata": {
  "kernelspec": {
   "display_name": "Python 3",
   "language": "python",
   "name": "python3"
  },
  "language_info": {
   "codemirror_mode": {
    "name": "ipython",
    "version": 3
   },
   "file_extension": ".py",
   "mimetype": "text/x-python",
   "name": "python",
   "nbconvert_exporter": "python",
   "pygments_lexer": "ipython3",
   "version": "3.7.4"
  }
 },
 "nbformat": 4,
 "nbformat_minor": 2
}
