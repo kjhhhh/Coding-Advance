{
 "cells": [
  {
   "cell_type": "code",
   "execution_count": 1,
   "id": "37748e36",
   "metadata": {},
   "outputs": [],
   "source": [
    "n = 3"
   ]
  },
  {
   "cell_type": "code",
   "execution_count": 2,
   "id": "bbdd6c01",
   "metadata": {},
   "outputs": [],
   "source": [
    " \"\"\"\n",
    " 定义变量\n",
    ":type n: int\n",
    ":rtype: List[List[int]]\n",
    "\"\"\"\n",
    "left = 0\n",
    "right = n-1\n",
    "\n",
    "top = 0\n",
    "bottom = n-1\n",
    "\n",
    "m = 1"
   ]
  },
  {
   "cell_type": "code",
   "execution_count": 4,
   "id": "5f607d09",
   "metadata": {},
   "outputs": [],
   "source": [
    "#1、创建二维列表\n",
    "List = [[0]*n for _ in range(n)]"
   ]
  },
  {
   "cell_type": "code",
   "execution_count": 5,
   "id": "a1b53c38",
   "metadata": {},
   "outputs": [
    {
     "data": {
      "text/plain": [
       "[[0, 0, 0], [0, 0, 0], [0, 0, 0]]"
      ]
     },
     "execution_count": 5,
     "metadata": {},
     "output_type": "execute_result"
    }
   ],
   "source": [
    "List"
   ]
  },
  {
   "cell_type": "code",
   "execution_count": 6,
   "id": "1c3c7160",
   "metadata": {},
   "outputs": [],
   "source": [
    "while left<=right and top<=bottom:\n",
    "    #2、从左到右存放(行不变，列变)\n",
    "    for j in range(left,right+1):\n",
    "        List[top][j] = m\n",
    "        m +=1\n",
    "\n",
    "    top +=1\n",
    "    #3、从上到下存放(行变，列不变)\n",
    "    for i in range(top,bottom+1):\n",
    "        List[i][right] = m\n",
    "        m +=1\n",
    "        #4、从右到左存放\n",
    "\n",
    "    right-=1\n",
    "\n",
    "    if left<right and top<bottom:\n",
    "        for j in range(right,left-1,-1):\n",
    "            List[bottom][j] = m\n",
    "            m +=1\n",
    "\n",
    "        bottom -=1\n",
    "        #5、从下往上存放\n",
    "        for i in range(bottom,top-1,-1):\n",
    "            List[i][left] = m\n",
    "            m +=1\n",
    "                \n",
    "        left +=1"
   ]
  },
  {
   "cell_type": "code",
   "execution_count": 7,
   "id": "c36a04af",
   "metadata": {},
   "outputs": [
    {
     "data": {
      "text/plain": [
       "[[1, 2, 3], [8, 9, 4], [7, 6, 5]]"
      ]
     },
     "execution_count": 7,
     "metadata": {},
     "output_type": "execute_result"
    }
   ],
   "source": [
    "List"
   ]
  },
  {
   "cell_type": "code",
   "execution_count": null,
   "id": "54d71dcf",
   "metadata": {},
   "outputs": [],
   "source": []
  }
 ],
 "metadata": {
  "kernelspec": {
   "display_name": "Python 3 (ipykernel)",
   "language": "python",
   "name": "python3"
  },
  "language_info": {
   "codemirror_mode": {
    "name": "ipython",
    "version": 3
   },
   "file_extension": ".py",
   "mimetype": "text/x-python",
   "name": "python",
   "nbconvert_exporter": "python",
   "pygments_lexer": "ipython3",
   "version": "3.9.7"
  }
 },
 "nbformat": 4,
 "nbformat_minor": 5
}
