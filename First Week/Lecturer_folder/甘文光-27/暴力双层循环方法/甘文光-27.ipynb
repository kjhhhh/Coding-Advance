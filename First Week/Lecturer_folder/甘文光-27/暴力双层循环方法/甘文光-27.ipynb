{
 "cells": [
  {
   "cell_type": "code",
   "execution_count": 1,
   "id": "2f1053b0-4613-45cf-9ca5-92291750884a",
   "metadata": {},
   "outputs": [],
   "source": [
    "nums = [0,1,2,2,3,0,4,2]; val = 2"
   ]
  },
  {
   "cell_type": "code",
   "execution_count": 2,
   "id": "7a1f7f14-d358-4c8b-a809-18356bb698a3",
   "metadata": {},
   "outputs": [
    {
     "data": {
      "text/plain": [
       "[0, 1, 2, 2, 3, 0, 4, 2]"
      ]
     },
     "execution_count": 2,
     "metadata": {},
     "output_type": "execute_result"
    }
   ],
   "source": [
    "nums"
   ]
  },
  {
   "cell_type": "code",
   "execution_count": 3,
   "id": "775adf0b-a0fb-4ae4-8f9b-67fa269a5973",
   "metadata": {},
   "outputs": [
    {
     "data": {
      "text/plain": [
       "2"
      ]
     },
     "execution_count": 3,
     "metadata": {},
     "output_type": "execute_result"
    }
   ],
   "source": [
    "val"
   ]
  },
  {
   "cell_type": "code",
   "execution_count": 4,
   "id": "6417a299-4248-4ed4-8848-0ffc94948a53",
   "metadata": {},
   "outputs": [],
   "source": [
    "#暴力双层循环方法\n",
    "ls = len(nums)"
   ]
  },
  {
   "cell_type": "code",
   "execution_count": 5,
   "id": "d02a457e-cb45-4b16-99a7-e5a033a09df3",
   "metadata": {},
   "outputs": [
    {
     "data": {
      "text/plain": [
       "8"
      ]
     },
     "execution_count": 5,
     "metadata": {},
     "output_type": "execute_result"
    }
   ],
   "source": [
    "ls"
   ]
  },
  {
   "cell_type": "code",
   "execution_count": 6,
   "id": "cb09e099-6866-4935-a497-424f9ae8458b",
   "metadata": {},
   "outputs": [],
   "source": [
    "m,i=0,0"
   ]
  },
  {
   "cell_type": "code",
   "execution_count": 7,
   "id": "3505b14e-256f-4b17-a6f0-b289622d9e0c",
   "metadata": {},
   "outputs": [],
   "source": [
    "while i<ls:\n",
    "    if nums[i]==val:\n",
    "        m+=1\n",
    "        for j in range(i+1,ls):\n",
    "            nums[j-1]=nums[j]\n",
    "        ls-=1\n",
    "        i-=1\n",
    "    i+=1    "
   ]
  },
  {
   "cell_type": "code",
   "execution_count": 8,
   "id": "498c147f-cffc-4209-9fb9-906b0ad09791",
   "metadata": {},
   "outputs": [
    {
     "data": {
      "text/plain": [
       "[0, 1, 3, 0, 4, 2, 2, 2]"
      ]
     },
     "execution_count": 8,
     "metadata": {},
     "output_type": "execute_result"
    }
   ],
   "source": [
    "nums"
   ]
  },
  {
   "cell_type": "code",
   "execution_count": 9,
   "id": "0b747d3e-7337-44cd-8f73-f78ccf69ae92",
   "metadata": {},
   "outputs": [
    {
     "data": {
      "text/plain": [
       "5"
      ]
     },
     "execution_count": 9,
     "metadata": {},
     "output_type": "execute_result"
    }
   ],
   "source": [
    "ls"
   ]
  },
  {
   "cell_type": "code",
   "execution_count": 10,
   "id": "3e758f0c-fa51-4aca-9996-3aaad635f291",
   "metadata": {},
   "outputs": [
    {
     "data": {
      "text/plain": [
       "[0, 1, 3, 0, 4]"
      ]
     },
     "execution_count": 10,
     "metadata": {},
     "output_type": "execute_result"
    }
   ],
   "source": [
    "nums[:ls]"
   ]
  },
  {
   "cell_type": "code",
   "execution_count": 11,
   "id": "3b64a18d-9106-4bc9-bd68-3b05bb947c7d",
   "metadata": {},
   "outputs": [],
   "source": [
    "#双指针方法\n",
    "a = 0\n",
    "b = 0"
   ]
  },
  {
   "cell_type": "code",
   "execution_count": 12,
   "id": "d4f915fe-5584-4116-ab97-2decad5e7f30",
   "metadata": {},
   "outputs": [],
   "source": [
    "nums = [0,1,2,2,3,0,4,2]; val = 2"
   ]
  },
  {
   "cell_type": "code",
   "execution_count": 13,
   "id": "aff5d675-9bd7-49fd-b702-dd62924e4d8e",
   "metadata": {},
   "outputs": [
    {
     "data": {
      "text/plain": [
       "[0, 1, 2, 2, 3, 0, 4, 2]"
      ]
     },
     "execution_count": 13,
     "metadata": {},
     "output_type": "execute_result"
    }
   ],
   "source": [
    "nums"
   ]
  },
  {
   "cell_type": "code",
   "execution_count": 14,
   "id": "0103d7f9-1626-4769-995c-5d39ff2b5058",
   "metadata": {},
   "outputs": [
    {
     "data": {
      "text/plain": [
       "2"
      ]
     },
     "execution_count": 14,
     "metadata": {},
     "output_type": "execute_result"
    }
   ],
   "source": [
    "val"
   ]
  },
  {
   "cell_type": "code",
   "execution_count": 15,
   "id": "dfc4f427-ac4f-4b7f-b2f0-a47dd32d367a",
   "metadata": {},
   "outputs": [],
   "source": [
    "while a < len(nums):\n",
    "    if nums[a] != val:\n",
    "        nums[b] = nums[a]\n",
    "        b += 1\n",
    "    a += 1"
   ]
  },
  {
   "cell_type": "code",
   "execution_count": 16,
   "id": "527d393d-4d1b-4d63-b2f0-f892153cd792",
   "metadata": {},
   "outputs": [
    {
     "data": {
      "text/plain": [
       "[0, 1, 3, 0, 4, 0, 4, 2]"
      ]
     },
     "execution_count": 16,
     "metadata": {},
     "output_type": "execute_result"
    }
   ],
   "source": [
    "nums"
   ]
  },
  {
   "cell_type": "code",
   "execution_count": 17,
   "id": "68b968f4-1beb-4e4f-a662-a83d83ffcd8a",
   "metadata": {},
   "outputs": [
    {
     "data": {
      "text/plain": [
       "5"
      ]
     },
     "execution_count": 17,
     "metadata": {},
     "output_type": "execute_result"
    }
   ],
   "source": [
    "ls"
   ]
  },
  {
   "cell_type": "code",
   "execution_count": 18,
   "id": "fdf36d8b-cf7f-4dec-af97-2fbfced2b8c0",
   "metadata": {},
   "outputs": [
    {
     "data": {
      "text/plain": [
       "[0, 1, 3, 0, 4]"
      ]
     },
     "execution_count": 18,
     "metadata": {},
     "output_type": "execute_result"
    }
   ],
   "source": [
    "nums[:ls]"
   ]
  },
  {
   "cell_type": "code",
   "execution_count": null,
   "id": "0afb54db-45b0-40dd-a570-96835dedf8aa",
   "metadata": {},
   "outputs": [],
   "source": []
  }
 ],
 "metadata": {
  "kernelspec": {
   "display_name": "Python 3 (ipykernel)",
   "language": "python",
   "name": "python3"
  },
  "language_info": {
   "codemirror_mode": {
    "name": "ipython",
    "version": 3
   },
   "file_extension": ".py",
   "mimetype": "text/x-python",
   "name": "python",
   "nbconvert_exporter": "python",
   "pygments_lexer": "ipython3",
   "version": "3.9.7"
  }
 },
 "nbformat": 4,
 "nbformat_minor": 5
}
