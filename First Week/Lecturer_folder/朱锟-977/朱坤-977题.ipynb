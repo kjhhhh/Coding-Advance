{
 "cells": [
  {
   "cell_type": "code",
   "execution_count": 1,
   "id": "489084dc",
   "metadata": {},
   "outputs": [],
   "source": [
    "nums = [-4,-1,0,3,10]"
   ]
  },
  {
   "cell_type": "code",
   "execution_count": 2,
   "id": "4ec2b76f",
   "metadata": {},
   "outputs": [
    {
     "data": {
      "text/plain": [
       "[-4, -1, 0, 3, 10]"
      ]
     },
     "execution_count": 2,
     "metadata": {},
     "output_type": "execute_result"
    }
   ],
   "source": [
    "nums"
   ]
  },
  {
   "cell_type": "code",
   "execution_count": 4,
   "id": "044c7d90",
   "metadata": {},
   "outputs": [],
   "source": [
    "#首先，把列表每个元素平方\n",
    "for k in range(len(nums)):\n",
    "    nums[k]=nums[k]*nums[k] # nums[k]=nums[k]**2"
   ]
  },
  {
   "cell_type": "code",
   "execution_count": 5,
   "id": "29862031",
   "metadata": {},
   "outputs": [
    {
     "data": {
      "text/plain": [
       "[16, 1, 0, 9, 100]"
      ]
     },
     "execution_count": 5,
     "metadata": {},
     "output_type": "execute_result"
    }
   ],
   "source": [
    "nums"
   ]
  },
  {
   "cell_type": "code",
   "execution_count": 6,
   "id": "937b4ef2",
   "metadata": {},
   "outputs": [],
   "source": [
    "#定义变量\n",
    "i,j=0,len(nums)-1\n",
    "ans=[0]*len(nums)\n",
    "t=len(nums)-1"
   ]
  },
  {
   "cell_type": "code",
   "execution_count": 7,
   "id": "8d7f30a5",
   "metadata": {},
   "outputs": [],
   "source": [
    "#然后，两端比较，将较大值放入新列表，并更新指针\n",
    "while i<=j:\n",
    "    if nums[i]<=nums[j]:\n",
    "        ans[t]=nums[j]\n",
    "        j-=1\n",
    "    elif nums[i]>nums[j]:\n",
    "        ans[t]=nums[i]\n",
    "        i+=1\n",
    "    t-=1"
   ]
  },
  {
   "cell_type": "code",
   "execution_count": 8,
   "id": "c10c141f",
   "metadata": {},
   "outputs": [
    {
     "data": {
      "text/plain": [
       "[0, 1, 9, 16, 100]"
      ]
     },
     "execution_count": 8,
     "metadata": {},
     "output_type": "execute_result"
    }
   ],
   "source": [
    "ans"
   ]
  },
  {
   "cell_type": "code",
   "execution_count": null,
   "id": "d3737e56",
   "metadata": {},
   "outputs": [],
   "source": []
  }
 ],
 "metadata": {
  "kernelspec": {
   "display_name": "Python 3 (ipykernel)",
   "language": "python",
   "name": "python3"
  },
  "language_info": {
   "codemirror_mode": {
    "name": "ipython",
    "version": 3
   },
   "file_extension": ".py",
   "mimetype": "text/x-python",
   "name": "python",
   "nbconvert_exporter": "python",
   "pygments_lexer": "ipython3",
   "version": "3.9.7"
  }
 },
 "nbformat": 4,
 "nbformat_minor": 5
}
