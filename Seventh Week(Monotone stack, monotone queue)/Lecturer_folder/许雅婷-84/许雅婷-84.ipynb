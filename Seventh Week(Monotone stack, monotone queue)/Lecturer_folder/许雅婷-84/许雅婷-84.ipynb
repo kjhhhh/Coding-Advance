{
 "cells": [
  {
   "cell_type": "code",
   "execution_count": null,
   "id": "06e58d68",
   "metadata": {},
   "outputs": [],
   "source": [
    "\"\"\"方案一：暴力解法，遍历高度数组，依次找出当前元素左边第一个、右边第一个比其小的元素；时间复杂度为O(n)，每次在找左右两边第一个比其小的元素时，有很多重复的比较\"\"\"\n",
    "# class Solution:\n",
    "#     def largestRectangleArea(self, heights):\n",
    "#         # 定义最大面积\n",
    "#         largestArea = 0\n",
    "#         # 遍历高度数组\n",
    "#         for i in range(len(heights)):\n",
    "#             left=i\n",
    "#             right=i\n",
    "#             # 找出当前元素左边第一个比其小的元素\n",
    "#             while left>=0 and heights[left]>=heights[i]:\n",
    "#                 left-=1\n",
    "#             # 找出当前元素右边第一个比其小的元素\n",
    "#             while right<len(heights) and heights[right]>=heights[i]:\n",
    "#                 right+=1\n",
    "#             # 计算出待求矩形的宽度\n",
    "#             width=right-left-1\n",
    "            \n",
    "#             # 得到待求矩形的高度\n",
    "#             height=heights[i]\n",
    "            \n",
    "#             # 若当前矩形面积大于最大面积，则替换\n",
    "#             area=width*height\n",
    "#             if area>largestArea:\n",
    "#                 largestArea=area\n",
    "# heights=[2,4]\n",
    "# heights\n",
    "# Solution().largestRectangleArea(heights)"
   ]
  },
  {
   "cell_type": "code",
   "execution_count": 3,
   "id": "e111d34f",
   "metadata": {},
   "outputs": [
    {
     "name": "stdout",
     "output_type": "stream",
     "text": [
      "[-1, -1, 1, 2, 1, 4]\n",
      "[1, 6, 4, 4, 6, 6]\n"
     ]
    }
   ],
   "source": [
    "\"\"\"方案二：双指针；先找到每个元素的左边第一小元素、右边第一小元素，分别用两个数组保存;然后依次计算面积，得出最大面积\"\"\"\n",
    "# class Solution:\n",
    "#     def largestRectangleArea(self, heights):\n",
    "#         # 定义保存每个元素的左边第一小元素的数组，右边第一小元素的数组\n",
    "#         minLeft=[0]*len(heights)\n",
    "#         minRight=[0]*len(heights)\n",
    "#         length=len(heights)\n",
    "#         # 找每个元素的左边第一小的元素下标，并记录\n",
    "#         minLeft[0]=-1\n",
    "#         for i in range(length):\n",
    "#             left=i-1\n",
    "#             while left>=0 and heights[left]>=heights[i]:\n",
    "#                 left=minLeft[left]\n",
    "#             minLeft[i]=left\n",
    "#         # 找每个元素的右边第一小的元素下标，并记录\n",
    "#         minRight[length-1]=len(heights)\n",
    "#         for j in range(length-2,-1,-1):\n",
    "#             right=j+1\n",
    "#             while right<length and heights[right]>=heights[j]:\n",
    "#                 right=minRight[right]\n",
    "#             minRight[j]=right\n",
    "#         largestArea=0   \n",
    "#         # 遍历数组，依次寻找其左边、右边第一小元素\n",
    "#         for k in range(len(heights)):\n",
    "#             # 计算出待求矩形的宽度\n",
    "#             width=minRight[k]-minLeft[k]-1\n",
    "#             # 得到待求矩形的高度\n",
    "#             height=heights[k]\n",
    "#             # 若当前矩形面积大于最大面积，则替换\n",
    "#             area=width*height\n",
    "#             if area>largestArea:\n",
    "#                 largestArea=area\n",
    "#         print(largestArea)\n",
    "\n",
    "# heights=[2,1,5,6,2,3]\n",
    "# Solution().largestRectangleArea(heights)"
   ]
  },
  {
   "cell_type": "code",
   "execution_count": 29,
   "id": "aa9dd46b",
   "metadata": {},
   "outputs": [
    {
     "name": "stdout",
     "output_type": "stream",
     "text": [
      "2\n"
     ]
    }
   ],
   "source": [
    "\"\"\"方案三：单调栈\"\"\"\n",
    "class Solution:\n",
    "    def largestRectangleArea(self, heights):\n",
    "        # 处理特殊数据，在heights前后加上0\n",
    "        heights.insert(0,0)\n",
    "        heights.append(0)\n",
    "        # 定义栈，并将0入栈\n",
    "        stack=[]\n",
    "        stack.append(0)\n",
    "        length=len(heights)\n",
    "        largestArea=0\n",
    "        # 遍历数组\n",
    "        for i in range(1,length):\n",
    "            # 栈顶元素<当前元素，当前元素入栈\n",
    "            if heights[stack[-1]]<heights[i]:\n",
    "                stack.append(i)\n",
    "            # 栈顶元素=当前元素，栈顶元素出栈，当前元素出栈（栈内元素必须严格当前递减）\n",
    "            elif heights[stack[-1]]==heights[i]:\n",
    "                stack.pop()\n",
    "                stack.append(i)\n",
    "            else:\n",
    "                # 当栈不为空且栈顶元素>当前元素时，栈顶元素对应位置右边第一小元素为当前元素、左边第一小元素为栈顶元素栈内的前一个元素；\n",
    "                while len(stack)!=0 and heights[stack[-1]]>heights[i]:\n",
    "                    mid=stack[-1]\n",
    "                    # 栈顶元素出栈\n",
    "                    stack.pop()\n",
    "                    # 栈不为空时，计算面积\n",
    "                    if len(stack)!=0:\n",
    "                        min_right=i # 右边第一小元素下标\n",
    "                        min_left=stack[-1] # 左边第一小元素下标\n",
    "                        width=min_right-min_left-1 # 矩形宽度\n",
    "                        height=heights[mid] # 矩形高度\n",
    "                        area=width*height\n",
    "                        if area>largestArea:\n",
    "                            largestArea=area\n",
    "                stack.append(i)\n",
    "        print(largestArea)\n",
    "\n",
    "heights=[1,1]\n",
    "Solution().largestRectangleArea(heights)"
   ]
  },
  {
   "cell_type": "code",
   "execution_count": null,
   "id": "805cf004",
   "metadata": {},
   "outputs": [],
   "source": []
  },
  {
   "cell_type": "code",
   "execution_count": null,
   "id": "f1ebdae1",
   "metadata": {},
   "outputs": [],
   "source": []
  },
  {
   "cell_type": "code",
   "execution_count": null,
   "id": "6b9e3a9d",
   "metadata": {},
   "outputs": [],
   "source": []
  }
 ],
 "metadata": {
  "kernelspec": {
   "display_name": "Python 3 (ipykernel)",
   "language": "python",
   "name": "python3"
  },
  "language_info": {
   "codemirror_mode": {
    "name": "ipython",
    "version": 3
   },
   "file_extension": ".py",
   "mimetype": "text/x-python",
   "name": "python",
   "nbconvert_exporter": "python",
   "pygments_lexer": "ipython3",
   "version": "3.11.0"
  }
 },
 "nbformat": 4,
 "nbformat_minor": 5
}
