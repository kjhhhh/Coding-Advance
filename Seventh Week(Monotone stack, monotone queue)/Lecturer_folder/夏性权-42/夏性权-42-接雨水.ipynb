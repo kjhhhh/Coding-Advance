{
 "cells": [
  {
   "cell_type": "code",
   "execution_count": null,
   "id": "97961bec-98fe-4881-adff-48b367e261a6",
   "metadata": {},
   "outputs": [],
   "source": [
    "height = [0,1,0,2,1,0,1,3,2,1,2,1]\n",
    "flag = 0\n",
    "res = 0\n",
    "for i in range(1, len(height)):\n",
    "    if height[i] < height[flag]:\n",
    "        res += height[flag] - height[i]\n",
    "    else:\n",
    "        flag = i\n",
    "print(res)"
   ]
  },
  {
   "cell_type": "code",
   "execution_count": null,
   "id": "9f5af1aa-0126-429f-8152-c0c3c2b2ad4c",
   "metadata": {},
   "outputs": [],
   "source": []
  },
  {
   "cell_type": "code",
   "execution_count": null,
   "id": "98ee0b13-bcd1-4919-a072-e7eced5c9dbe",
   "metadata": {},
   "outputs": [],
   "source": [
    "height = [0,1,0,2,1,0,1,3,2,1,2,1]\n",
    "flag = 0\n",
    "res = 0\n",
    "for i in range(1, len(height)):\n",
    "    if height[i] < height[flag]:\n",
    "        res += height[flag] - height[i]\n",
    "    else:\n",
    "        flag = i\n",
    "print(res)"
   ]
  },
  {
   "cell_type": "code",
   "execution_count": 10,
   "id": "987c59f5-4d1c-4f30-80cd-fd8fd004ae85",
   "metadata": {},
   "outputs": [
    {
     "name": "stdout",
     "output_type": "stream",
     "text": [
      "2\n"
     ]
    }
   ],
   "source": [
    "height = [2,0,2]\n",
    "res = 0\n",
    "while len(height) > 2:\n",
    "    while len(height) != 0 and height[0] == 0:\n",
    "        del height[0]\n",
    "    while len(height) != 0 and height[len(height) - 1] == 0:\n",
    "        height.pop()\n",
    "    for i in range(0, len(height)):\n",
    "        if height[i] == 0:\n",
    "            res += 1\n",
    "        else:\n",
    "            height[i] -= 1\n",
    "print(res)"
   ]
  },
  {
   "cell_type": "code",
   "execution_count": 15,
   "id": "45dfc1d7-ccf5-4cfa-84df-4a13b842583e",
   "metadata": {},
   "outputs": [
    {
     "name": "stdout",
     "output_type": "stream",
     "text": [
      "9\n"
     ]
    }
   ],
   "source": [
    "height = [4,2,0,3,2,5]\n",
    "res = 0\n",
    "sum1 = height[0]\n",
    "sum2 = height[0]\n",
    "flag = 0\n",
    "for i in range(1, len(height)):\n",
    "    sum1 += height[i]\n",
    "    if height[i] < height[flag]:\n",
    "        sum2 += height[flag]\n",
    "    else:\n",
    "        sum2 += height[i]\n",
    "        res += sum2 - sum1\n",
    "        flag = i\n",
    "        sum1 = height[i]\n",
    "        sum2 = height[i]\n",
    "print(res)"
   ]
  },
  {
   "cell_type": "code",
   "execution_count": 7,
   "id": "01e6ba90-f353-43cf-8ce5-010f8d8b00ed",
   "metadata": {},
   "outputs": [
    {
     "name": "stdout",
     "output_type": "stream",
     "text": [
      "[0, 1, 0, 2, 1, 0, 1, 3, 2, 1, 2, 1]\n",
      "[0, 1, 1, 2, 2, 2, 2, 3, 2, 2, 2, 1]\n",
      "6\n"
     ]
    }
   ],
   "source": [
    "height = [0,1,0,2,1,0,1,3,2,1,2,1]\n",
    "print(height)\n",
    "i, j = 0, len(height) - 1\n",
    "maxh, level = 0, 0\n",
    "sum1, sum2 = 0, 0\n",
    "for elem in height:\n",
    "    sum1 += elem\n",
    "while i < j:\n",
    "    if height[i] < level:\n",
    "        height[i] = level\n",
    "    if height[j] < level:\n",
    "        height[j] = level\n",
    "    if height[j] >= height[i]:\n",
    "        maxh = height[j]\n",
    "        level = height[i]\n",
    "        i += 1\n",
    "    else:\n",
    "        maxh = height[i]\n",
    "        level = height[j]\n",
    "        j -= 1\n",
    "print(height)\n",
    "for elem in height:\n",
    "    sum2 += elem\n",
    "print(sum2 - sum1)"
   ]
  },
  {
   "cell_type": "code",
   "execution_count": 6,
   "id": "b6e1a715-4db9-4c76-9bdf-a1780783c099",
   "metadata": {},
   "outputs": [
    {
     "name": "stdout",
     "output_type": "stream",
     "text": [
      "[1, 0, 2, 1, 0, 1, 3, 2, 1, 2, 1]\n",
      "[1, 0, 0, 0, 2, 1, 0, 1]\n",
      "[1]\n",
      "6\n"
     ]
    }
   ],
   "source": [
    "height = [0,1,0,2,1,0,1,3,2,1,2,1]\n",
    "res = 0\n",
    "while len(height) > 2:\n",
    "    while len(height) != 0 and height[0] == 0:\n",
    "        del height[0]\n",
    "    while len(height) != 0 and height[len(height) - 1] == 0:\n",
    "        height.pop()\n",
    "    print(height)\n",
    "    for i in range(0, len(height)):\n",
    "        if height[i] == 0:\n",
    "            res += 1\n",
    "        else:\n",
    "            height[i] -= 1\n",
    "print(res)"
   ]
  },
  {
   "cell_type": "code",
   "execution_count": 5,
   "id": "269189e5-153a-4866-b6ea-9f845dfa8cd4",
   "metadata": {},
   "outputs": [
    {
     "name": "stdout",
     "output_type": "stream",
     "text": [
      "[1, 0, 2, 1, 0, 1, 3, 2, 1, 2, 1]\n",
      "[1, 0, 0, 0, 2, 1, 0, 1]\n",
      "[1]\n",
      "6\n"
     ]
    }
   ],
   "source": [
    "height = [0,1,0,2,1,0,1,3,2,1,2,1]\n",
    "res = 0\n",
    "while len(height) > 2:\n",
    "    \n",
    "    while len(height) != 0 and height[0] == 0:\n",
    "        del height[0]\n",
    "    while len(height) != 0 and height[len(height) - 1] == 0:\n",
    "        height.pop()\n",
    "    print(height)\n",
    "    for i in range(0, len(height)):\n",
    "        if height[i] == 0:\n",
    "            res += 1\n",
    "        else:\n",
    "            height[i] -= 1\n",
    "print(res)"
   ]
  },
  {
   "cell_type": "code",
   "execution_count": 8,
   "id": "7de54c82-b29d-4cd7-8348-67258541f59d",
   "metadata": {},
   "outputs": [
    {
     "name": "stdout",
     "output_type": "stream",
     "text": [
      "[0, 1, 0, 2, 1, 0, 1, 3, 2, 1, 2, 1]\n",
      "[0, 1, 1, 2, 2, 2, 2, 3, 2, 2, 2, 1]\n",
      "6\n"
     ]
    }
   ],
   "source": [
    "height = [0,1,0,2,1,0,1,3,2,1,2,1]\n",
    "i, j = 0, len(height) - 1\n",
    "flag = 0\n",
    "sum1, sum2 = 0, 0\n",
    "for elem in height:\n",
    "    sum1 += elem\n",
    "print(height)\n",
    "while i < j:\n",
    "    if height[i] < flag:\n",
    "        height[i] = flag\n",
    "    if height[j] < flag:\n",
    "        height[j] = flag\n",
    "    if height[j] >= height[i]:\n",
    "        flag = height[i]\n",
    "        i += 1\n",
    "    else:\n",
    "        flag = height[j]\n",
    "        j -= 1\n",
    "for elem in height:\n",
    "    sum2 += elem\n",
    "print(height)\n",
    "print(sum2 - sum1)\n",
    "    "
   ]
  },
  {
   "cell_type": "code",
   "execution_count": null,
   "id": "4f38e25a-905e-4537-be66-016937331425",
   "metadata": {},
   "outputs": [],
   "source": []
  }
 ],
 "metadata": {
  "kernelspec": {
   "display_name": "anaconda-panel-2023.05-py310",
   "language": "python",
   "name": "conda-env-anaconda-panel-2023.05-py310-py"
  },
  "language_info": {
   "codemirror_mode": {
    "name": "ipython",
    "version": 3
   },
   "file_extension": ".py",
   "mimetype": "text/x-python",
   "name": "python",
   "nbconvert_exporter": "python",
   "pygments_lexer": "ipython3",
   "version": "3.11.4"
  }
 },
 "nbformat": 4,
 "nbformat_minor": 5
}
