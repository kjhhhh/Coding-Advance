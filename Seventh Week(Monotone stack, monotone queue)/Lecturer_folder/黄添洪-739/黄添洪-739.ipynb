{
 "cells": [
  {
   "cell_type": "code",
   "execution_count": 2,
   "id": "b1d0fe83-6a46-46f3-b42c-5ef546f24951",
   "metadata": {},
   "outputs": [],
   "source": [
    "class Solution:\n",
    "    def dailyTemperatures(self, temperatures) :\n",
    "        length=len(temperatures)\n",
    "        answer=[0]*length\n",
    "        for i in range(length-1):\n",
    "            answer[i]=0\n",
    "        for i in range(length-1):\n",
    "            for j in range(i+1,length):\n",
    "                if(temperatures[i]<temperatures[j]):\n",
    "                    answer[i]=j-i\n",
    "                    break\n",
    "            #answer[i]=0\n",
    "        return answer\n",
    "# 暴力"
   ]
  },
  {
   "cell_type": "code",
   "execution_count": 4,
   "id": "a35a5dc5-b506-418f-9a35-446cf67717ff",
   "metadata": {},
   "outputs": [],
   "source": [
    "temperatures = [73,74,75,71,69,72,76,73]"
   ]
  },
  {
   "cell_type": "code",
   "execution_count": 5,
   "id": "f6a986a2-fa2d-4b79-aee7-3d4b530cf174",
   "metadata": {},
   "outputs": [
    {
     "data": {
      "text/plain": [
       "[1, 1, 4, 2, 1, 1, 0, 0]"
      ]
     },
     "execution_count": 5,
     "metadata": {},
     "output_type": "execute_result"
    }
   ],
   "source": [
    "Solution().dailyTemperatures(temperatures)"
   ]
  },
  {
   "cell_type": "code",
   "execution_count": 7,
   "id": "5dc34d45-0585-467c-b849-0c1fc1e33796",
   "metadata": {},
   "outputs": [],
   "source": [
    "class Solution2:\n",
    "    def dailyTemperatures(self, temperatures) :\n",
    "        stack=[]#使用单调栈来保存元素下标\n",
    "        length=len(temperatures)\n",
    "        answer=[0]*length\n",
    "        for i in range(length):\n",
    "            temperature=temperatures[i]\n",
    "            while(stack and temperature>temperatures[stack[-1]]):#如果栈不为空，并且当前元素大于栈顶元素，则需要更新返回数组anser,并且维护栈保持单调\n",
    "                pre=stack.pop()#pre为栈顶元素的下标，并去除当前栈顶元素\n",
    "                answer[pre]=i-pre\n",
    "            stack.append(i)#将当前元素加入栈顶\n",
    "        return answer\n",
    "#单调栈"
   ]
  },
  {
   "cell_type": "code",
   "execution_count": 8,
   "id": "957c3d6c-337a-48c6-854b-39b370ef216a",
   "metadata": {},
   "outputs": [
    {
     "data": {
      "text/plain": [
       "[1, 1, 4, 2, 1, 1, 0, 0]"
      ]
     },
     "execution_count": 8,
     "metadata": {},
     "output_type": "execute_result"
    }
   ],
   "source": [
    "Solution2().dailyTemperatures(temperatures)"
   ]
  }
 ],
 "metadata": {
  "kernelspec": {
   "display_name": "Python 3 (ipykernel)",
   "language": "python",
   "name": "python3"
  },
  "language_info": {
   "codemirror_mode": {
    "name": "ipython",
    "version": 3
   },
   "file_extension": ".py",
   "mimetype": "text/x-python",
   "name": "python",
   "nbconvert_exporter": "python",
   "pygments_lexer": "ipython3",
   "version": "3.11.0"
  }
 },
 "nbformat": 4,
 "nbformat_minor": 5
}
