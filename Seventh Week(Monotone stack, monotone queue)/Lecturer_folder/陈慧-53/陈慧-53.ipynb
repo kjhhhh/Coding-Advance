{
 "cells": [
  {
   "cell_type": "code",
   "execution_count": 4,
   "id": "6d565e2e-bd3e-485d-839d-54bd674d89ef",
   "metadata": {},
   "outputs": [],
   "source": [
    "def maxSubArray(nums):\n",
    "# a = input()\n",
    "# nums = [int(n) for n in a.split(\",\")]\n",
    "    sum = 0\n",
    "    max = -1e5\n",
    "    for i in range(len(nums)):\n",
    "        sum = sum + nums[i]\n",
    "        if sum > max:\n",
    "            max = sum\n",
    "        if sum < 0:\n",
    "            sum = 0\n",
    "    print(max)\n"
   ]
  },
  {
   "cell_type": "code",
   "execution_count": 6,
   "id": "915c4968-091b-4779-93c7-d9315e14e67f",
   "metadata": {},
   "outputs": [],
   "source": [
    "nums = [-2,1,-3,4,-1,2,1,-5,4]"
   ]
  },
  {
   "cell_type": "code",
   "execution_count": 7,
   "id": "45e0e797-62fd-495c-9b03-11f9e829aa79",
   "metadata": {},
   "outputs": [
    {
     "name": "stdout",
     "output_type": "stream",
     "text": [
      "6\n"
     ]
    }
   ],
   "source": [
    "maxSubArray(nums)"
   ]
  }
 ],
 "metadata": {
  "kernelspec": {
   "display_name": "Python 3 (ipykernel)",
   "language": "python",
   "name": "python3"
  },
  "language_info": {
   "codemirror_mode": {
    "name": "ipython",
    "version": 3
   },
   "file_extension": ".py",
   "mimetype": "text/x-python",
   "name": "python",
   "nbconvert_exporter": "python",
   "pygments_lexer": "ipython3",
   "version": "3.11.0"
  }
 },
 "nbformat": 4,
 "nbformat_minor": 5
}
