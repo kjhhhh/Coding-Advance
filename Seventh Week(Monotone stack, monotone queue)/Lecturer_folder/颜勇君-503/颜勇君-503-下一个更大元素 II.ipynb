{
 "cells": [
  {
   "cell_type": "markdown",
   "id": "3ee55d3c",
   "metadata": {},
   "source": [
    "# 503. 下一个更大元素 II\n",
    "## 输入: nums = [1,2,3,4,3] 输出: [2,3,4,-1,4]\n",
    "\n",
    "# 1 2 3 4 3   -------  1 2 3 4 3"
   ]
  },
  {
   "cell_type": "code",
   "execution_count": 10,
   "id": "6aad7c6e",
   "metadata": {},
   "outputs": [],
   "source": [
    "def search_bigger_1(nums):\n",
    "    nums_1 = nums * 2\n",
    "    res = []\n",
    "    for i in range(len(nums)):\n",
    "        big = -1\n",
    "        for j in range(i+1, len(nums_1)):\n",
    "            if nums[i] < nums_1[j]:\n",
    "                big = nums_1[j]\n",
    "                break\n",
    "        res.append(big)\n",
    "    return res"
   ]
  },
  {
   "cell_type": "code",
   "execution_count": 12,
   "id": "3838afa7",
   "metadata": {},
   "outputs": [],
   "source": [
    "nums = [1,2,3,4,3]"
   ]
  },
  {
   "cell_type": "code",
   "execution_count": 13,
   "id": "2e3f776f",
   "metadata": {},
   "outputs": [
    {
     "data": {
      "text/plain": [
       "[2, 3, 4, -1, 4]"
      ]
     },
     "execution_count": 13,
     "metadata": {},
     "output_type": "execute_result"
    }
   ],
   "source": [
    "search_bigger_1(nums)"
   ]
  },
  {
   "cell_type": "code",
   "execution_count": 14,
   "id": "84047a65",
   "metadata": {},
   "outputs": [],
   "source": [
    "def search_bigger_2(nums):\n",
    "    stack = []\n",
    "    hashmap = {}\n",
    "    nums_1 = nums * 2\n",
    "    res = [-1] * len(nums)\n",
    "    for i in range(len(nums_1)):\n",
    "        while stack and nums_1[stack[-1]] < nums_1[i]:\n",
    "            hashmap[stack.pop()] = nums_1[i]\n",
    "        stack.append(i)\n",
    "    for i in range(len(nums)):\n",
    "        res[i] = hashmap.get(i, -1)\n",
    "    return res\n",
    "        "
   ]
  },
  {
   "cell_type": "code",
   "execution_count": 15,
   "id": "a5dab436",
   "metadata": {},
   "outputs": [],
   "source": [
    "nums = [1,2,3,4,3]"
   ]
  },
  {
   "cell_type": "code",
   "execution_count": 16,
   "id": "f8e67561",
   "metadata": {},
   "outputs": [
    {
     "data": {
      "text/plain": [
       "[2, 3, 4, -1, 4]"
      ]
     },
     "execution_count": 16,
     "metadata": {},
     "output_type": "execute_result"
    }
   ],
   "source": [
    "search_bigger_2(nums)"
   ]
  },
  {
   "cell_type": "code",
   "execution_count": 17,
   "id": "eb215aec",
   "metadata": {},
   "outputs": [],
   "source": [
    "def search_bigger_3(nums):\n",
    "    stack = []\n",
    "    res = [-1] * len(nums)\n",
    "    nums_1 = nums * 2\n",
    "    for i in range(len(nums_1)):\n",
    "        while stack and nums_1[stack[-1]] < nums_1[i % len(nums)]:\n",
    "            res[stack[-1]] = nums[i % len(nums)]\n",
    "            stack.pop()\n",
    "        stack.append(i % len(nums))\n",
    "    return res"
   ]
  },
  {
   "cell_type": "code",
   "execution_count": 18,
   "id": "f83cb4e9",
   "metadata": {},
   "outputs": [
    {
     "data": {
      "text/plain": [
       "[2, 3, 4, -1, 4]"
      ]
     },
     "execution_count": 18,
     "metadata": {},
     "output_type": "execute_result"
    }
   ],
   "source": [
    "search_bigger_3(nums)"
   ]
  }
 ],
 "metadata": {
  "kernelspec": {
   "display_name": "Python 3 (ipykernel)",
   "language": "python",
   "name": "python3"
  },
  "language_info": {
   "codemirror_mode": {
    "name": "ipython",
    "version": 3
   },
   "file_extension": ".py",
   "mimetype": "text/x-python",
   "name": "python",
   "nbconvert_exporter": "python",
   "pygments_lexer": "ipython3",
   "version": "3.10.9"
  }
 },
 "nbformat": 4,
 "nbformat_minor": 5
}
