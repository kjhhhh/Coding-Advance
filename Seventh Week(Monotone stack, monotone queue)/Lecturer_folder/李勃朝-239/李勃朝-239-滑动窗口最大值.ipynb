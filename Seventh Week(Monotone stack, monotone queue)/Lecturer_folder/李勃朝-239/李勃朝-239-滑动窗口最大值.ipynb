{
 "cells": [
  {
   "cell_type": "code",
   "execution_count": 19,
   "metadata": {},
   "outputs": [],
   "source": [
    "# 遍历求解\n",
    "def maxSlidingWindow1(nums, k):\n",
    "    maxnum = []\n",
    "    a = 0  # 起始位置\n",
    "    b = len(nums) - k + 1  # 窗口滑动的次数\n",
    "    for i in range(b):\n",
    "        max = nums[a]\n",
    "        # 寻找滑动窗口内的最大值\n",
    "        for j in range(k):\n",
    "            p = nums[a + j]\n",
    "            if p > max:\n",
    "                max = p\n",
    "        maxnum.append(max)  # 将一个窗口内的最大值加入输出数组\n",
    "        a += 1\n",
    "    return maxnum\n",
    "# 时间复杂度O(kn)\n"
   ]
  },
  {
   "cell_type": "code",
   "execution_count": 20,
   "metadata": {},
   "outputs": [],
   "source": [
    "def maxSlidingWindow2(nums, k):\n",
    "    return [max(nums[i:i+k]) for i in range(len(nums)-k+1)]"
   ]
  },
  {
   "cell_type": "code",
   "execution_count": 21,
   "metadata": {},
   "outputs": [
    {
     "name": "stdout",
     "output_type": "stream",
     "text": [
      "[3, 3, 5, 5, 6, 7]\n"
     ]
    }
   ],
   "source": [
    "nums = [1, 3, -1, 3, 5, 3, 6, 7]\n",
    "# nums = [1, 2, 3]\n",
    "k = 3\n",
    "print(maxSlidingWindow2(nums, k))"
   ]
  },
  {
   "cell_type": "code",
   "execution_count": 22,
   "metadata": {},
   "outputs": [],
   "source": [
    "import heapq\n",
    "\n",
    "# 优先队列\n",
    "def maxSlidingWindow3(nums, k):\n",
    "    n = len(nums)\n",
    "    # 注意 Python 默认的优先队列是小根堆\n",
    "    q = [(-nums[i], i) for i in range(k)]\n",
    "    heapq.heapify(q)\n",
    "\n",
    "    ans = [-q[0][0]]\n",
    "    for i in range(k, n):\n",
    "        heapq.heappush(q, (-nums[i], i))\n",
    "        while q[0][1] <= i - k:\n",
    "            heapq.heappop(q)\n",
    "        ans.append(-q[0][0])\n",
    "\n",
    "    return ans"
   ]
  },
  {
   "cell_type": "code",
   "execution_count": 23,
   "metadata": {},
   "outputs": [
    {
     "name": "stdout",
     "output_type": "stream",
     "text": [
      "[3, 3, 5, 5, 6, 7]\n"
     ]
    }
   ],
   "source": [
    "nums = [1, 3, -1, 3, 5, 3, 6, 7]\n",
    "# nums = [1, 2, 3]\n",
    "k = 3\n",
    "print(maxSlidingWindow3(nums, k))"
   ]
  },
  {
   "cell_type": "code",
   "execution_count": 28,
   "metadata": {},
   "outputs": [],
   "source": [
    "import collections\n",
    "\n",
    "# 单调队列\n",
    "def maxSlidingWindow4(nums, k):\n",
    "    n = len(nums)\n",
    "    q = collections.deque()\n",
    "    for i in range(k):\n",
    "        while q and nums[i] >= nums[q[-1]]:\n",
    "            q.pop()\n",
    "        q.append(i)\n",
    "\n",
    "    ans = [nums[q[0]]]\n",
    "    for i in range(k, n):\n",
    "        while q and nums[i] >= nums[q[-1]]:\n",
    "            q.pop()\n",
    "        q.append(i)\n",
    "        while q[0] <= i - k:\n",
    "            q.popleft()\n",
    "        ans.append(nums[q[0]])\n",
    "\n",
    "    return ans"
   ]
  },
  {
   "cell_type": "code",
   "execution_count": 29,
   "metadata": {},
   "outputs": [
    {
     "name": "stdout",
     "output_type": "stream",
     "text": [
      "[3, 3, 5, 5, 6, 7]\n"
     ]
    }
   ],
   "source": [
    "nums = [1, 3, -1, 3, 5, 3, 6, 7]\n",
    "# nums = [1, 2, 3]\n",
    "k = 3\n",
    "print(maxSlidingWindow4(nums, k))"
   ]
  },
  {
   "cell_type": "code",
   "execution_count": null,
   "metadata": {},
   "outputs": [],
   "source": []
  }
 ],
 "metadata": {
  "kernelspec": {
   "display_name": "Python 3",
   "language": "python",
   "name": "python3"
  },
  "language_info": {
   "codemirror_mode": {
    "name": "ipython",
    "version": 3
   },
   "file_extension": ".py",
   "mimetype": "text/x-python",
   "name": "python",
   "nbconvert_exporter": "python",
   "pygments_lexer": "ipython3",
   "version": "3.8.5"
  }
 },
 "nbformat": 4,
 "nbformat_minor": 4
}
