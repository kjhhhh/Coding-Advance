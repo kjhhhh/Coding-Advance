{
 "cells": [
  {
   "cell_type": "code",
   "execution_count": 4,
   "id": "27ccb902",
   "metadata": {},
   "outputs": [],
   "source": [
    "class Solution:\n",
    "    def hIndex(self, citations):\n",
    "        citations = citations[::-1] #将有序序列倒序，操作更方便 6 5 3 1 0\n",
    "        length = len(citations)\n",
    "        h = 0 #记录论文的数量\n",
    "        for i in range(length):\n",
    "            if citations[i] >= i+1:  #找到临界点\n",
    "                h = i+1\n",
    "        return h"
   ]
  },
  {
   "cell_type": "code",
   "execution_count": 5,
   "id": "0a81e4c5",
   "metadata": {},
   "outputs": [],
   "source": [
    "citations = [0,1,3,5,6]"
   ]
  },
  {
   "cell_type": "code",
   "execution_count": 6,
   "id": "ecd607db",
   "metadata": {},
   "outputs": [
    {
     "data": {
      "text/plain": [
       "3"
      ]
     },
     "execution_count": 6,
     "metadata": {},
     "output_type": "execute_result"
    }
   ],
   "source": [
    "Solution().hIndex(citations)"
   ]
  },
  {
   "cell_type": "code",
   "execution_count": 7,
   "id": "1a7408c5",
   "metadata": {},
   "outputs": [],
   "source": [
    "class Solution2:\n",
    "    def hIndex(self, citations):\n",
    "        leng=len(citations)\n",
    "        l=0\n",
    "        r=leng-1\n",
    "        while(l<=r):\n",
    "            mid=(l+r)//2\n",
    "            if(citations[mid]>=leng-mid):\n",
    "                r=mid-1\n",
    "            else:\n",
    "                l=mid+1\n",
    "        return leng-r-1"
   ]
  },
  {
   "cell_type": "code",
   "execution_count": 8,
   "id": "27a73ebe",
   "metadata": {},
   "outputs": [
    {
     "data": {
      "text/plain": [
       "3"
      ]
     },
     "execution_count": 8,
     "metadata": {},
     "output_type": "execute_result"
    }
   ],
   "source": [
    "Solution2().hIndex(citations)"
   ]
  }
 ],
 "metadata": {
  "kernelspec": {
   "display_name": "Python 3 (ipykernel)",
   "language": "python",
   "name": "python3"
  },
  "language_info": {
   "codemirror_mode": {
    "name": "ipython",
    "version": 3
   },
   "file_extension": ".py",
   "mimetype": "text/x-python",
   "name": "python",
   "nbconvert_exporter": "python",
   "pygments_lexer": "ipython3",
   "version": "3.11.0"
  }
 },
 "nbformat": 4,
 "nbformat_minor": 5
}
