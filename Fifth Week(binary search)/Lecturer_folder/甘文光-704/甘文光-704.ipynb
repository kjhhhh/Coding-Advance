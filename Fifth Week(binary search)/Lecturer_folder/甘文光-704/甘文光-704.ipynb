{
 "cells": [
  {
   "cell_type": "code",
   "execution_count": 4,
   "id": "35849202",
   "metadata": {},
   "outputs": [],
   "source": [
    "class Solution(object):\n",
    "    def search(self, nums, target):\n",
    "        \"\"\"\n",
    "        :type nums: List[int]\n",
    "        :type target: int\n",
    "        :rtype: int\n",
    "        \"\"\"\n",
    "        ls = len(nums)\n",
    "        if ls==0:\n",
    "            return -1\n",
    "        if ls==1:\n",
    "            if nums[0]==target:\n",
    "                return 0\n",
    "            else :\n",
    "                return -1\n",
    "        left = 0\n",
    "        right = ls-1\n",
    "        while right-left>1:\n",
    "            mid = left+(right-left)//2\n",
    "            if nums[mid]==target:\n",
    "                return mid\n",
    "            elif nums[mid]>target:\n",
    "                right = mid\n",
    "            else :\n",
    "                left = mid\n",
    "        if nums[left]==target:\n",
    "            return left\n",
    "        if nums[right]==target:\n",
    "            return right\n",
    "        return -1"
   ]
  },
  {
   "cell_type": "code",
   "execution_count": 2,
   "id": "cbf099dc",
   "metadata": {},
   "outputs": [],
   "source": [
    "nums = [-1,0,3,5,9,12]\n",
    "target = 9"
   ]
  },
  {
   "cell_type": "code",
   "execution_count": 5,
   "id": "6098845d",
   "metadata": {},
   "outputs": [
    {
     "data": {
      "text/plain": [
       "4"
      ]
     },
     "execution_count": 5,
     "metadata": {},
     "output_type": "execute_result"
    }
   ],
   "source": [
    "Solution().search(nums,target)"
   ]
  },
  {
   "cell_type": "code",
   "execution_count": null,
   "id": "4bf77f03",
   "metadata": {},
   "outputs": [],
   "source": []
  }
 ],
 "metadata": {
  "kernelspec": {
   "display_name": "Python 3 (ipykernel)",
   "language": "python",
   "name": "python3"
  },
  "language_info": {
   "codemirror_mode": {
    "name": "ipython",
    "version": 3
   },
   "file_extension": ".py",
   "mimetype": "text/x-python",
   "name": "python",
   "nbconvert_exporter": "python",
   "pygments_lexer": "ipython3",
   "version": "3.11.0"
  }
 },
 "nbformat": 4,
 "nbformat_minor": 5
}
