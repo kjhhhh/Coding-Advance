{
 "cells": [
  {
   "cell_type": "code",
   "execution_count": 27,
   "metadata": {},
   "outputs": [],
   "source": [
    "# 1、堆是用数据结构来实现的一种算法：树，数组均可。堆本身是一棵完全二叉树。\n",
    "# 2、特点：大根堆：所有父节点的值大于子节点的值。小根堆，所有父节点的值小于子节点的值。\n",
    "class Heap(object):\n",
    "    def __init__(self, list):\n",
    "        self.list = list\n",
    "        self.len=len(list)\n",
    "    \n",
    "        \n",
    "        \n",
    "    # 实现向下调整算法\n",
    "    def heapfy(self,node,len):\n",
    "        node_left=2*node+1\n",
    "        node_right=2*node+2\n",
    "        max=node\n",
    "        if node_left<len and self.list[node_left]>self.list[max]:\n",
    "            max=node_left\n",
    "        if node_right<len and self.list[node_right]>self.list[max] :\n",
    "            max=node_right\n",
    "        if max !=node:\n",
    "            self.list[max],self.list[node]=self.list[node],self.list[max]\n",
    "            self.heapfy(max,len)\n",
    "        \n",
    "    \n",
    "    # 建堆\n",
    "    def bulid_heap(self):\n",
    "        if self.list!=[]:\n",
    "            final_parent_node=int((self.len-1)/2)\n",
    "            while final_parent_node>=0:\n",
    "                self.heapfy(final_parent_node,self.len)\n",
    "                final_parent_node-=1\n",
    " \n",
    "        \n",
    "        \n",
    "    # 堆排序\n",
    "    def heap_sort(self):\n",
    "        len = self.len - 1\n",
    "        while len >= 0:\n",
    "            self.list[0],self.list[len]=self.list[len],self.list[0]\n",
    "            self.heapfy(0, len)\n",
    "            len -= 1\n"
   ]
  },
  {
   "cell_type": "code",
   "execution_count": 28,
   "metadata": {},
   "outputs": [
    {
     "name": "stdout",
     "output_type": "stream",
     "text": [
      "初始列表：[2, 9, 7, 8, 5, 0, 1, 6, 4, 3]\n",
      "构建大根堆：[9, 8, 7, 6, 5, 0, 1, 2, 4, 3]\n",
      "堆排序：[0, 1, 2, 3, 4, 5, 6, 7, 8, 9]\n"
     ]
    }
   ],
   "source": [
    "if __name__ == \"__main__\":\n",
    "    # list = [5, 7, 3, 1, 10, 0]\n",
    "    list=[2, 9, 7, 8, 5, 0, 1, 6, 4, 3]\n",
    "    heap = Heap(list)\n",
    "    print(\"初始列表：{}\".format(heap.list))\n",
    "    heap.bulid_heap()\n",
    "    print(\"构建大根堆：{}\".format(heap.list))\n",
    "    heap.heap_sort()\n",
    "    print(\"堆排序：{}\".format(heap.list))"
   ]
  },
  {
   "cell_type": "code",
   "execution_count": null,
   "metadata": {},
   "outputs": [],
   "source": [
    " \n"
   ]
  }
 ],
 "metadata": {
  "kernelspec": {
   "display_name": "Python 3",
   "language": "python",
   "name": "python3"
  },
  "language_info": {
   "codemirror_mode": {
    "name": "ipython",
    "version": 3
   },
   "file_extension": ".py",
   "mimetype": "text/x-python",
   "name": "python",
   "nbconvert_exporter": "python",
   "pygments_lexer": "ipython3",
   "version": "3.8.5"
  }
 },
 "nbformat": 4,
 "nbformat_minor": 4
}
