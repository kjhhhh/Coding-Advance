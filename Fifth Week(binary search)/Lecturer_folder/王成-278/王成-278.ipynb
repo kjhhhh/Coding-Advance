{
 "cells": [
  {
   "cell_type": "code",
   "execution_count": 12,
   "id": "0cd26c23",
   "metadata": {},
   "outputs": [],
   "source": [
    "class Solution:\n",
    "    \n",
    "    def __init__(self,n,m):\n",
    "        self.nums = [0]*(n+1)\n",
    "        for i in range(1,m):\n",
    "            self.nums[i]=1\n",
    "    \n",
    "    def isBadVersion(self,version):\n",
    "            return self.nums[version]!=1\n",
    "    \n",
    "    def firstBadVersion(self, n):\n",
    "        \n",
    "        left = 1\n",
    "        right = n\n",
    "        while left<right:\n",
    "            mid = left +(right-left)//2\n",
    "            if self.isBadVersion(mid):\n",
    "                right = mid\n",
    "            else:\n",
    "                left = mid+1\n",
    "        return left\n",
    "\n",
    "        "
   ]
  },
  {
   "cell_type": "code",
   "execution_count": 13,
   "id": "ff71326f",
   "metadata": {},
   "outputs": [
    {
     "data": {
      "text/plain": [
       "4"
      ]
     },
     "execution_count": 13,
     "metadata": {},
     "output_type": "execute_result"
    }
   ],
   "source": [
    "Solution(5,4).firstBadVersion(5)"
   ]
  }
 ],
 "metadata": {
  "kernelspec": {
   "display_name": "Python 3 (ipykernel)",
   "language": "python",
   "name": "python3"
  },
  "language_info": {
   "codemirror_mode": {
    "name": "ipython",
    "version": 3
   },
   "file_extension": ".py",
   "mimetype": "text/x-python",
   "name": "python",
   "nbconvert_exporter": "python",
   "pygments_lexer": "ipython3",
   "version": "3.11.0"
  }
 },
 "nbformat": 4,
 "nbformat_minor": 5
}
