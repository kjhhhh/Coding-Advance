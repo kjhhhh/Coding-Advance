{
 "cells": [
  {
   "cell_type": "code",
   "execution_count": 3,
   "id": "b6ace5e6",
   "metadata": {},
   "outputs": [],
   "source": [
    "def search_1(matrix,target):\n",
    "    for i in matrix:\n",
    "        for item in i:\n",
    "            if target == item:\n",
    "                return True\n",
    "    return False"
   ]
  },
  {
   "cell_type": "code",
   "execution_count": 4,
   "id": "63c26aa4",
   "metadata": {},
   "outputs": [],
   "source": [
    "matrix = [[1,4,7,11,15],[2,5,8,12,19],[3,6,9,16,22],[10,13,14,17,24],[18,21,23,26,30]]"
   ]
  },
  {
   "cell_type": "code",
   "execution_count": 5,
   "id": "a996746f",
   "metadata": {},
   "outputs": [
    {
     "data": {
      "text/plain": [
       "True"
      ]
     },
     "execution_count": 5,
     "metadata": {},
     "output_type": "execute_result"
    }
   ],
   "source": [
    "search_1(matrix,5)"
   ]
  },
  {
   "cell_type": "code",
   "execution_count": 12,
   "id": "28baf78c",
   "metadata": {},
   "outputs": [],
   "source": [
    "def binary_s(nums, target):\n",
    "    left, right = 0, len(nums)-1\n",
    "    while left <= right:\n",
    "        mid = (left + right) // 2\n",
    "        if nums[mid] == target:\n",
    "            return True\n",
    "        elif nums[mid] > target:\n",
    "            right = mid - 1\n",
    "        else:\n",
    "            left = mid + 1\n",
    "    return False\n",
    "    "
   ]
  },
  {
   "cell_type": "code",
   "execution_count": 13,
   "id": "5c00af59",
   "metadata": {},
   "outputs": [],
   "source": [
    "def search_2(matrix, target):\n",
    "    for i in range(len(matrix)):\n",
    "        if binary_s(matrix[i],target):\n",
    "            return True\n",
    "    return False"
   ]
  },
  {
   "cell_type": "code",
   "execution_count": 14,
   "id": "b72e3c2f",
   "metadata": {},
   "outputs": [
    {
     "data": {
      "text/plain": [
       "True"
      ]
     },
     "execution_count": 14,
     "metadata": {},
     "output_type": "execute_result"
    }
   ],
   "source": [
    "search_2(matrix,5)"
   ]
  },
  {
   "cell_type": "code",
   "execution_count": 17,
   "id": "b45e3c2c",
   "metadata": {},
   "outputs": [],
   "source": [
    "def search_3(matrix,target):\n",
    "    rows, cols = len(matrix), len(matrix[0])\n",
    "    row , col = 0, cols - 1\n",
    "    while row < rows and col >= 0:\n",
    "        current = matrix[row][col]\n",
    "        if target > current:\n",
    "            row += 1\n",
    "        elif target < current:\n",
    "            col -= 1\n",
    "        else:\n",
    "            return True\n",
    "    return False"
   ]
  },
  {
   "cell_type": "code",
   "execution_count": 18,
   "id": "b99e389a",
   "metadata": {},
   "outputs": [
    {
     "data": {
      "text/plain": [
       "True"
      ]
     },
     "execution_count": 18,
     "metadata": {},
     "output_type": "execute_result"
    }
   ],
   "source": [
    "search_3(matrix,5)"
   ]
  },
  {
   "cell_type": "code",
   "execution_count": null,
   "id": "bf0e9a0b",
   "metadata": {},
   "outputs": [],
   "source": []
  }
 ],
 "metadata": {
  "kernelspec": {
   "display_name": "Python 3 (ipykernel)",
   "language": "python",
   "name": "python3"
  },
  "language_info": {
   "codemirror_mode": {
    "name": "ipython",
    "version": 3
   },
   "file_extension": ".py",
   "mimetype": "text/x-python",
   "name": "python",
   "nbconvert_exporter": "python",
   "pygments_lexer": "ipython3",
   "version": "3.10.9"
  }
 },
 "nbformat": 4,
 "nbformat_minor": 5
}
